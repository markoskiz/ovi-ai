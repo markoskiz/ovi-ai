{
 "cells": [
  {
   "cell_type": "markdown",
   "id": "e325e5c9",
   "metadata": {
    "tags": []
   },
   "source": [
    "# Натпревар 2022/23 - Амазон"
   ]
  },
  {
   "cell_type": "markdown",
   "id": "37d99a43",
   "metadata": {},
   "source": [
    "Имате задача да создадете вештачка интелигенција која ќе умее да ја игра играта [Амазон](https://en.wikipedia.org/wiki/Game_of_the_Amazons).\n",
    "\n",
    "## Правила на играта\n",
    "\n",
    "За разлика од официјалните правила на играта, играта на овој натпревар ќе се игра така што ќе важат следните измени.\n",
    "- Се игра една против една кралица, означени со ѕвезда (S) и пентагон (P).\n",
    "- Се игра на табла 6х6.\n",
    "- Почетната позицијата на кралиците е дадена во променливата `initial_board`.\n",
    "\n",
    "Останатите правила се исти како официјалната игра.\n",
    "\n",
    "## Правила на натпреварот\n",
    "\n",
    "- На натпреварот се учествува со пријавување на пајтон скрипта (.py).\n",
    "    - Скриптата `player.py` ви е дадена за урнек / почетна скрипта.\n",
    "    - Слободно менувајте што сакате во скриптата.\n",
    "        - Ама функцијата `get_move_official()` не смее да се менува.\n",
    "        - Променливата `NAME` треба да го содржи вашето име и презиме.\n",
    "    - Скриптата се прикачува на е-курсеви, на соодветното место за натпреварот.\n",
    "- Датумот на натпреварот ќе биде одреден по договор на некој од часовите.\n",
    "- Концептот на натпреварот е лига.\n",
    "    - Секој играч игра против секој, по два пати, еднаш напаѓа, еднаш се брани.\n",
    "    - Секоја победа се вреднува со 1 поен, а поразот се вреднува со 0 поени.\n",
    "    - Во случај на изедначи поени на 2 или повеќе натпреварувачи, подобро ќе биде пласиран играчот кој победувал со поголем број преостанати празни полиња и губел со помал број преостанати празни полиња (исто како дадени и примени голови во фудбалот).\n",
    "- Политика за потезите.\n",
    "    - Времетрањето на еден потег е 10 секунди.\n",
    "    - Форматот на потегот кој треба да го врати вашата функција е опишан во описот на функцијата `get_move_official()`.\n",
    "    - Ако вашата скрипта не врати потег во предвиденото време, или пак потегот не е според дефинираниот формат, потегот се смета за невалиден, па симулаторот ќе ви определи потег по случаен избор.\n",
    "- Првите 5 натправарувачи добиваат бонус поени.\n",
    "    - Прво место: 5 поени.\n",
    "    - Второ место: 4 поени.\n",
    "    - Трето место: 3 поени.\n",
    "    - Четврто место: 2 поени.\n",
    "    - Петто место: 1 поен.\n",
    "- Оваа тетратка можете да ја користете за тестирање на скриптата која ќе ја напишете.\n",
    "- Програмската околина за натпреварот е конда околина каква што користиме за предметот. Ако ви треба дополнителни пакети, известете ме за да ги инсталирам."
   ]
  },
  {
   "cell_type": "code",
   "execution_count": 1,
   "id": "46e10ddd",
   "metadata": {},
   "outputs": [],
   "source": [
    "import importlib\n",
    "from amazons import Game"
   ]
  },
  {
   "cell_type": "code",
   "execution_count": 2,
   "id": "c12a37a8-1104-49b4-a6d7-edfe2f75050a",
   "metadata": {},
   "outputs": [],
   "source": [
    "def reload_player_script(script_name):\n",
    "    module = importlib.import_module(script_name)\n",
    "    module = importlib.reload(module)\n",
    "    return module"
   ]
  },
  {
   "cell_type": "code",
   "execution_count": 3,
   "id": "4cb2b429-bceb-4637-9557-99b9fcd1bafb",
   "metadata": {},
   "outputs": [
    {
     "data": {
      "text/plain": [
       "[['·', '·', '·', '·', '·', '·'],\n",
       " ['·', '·', '·', '·', '·', 'P'],\n",
       " ['·', '·', '·', '·', '·', '·'],\n",
       " ['·', '·', '·', '·', '·', '·'],\n",
       " ['S', '·', '·', '·', '·', '·'],\n",
       " ['·', '·', '·', '·', '·', '·']]"
      ]
     },
     "execution_count": 3,
     "metadata": {},
     "output_type": "execute_result"
    }
   ],
   "source": [
    "initial_board = [\n",
    "    ['·', '·', '·', '·', '·', '·'],\n",
    "    ['·', '·', '·', '·', '·', 'P'],\n",
    "    ['·', '·', '·', '·', '·', '·'],\n",
    "    ['·', '·', '·', '·', '·', '·'],\n",
    "    ['S', '·', '·', '·', '·', '·'],\n",
    "    ['·', '·', '·', '·', '·', '·'],\n",
    "]\n",
    "initial_board"
   ]
  },
  {
   "cell_type": "markdown",
   "id": "3f865df1-2e1b-4737-a79c-ccf091c2e5cd",
   "metadata": {
    "tags": []
   },
   "source": [
    "## ВИ против човек"
   ]
  },
  {
   "cell_type": "code",
   "execution_count": 4,
   "id": "89e83eb3-3be4-4a04-a433-b2cf91a38160",
   "metadata": {},
   "outputs": [
    {
     "data": {
      "application/vnd.jupyter.widget-view+json": {
       "model_id": "1c7be65285804057b767cae24b7f20bc",
       "version_major": 2,
       "version_minor": 0
      },
      "text/plain": [
       "VBox(children=(HBox(children=(Button(description='Рестартирај', style=ButtonStyle()), HTML(value='На ред е <b>…"
      ]
     },
     "metadata": {},
     "output_type": "display_data"
    }
   ],
   "source": [
    "state = [\n",
    "    ['·', '·', '·', '·', '·', '·'],\n",
    "    ['·', '·', '·', '·', '·', 'P'],\n",
    "    ['·', '·', '·', '·', '·', '·'],\n",
    "    ['·', '·', '·', '·', '·', '·'],\n",
    "    ['S', '·', '·', '·', '·', '·'],\n",
    "    ['·', '·', '·', '·', '·', '·'],\n",
    "]\n",
    "\n",
    "script_1 = reload_player_script('player')\n",
    "player_1 = {'name': script_1.NAME, 'script': script_1, 'type': 'AI'}\n",
    "player_2 = {'name': 'Човек', 'script': None, 'type': 'human'}\n",
    "game = Game(state, player_1, player_2, time_to_play=10)\n",
    "game.initiate_turn()"
   ]
  },
  {
   "cell_type": "markdown",
   "id": "131cd292-771a-407e-a7ca-c2380719796e",
   "metadata": {},
   "source": [
    "## ВИ против ВИ\n",
    "\n",
    "Направи нова скрипта ако сакаш да гледаш ВИ против ВИ."
   ]
  },
  {
   "cell_type": "code",
   "execution_count": 5,
   "id": "532ff316-8b5b-4437-bb84-16f29788dbef",
   "metadata": {},
   "outputs": [
    {
     "data": {
      "application/vnd.jupyter.widget-view+json": {
       "model_id": "801820836a2f494dbb99eebae04f655d",
       "version_major": 2,
       "version_minor": 0
      },
      "text/plain": [
       "VBox(children=(HBox(children=(Button(description='Рестартирај', style=ButtonStyle()), HTML(value='На ред е <b>…"
      ]
     },
     "metadata": {},
     "output_type": "display_data"
    }
   ],
   "source": [
    "state = [\n",
    "    ['·', '·', '·', '·', '·', '·'],\n",
    "    ['·', '·', '·', '·', '·', 'P'],\n",
    "    ['·', '·', '·', '·', '·', '·'],\n",
    "    ['·', '·', '·', '·', '·', '·'],\n",
    "    ['S', '·', '·', '·', '·', '·'],\n",
    "    ['·', '·', '·', '·', '·', '·'],\n",
    "]\n",
    "\n",
    "script_1 = reload_player_script('player')\n",
    "player_1 = {'name': script_1.NAME, 'script': script_1, 'type': 'AI'}\n",
    "script_2 = reload_player_script('player2')\n",
    "player_2 = {'name': script_2.NAME, 'script': script_2, 'type': 'AI'}\n",
    "game = Game(state, player_2, player_1, time_to_play=10)\n",
    "game.initiate_turn()"
   ]
  },
  {
   "cell_type": "code",
   "execution_count": null,
   "id": "84d03dd3-3ceb-48a0-9ecd-4f8794e6f6fe",
   "metadata": {},
   "outputs": [],
   "source": []
  },
  {
   "cell_type": "code",
   "execution_count": null,
   "id": "192ba29f-34e0-4e22-98a8-af4e18b18a3b",
   "metadata": {},
   "outputs": [],
   "source": []
  },
  {
   "cell_type": "code",
   "execution_count": null,
   "id": "f8d9f87c-f911-4601-9c3a-d61a753cda25",
   "metadata": {},
   "outputs": [],
   "source": []
  }
 ],
 "metadata": {
  "kernelspec": {
   "display_name": "Python 3 (ipykernel)",
   "language": "python",
   "name": "python3"
  },
  "language_info": {
   "codemirror_mode": {
    "name": "ipython",
    "version": 3
   },
   "file_extension": ".py",
   "mimetype": "text/x-python",
   "name": "python",
   "nbconvert_exporter": "python",
   "pygments_lexer": "ipython3",
   "version": "3.10.8"
  }
 },
 "nbformat": 4,
 "nbformat_minor": 5
}
