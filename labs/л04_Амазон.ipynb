{
 "cells": [
  {
   "cell_type": "markdown",
   "metadata": {
    "tags": []
   },
   "source": [
    "# Амазон"
   ]
  },
  {
   "cell_type": "markdown",
   "metadata": {},
   "source": [
    "Имате задача да создадете вештачка интелигенција која ќе умее да ја игра играта [Амазон](https://en.wikipedia.org/wiki/Game_of_the_Amazons).\n",
    "\n",
    "За пример-решение, следете го решението на играта Икс-точка од аудиториските вежби.\n",
    "\n",
    "За поедноставна работа, применете ги овие измени:\n",
    "- Наместо по две кралици, играчите во играта нека имаат по една кралица.\n",
    "- Наместо 10х10, таблата нека има димензии 5х5."
   ]
  },
  {
   "cell_type": "code",
   "execution_count": null,
   "metadata": {},
   "outputs": [],
   "source": []
  },
  {
   "cell_type": "code",
   "execution_count": null,
   "metadata": {},
   "outputs": [],
   "source": []
  },
  {
   "cell_type": "code",
   "execution_count": null,
   "metadata": {},
   "outputs": [],
   "source": []
  }
 ],
 "metadata": {
  "kernelspec": {
   "display_name": "Python 3",
   "language": "python",
   "name": "python3"
  },
  "language_info": {
   "codemirror_mode": {
    "name": "ipython",
    "version": 3
   },
   "file_extension": ".py",
   "mimetype": "text/x-python",
   "name": "python",
   "nbconvert_exporter": "python",
   "pygments_lexer": "ipython3",
   "version": "3.7.8"
  }
 },
 "nbformat": 4,
 "nbformat_minor": 5
}
