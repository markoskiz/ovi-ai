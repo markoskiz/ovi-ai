{
 "cells": [
  {
   "cell_type": "markdown",
   "id": "389a6c7b-92de-412d-a029-aa2524de424d",
   "metadata": {
    "tags": []
   },
   "source": [
    "# Државни Патишта\n",
    "\n",
    "## Лабораториска вежба 2"
   ]
  },
  {
   "cell_type": "markdown",
   "id": "4f7a3321-3ad8-4830-bd05-33fa52ce27a9",
   "metadata": {},
   "source": [
    "Задачи:\n",
    "\n",
    "- Користејќи ги податоците за државните патишта во папката `code/data/roads`, направете граф од патиштата во Македонија.\n",
    "- Бидејќи податоците се само за државните патишта, а не и општинските, испаѓа дека има клучки кои се неповрзани со сите останати. Избројте колку такви засебни графови има во податоците.\n",
    "- Користејќи го кодот од ваш постар колега, Васе Трендафилов, прикачен во `code/Maps.ipynb`, направете мапа каде секоја клучка ќе биде претставена со посебна боја. Ова всушност веќе е направено, ама издвојте го кодот кој ви треба.\n",
    "- Поврзете ги точките со линии, за да можеме да ја визуелизираме патната мрежа во Македонија. Побарајте помош од [документацијата на Плотли](https://plotly.com/python/), и [примерите за цртање scatter plot](https://plotly.com/python/line-and-scatter/) попрецизно.\n",
    "\n",
    "Бонус задача за 3 поени:\n",
    "\n",
    "- Користејќи ја тетратката Roads_scrapper во папката `other`, симнете ги најновите податоци за државните патишта од страната на Јавното Претппријатие за Државни Патишта. Скриптата најверојатно ќе проработи од прва, откако ќе го инсталирате пакетот selenium и gecko драјверот на Firefox, а можеби и нема, па ќе треба да ја поправите, или пак да ја вклучите повторно ако процесот за прибирање податоци се прекине ненадејно. Првиот студент кој ќе направи merge-request на гитлаб, со прибраните податоци, ги добива поените."
   ]
  },
  {
   "cell_type": "code",
   "execution_count": null,
   "id": "ded438a0-c85b-4b19-a94b-23632a700454",
   "metadata": {},
   "outputs": [],
   "source": []
  },
  {
   "cell_type": "code",
   "execution_count": null,
   "id": "c6a8938e-bab6-40b7-bc66-9a27e1da6000",
   "metadata": {},
   "outputs": [],
   "source": []
  },
  {
   "cell_type": "code",
   "execution_count": null,
   "id": "ddc03996-cfc7-4150-81a8-9301228b237e",
   "metadata": {},
   "outputs": [],
   "source": []
  }
 ],
 "metadata": {
  "kernelspec": {
   "display_name": "Python 3 (ipykernel)",
   "language": "python",
   "name": "python3"
  },
  "language_info": {
   "codemirror_mode": {
    "name": "ipython",
    "version": 3
   },
   "file_extension": ".py",
   "mimetype": "text/x-python",
   "name": "python",
   "nbconvert_exporter": "python",
   "pygments_lexer": "ipython3",
   "version": "3.11.5"
  }
 },
 "nbformat": 4,
 "nbformat_minor": 5
}
