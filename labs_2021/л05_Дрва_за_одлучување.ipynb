{
 "cells": [
  {
   "cell_type": "markdown",
   "id": "94a6f82d",
   "metadata": {
    "tags": []
   },
   "source": [
    "# Дрва за одлучување"
   ]
  },
  {
   "cell_type": "markdown",
   "id": "aa092b19-3a2e-486c-94f1-3b75ad63232f",
   "metadata": {},
   "source": [
    "Користејќи ја библиотеката sklearn, истренирајте класификатор од дрва за одлучување врз множество податоци по ваш избор од збирката. За помош користете ја тетратката од аудиториските вежби за дрва за одлучување, како и документацијата и примерите од официјалната страна на sklearn."
   ]
  },
  {
   "cell_type": "code",
   "execution_count": null,
   "id": "70b6a8e1",
   "metadata": {},
   "outputs": [],
   "source": []
  },
  {
   "cell_type": "code",
   "execution_count": null,
   "id": "a41d8d7a",
   "metadata": {},
   "outputs": [],
   "source": []
  },
  {
   "cell_type": "code",
   "execution_count": null,
   "id": "a9d3fc4c",
   "metadata": {},
   "outputs": [],
   "source": []
  }
 ],
 "metadata": {
  "kernelspec": {
   "display_name": "Python 3 (ipykernel)",
   "language": "python",
   "name": "python3"
  },
  "language_info": {
   "codemirror_mode": {
    "name": "ipython",
    "version": 3
   },
   "file_extension": ".py",
   "mimetype": "text/x-python",
   "name": "python",
   "nbconvert_exporter": "python",
   "pygments_lexer": "ipython3",
   "version": "3.9.7"
  }
 },
 "nbformat": 4,
 "nbformat_minor": 5
}
