{
 "cells": [
  {
   "cell_type": "markdown",
   "id": "94a6f82d",
   "metadata": {
    "tags": []
   },
   "source": [
    "# Невронски мрежи"
   ]
  },
  {
   "cell_type": "markdown",
   "id": "aa092b19-3a2e-486c-94f1-3b75ad63232f",
   "metadata": {},
   "source": [
    "Користејќи ја невронската мрежа од аудиториските вежби, напишете код кој ќе исцртува права помеѓу дадените податоци според тоа како невронската мрежа има научено да го дели множеството. За пример земете ја задачата 6.60 од збирката.\n",
    "\n",
    "За помош ќе ви се најде [овој код](https://github.com/rasbt/stat453-deep-learning-ss21/tree/main/L03/code) од професорот Себастијан Рашка."
   ]
  },
  {
   "cell_type": "code",
   "execution_count": null,
   "id": "b465179d-49ac-4114-af5e-75b372cfa04a",
   "metadata": {},
   "outputs": [],
   "source": []
  },
  {
   "cell_type": "code",
   "execution_count": null,
   "id": "a41d8d7a",
   "metadata": {},
   "outputs": [],
   "source": []
  },
  {
   "cell_type": "code",
   "execution_count": null,
   "id": "a9d3fc4c",
   "metadata": {},
   "outputs": [],
   "source": []
  }
 ],
 "metadata": {
  "kernelspec": {
   "display_name": "Python 3 (ipykernel)",
   "language": "python",
   "name": "python3"
  },
  "language_info": {
   "codemirror_mode": {
    "name": "ipython",
    "version": 3
   },
   "file_extension": ".py",
   "mimetype": "text/x-python",
   "name": "python",
   "nbconvert_exporter": "python",
   "pygments_lexer": "ipython3",
   "version": "3.9.7"
  }
 },
 "nbformat": 4,
 "nbformat_minor": 5
}
