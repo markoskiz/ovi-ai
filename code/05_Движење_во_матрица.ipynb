{
 "cells": [
  {
   "cell_type": "markdown",
   "metadata": {},
   "source": [
    "# Движење во матрица"
   ]
  },
  {
   "cell_type": "markdown",
   "metadata": {},
   "source": [
    "## Референци\n",
    "\n",
    "- [Растојание Чебишев](https://en.wikipedia.org/wiki/Chebyshev_distance)\n",
    "- [Растојание Менхетен](https://en.wikipedia.org/wiki/Taxicab_geometry)\n",
    "- [Растојание Евклид](https://en.wikipedia.org/wiki/Euclidean_distance)"
   ]
  },
  {
   "cell_type": "code",
   "execution_count": 1,
   "metadata": {},
   "outputs": [
    {
     "data": {
      "image/jpeg": "[encoded data removed]",
      "text/html": [
       "\n",
       "        <iframe\n",
       "            width=\"400\"\n",
       "            height=\"300\"\n",
       "            src=\"https://www.youtube.com/embed/O5hDX-pHDag\"\n",
       "            frameborder=\"0\"\n",
       "            allowfullscreen\n",
       "        ></iframe>\n",
       "        "
      ],
      "text/plain": [
       "<IPython.lib.display.YouTubeVideo at 0x7fefb05c9670>"
      ]
     },
     "execution_count": 1,
     "metadata": {},
     "output_type": "execute_result"
    }
   ],
   "source": [
    "from IPython.lib.display import YouTubeVideo\n",
    "YouTubeVideo('O5hDX-pHDag')"
   ]
  },
  {
   "cell_type": "code",
   "execution_count": 2,
   "metadata": {},
   "outputs": [],
   "source": [
    "from collections import deque\n",
    "import heapq\n",
    "from plotly import graph_objects as go\n",
    "import ipywidgets as widgets"
   ]
  },
  {
   "cell_type": "code",
   "execution_count": 3,
   "metadata": {},
   "outputs": [],
   "source": [
    "def breadth_first_search(starting_vertex, goal_vertex):\n",
    "    \"\"\"\n",
    "    Returns the path from starting_vertex to goal_vertex using the breadth first search algorithm.\n",
    "    \"\"\"\n",
    "    visited = {starting_vertex}\n",
    "    queue = deque([[starting_vertex]])\n",
    "    while queue:\n",
    "        vertex_list = queue.popleft()\n",
    "        vertex_to_expand = vertex_list[-1]\n",
    "        \n",
    "        frontier = list(set([q[-1] for q in queue]))\n",
    "        yield frontier, vertex_list, vertex_to_expand\n",
    "        \n",
    "        for neighbour in expand_state(vertex_to_expand):\n",
    "            if neighbour not in visited:\n",
    "                visited.add(neighbour)\n",
    "                queue.append(vertex_list + [neighbour])\n",
    "    yield [], [], goal_vertex"
   ]
  },
  {
   "cell_type": "code",
   "execution_count": 4,
   "metadata": {},
   "outputs": [],
   "source": [
    "def depth_first_search(starting_vertex, goal_vertex):\n",
    "    \"\"\"\n",
    "    Returns the path from starting_vertex to goal_vertex using the depth first search algorithm.\n",
    "    \"\"\"\n",
    "    visited = {starting_vertex}\n",
    "    queue = deque([[starting_vertex]])\n",
    "    while queue:\n",
    "        vertex_list = queue.popleft()\n",
    "        vertex_to_expand = vertex_list[-1]\n",
    "        \n",
    "        frontier = list(set([q[-1] for q in queue]))\n",
    "        yield frontier, vertex_list, vertex_to_expand\n",
    "        \n",
    "        for neighbour in expand_state(vertex_to_expand):\n",
    "            if neighbour not in visited:\n",
    "                visited.add(neighbour)\n",
    "                queue.appendleft(vertex_list + [neighbour])\n",
    "    yield [], [], goal_vertex"
   ]
  },
  {
   "cell_type": "code",
   "execution_count": 5,
   "metadata": {},
   "outputs": [],
   "source": [
    "def uniform_cost_search(starting_vertex, goal_vertex):\n",
    "    \"\"\"\n",
    "    Returns the path from starting_vertex to goal_vertex using the uniform-cost search algorithm.\n",
    "    \"\"\"\n",
    "    expanded = set()\n",
    "    queue = [(0, [starting_vertex])]\n",
    "    heapq.heapify(queue)\n",
    "    while queue:\n",
    "        weight, vertex_list = heapq.heappop(queue)\n",
    "        vertex_to_expand = vertex_list[-1]\n",
    "        if vertex_to_expand in expanded:\n",
    "            continue\n",
    "\n",
    "        frontier = list(set([q[-1][-1] for q in queue]))\n",
    "        yield frontier, vertex_list, vertex_to_expand\n",
    "        \n",
    "        for neighbour in expand_state(vertex_to_expand):\n",
    "            new_weight = get_weight(vertex_to_expand, neighbour)\n",
    "            if neighbour not in expanded:\n",
    "                heapq.heappush(queue, (weight + new_weight, vertex_list + [neighbour]))\n",
    "        expanded.add(vertex_to_expand)\n",
    "    yield [], [], goal_vertex"
   ]
  },
  {
   "cell_type": "code",
   "execution_count": 6,
   "metadata": {},
   "outputs": [],
   "source": [
    "def gready_search(starting_vertex, goal_vertex):\n",
    "    \"\"\"\n",
    "    Returns the path from starting_vertex to goal_vertex using the gready search algorithm.\n",
    "    \"\"\"\n",
    "    expanded = set()\n",
    "    queue = [(0, [starting_vertex])]\n",
    "    heapq.heapify(queue)\n",
    "    while queue:\n",
    "        weight, vertex_list = heapq.heappop(queue)\n",
    "        vertex_to_expand = vertex_list[-1]\n",
    "        if vertex_to_expand in expanded:\n",
    "            continue\n",
    "\n",
    "        frontier = list(set([q[-1][-1] for q in queue]))\n",
    "        yield frontier, vertex_list, vertex_to_expand\n",
    "        \n",
    "        for neighbour in expand_state(vertex_to_expand):\n",
    "            heuristic = manhattan_distance(neighbour, goal_vertex)\n",
    "            if neighbour not in expanded:\n",
    "                heapq.heappush(queue, (heuristic, vertex_list + [neighbour]))\n",
    "        expanded.add(vertex_to_expand)\n",
    "    yield [], [], goal_vertex"
   ]
  },
  {
   "cell_type": "code",
   "execution_count": 7,
   "metadata": {},
   "outputs": [],
   "source": [
    "def a_star_search(starting_vertex, goal_vertex, alpha):\n",
    "    \"\"\"\n",
    "    Returns the path from starting_vertex to goal_vertex using the a* search algorithm.\n",
    "    \"\"\"\n",
    "    expanded = set()\n",
    "    queue = [((0, 0), [starting_vertex])]\n",
    "    heapq.heapify(queue)\n",
    "    while queue:\n",
    "        weight_tupple, vertex_list = heapq.heappop(queue)\n",
    "        current_a_star_weight, current_path_weight = weight_tupple\n",
    "        vertex_to_expand = vertex_list[-1]\n",
    "        if vertex_to_expand in expanded:\n",
    "            continue\n",
    "\n",
    "        frontier = list(set([q[-1][-1] for q in queue]))\n",
    "        yield frontier, vertex_list, vertex_to_expand\n",
    "        \n",
    "        for neighbour in expand_state(vertex_to_expand):\n",
    "            if neighbour not in expanded:\n",
    "                new_weight = get_weight(vertex_to_expand, neighbour)\n",
    "                heuristic = manhattan_distance(neighbour, goal_vertex)\n",
    "                path_weight = current_path_weight + new_weight\n",
    "                a_star_weight = path_weight + alpha * heuristic\n",
    "                heapq.heappush(queue, ((a_star_weight, path_weight), vertex_list + [neighbour]))\n",
    "        expanded.add(vertex_to_expand)\n",
    "    yield [], [], goal_vertex"
   ]
  },
  {
   "cell_type": "code",
   "execution_count": 8,
   "metadata": {},
   "outputs": [],
   "source": [
    "def manhattan_distance(state_1, state_2):\n",
    "    return abs(state_1[0] - state_2[0]) + abs(state_1[1] - state_2[1])"
   ]
  },
  {
   "cell_type": "code",
   "execution_count": 9,
   "metadata": {},
   "outputs": [],
   "source": [
    "def get_weight(source_state, destination_state):\n",
    "    source_x, source_y = source_state\n",
    "    destination_x, destination_y = destination_state\n",
    "    weight = MOUNTAIN[destination_y][destination_x][0] - MOUNTAIN[source_y][source_x][0]\n",
    "    return 1 + max(weight, 0)"
   ]
  },
  {
   "cell_type": "code",
   "execution_count": 14,
   "metadata": {},
   "outputs": [],
   "source": [
    "def expand_state(state):\n",
    "    next_states = []\n",
    "    x, y = state\n",
    "    \n",
    "    def is_valid(square):\n",
    "        x, y = square\n",
    "        if not(0 <= x < COLUMNS) or not(0 <= y < ROWS):\n",
    "            return False\n",
    "        for wall in WALLS:\n",
    "            if wall['x'][0] < x < wall['x'][1] and wall['y'][0] < y < wall['y'][1]:\n",
    "                return False\n",
    "        return True\n",
    "        \n",
    "    neighbour_states = [\n",
    "        (x+1, y), (x-1, y), (x, y+1), (x, y-1), \n",
    "        (x-1, y-1), (x-1, y+1), (x+1, y-1), (x+1, y+1)]\n",
    "    for neighbour_state in neighbour_states:\n",
    "        if is_valid(neighbour_state):\n",
    "            next_states.append(neighbour_state)\n",
    "    \n",
    "    return next_states"
   ]
  },
  {
   "cell_type": "code",
   "execution_count": 34,
   "metadata": {},
   "outputs": [
    {
     "data": {
      "application/vnd.jupyter.widget-view+json": {
       "model_id": "df6a1cc5a7ed44859d574a0e8e2746d9",
       "version_major": 2,
       "version_minor": 0
      },
      "text/plain": [
       "VBox(children=(HBox(children=(Play(value=0, interval=10, max=3000, show_repeat=False), Button(description='Чек…"
      ]
     },
     "metadata": {},
     "output_type": "display_data"
    }
   ],
   "source": [
    "def update_fig(x):\n",
    "    if button.disabled is True:\n",
    "        return\n",
    "    else:\n",
    "        frontier, current_path, vertex_to_expand = next(simulation)\n",
    "        if vertex_to_expand in GOAL:\n",
    "            button.disabled = True\n",
    "            play.disabled = True\n",
    "            play.value = play.max\n",
    "    path_x = [segment[0] for segment in current_path]\n",
    "    path_y = [segment[1] for segment in current_path]\n",
    "    frontier_x = [segment[0] for segment in frontier]\n",
    "    frontier_y = [segment[1] for segment in frontier]\n",
    "    with fig.batch_update():\n",
    "        fig.data[1].x = path_x\n",
    "        fig.data[1].y = path_y\n",
    "        fig.data[2].x = frontier_x\n",
    "        fig.data[2].y = frontier_y\n",
    "        fig.data[3].x = [vertex_to_expand[0]]\n",
    "        fig.data[3].y = [vertex_to_expand[1]]\n",
    "\n",
    "def create_button():\n",
    "    button = widgets.Button(description='Чекор')\n",
    "    button.on_click(update_fig)\n",
    "    return button\n",
    "\n",
    "def create_play():\n",
    "    play = widgets.Play(value=0, max=3000, interval=10, show_repeat=False)\n",
    "    play.observe(update_fig, 'value')\n",
    "    return play\n",
    "\n",
    "def create_mountain():\n",
    "    def f(x, y):\n",
    "        return 1 - (x - 2 * COLUMNS // 3) ** 2 - (y - ROWS // 2) ** 2\n",
    "\n",
    "    mountain = [[f(x, y) for x in range(COLUMNS)] for y in range(ROWS)]\n",
    "    min_value = min(min(mountain))\n",
    "    for y in range(ROWS):\n",
    "        for x in range(COLUMNS):\n",
    "            mountain[y][x] = [mountain[y][x] - min_value] * 3\n",
    "    \n",
    "    min_value = min(min(min(mountain)))\n",
    "    max_value = max(max(max(mountain)))\n",
    "    mountain_image = go.Image(z=mountain, zmin=[min_value]*4, zmax=[max_value]*4)\n",
    "    return mountain, mountain_image\n",
    "\n",
    "def create_fig():\n",
    "    fig = go.FigureWidget()\n",
    "\n",
    "    for wall in WALLS:\n",
    "        fig.add_shape(\n",
    "            type='rect', fillcolor='RoyalBlue', \n",
    "            x0=wall['x'][0], x1=wall['x'][1], \n",
    "            y0=wall['y'][0], y1=wall['y'][1])\n",
    "\n",
    "    fig.add_trace(mountain_image)\n",
    "    fig.add_scatter(mode='lines', name='Патека')\n",
    "    fig.add_scatter(mode='markers', name='Фронт')\n",
    "    fig.add_scatter(marker_symbol='x', marker_size=12, name='Нареден')\n",
    "    fig.add_scatter(x =[START[0]], y=[START[1]], marker_symbol='x', marker_size=12, name='Почеток')\n",
    "    x = [g[0] for g in GOAL]\n",
    "    y = [g[1] for g in GOAL]\n",
    "    fig.add_scatter(x=x, y=y, marker_symbol='x', marker_size=12, name='Цел', mode='markers')\n",
    "\n",
    "    fig.update_xaxes(range=[-0.5, COLUMNS - 0.5], dtick=1)\n",
    "    fig.update_yaxes(range=[-0.5, ROWS - 0.5], dtick=1)\n",
    "    fig.update_layout(width=36*COLUMNS, height=36*ROWS)\n",
    "    return fig\n",
    "\n",
    "ROWS, COLUMNS = 20, 30\n",
    "WALLS = [\n",
    "    {'x': (12.5, 23.5), 'y': (7.5, 9.5)},\n",
    "    {'x': (8.5, 10.5), 'y': (2.5, 13.5)},\n",
    "    {'x': (16.5, 19.5), 'y': (12.5, 16.5)},\n",
    "]\n",
    "START = (4, 4)\n",
    "GOAL = [(29, 9) , (20, 6), (14, 11)]\n",
    "MOUNTAIN, mountain_image = create_mountain()\n",
    "simulation = breadth_first_search(START, GOAL)\n",
    "\n",
    "play = create_play()\n",
    "button = create_button()\n",
    "fig = create_fig()\n",
    "widgets.VBox([widgets.HBox([play, button]), fig])"
   ]
  },
  {
   "cell_type": "markdown",
   "metadata": {},
   "source": [
    "## Задачи за самостојна работа\n",
    "\n",
    "1. Надградете ја симулацијата така што агентот ќе може да се движи и во косо, односно во сите 8 насоки.\n",
    "1. Надградете ја симулацијата така што целта нема да биде единствена, туку ќе биде сочинета од повеќе различни полиња.\n",
    "    1. Во еден случај агентот треба да стигне до само едно поле од целта.\n",
    "    1. Во друг случај агентот треба да стигне до сите полиња од целта, во произволен редослед.\n",
    "    1. Во трет случај агентот треба да стигне до сите полиња од целта, во редослед чија сума на должините на делниците би била најмала.\n",
    "1. Испитајте ја разликата помеѓу евклидовото растојание и менхетен за функцијата за евристика."
   ]
  },
  {
   "cell_type": "markdown",
   "metadata": {
    "jp-MarkdownHeadingCollapsed": true,
    "tags": []
   },
   "source": [
    "### Решение"
   ]
  },
  {
   "cell_type": "code",
   "execution_count": 35,
   "metadata": {},
   "outputs": [
    {
     "data": {
      "text/html": [
       "\n",
       "        <iframe\n",
       "            width=\"400\"\n",
       "            height=\"300\"\n",
       "            src=\"https://www.youtube.com/embed/io5GkVwXnAE\"\n",
       "            frameborder=\"0\"\n",
       "            allowfullscreen\n",
       "        ></iframe>\n",
       "        "
      ],
      "text/plain": [
       "<IPython.lib.display.YouTubeVideo at 0x7fef49515700>"
      ]
     },
     "execution_count": 35,
     "metadata": {},
     "output_type": "execute_result"
    }
   ],
   "source": [
    "from IPython.lib.display import YouTubeVideo\n",
    "YouTubeVideo('io5GkVwXnAE')"
   ]
  },
  {
   "cell_type": "code",
   "execution_count": null,
   "metadata": {},
   "outputs": [],
   "source": []
  },
  {
   "cell_type": "code",
   "execution_count": null,
   "metadata": {},
   "outputs": [],
   "source": []
  },
  {
   "cell_type": "code",
   "execution_count": null,
   "metadata": {},
   "outputs": [],
   "source": []
  }
 ],
 "metadata": {
  "kernelspec": {
   "display_name": "Python 3 (ipykernel)",
   "language": "python",
   "name": "python3"
  },
  "language_info": {
   "codemirror_mode": {
    "name": "ipython",
    "version": 3
   },
   "file_extension": ".py",
   "mimetype": "text/x-python",
   "name": "python",
   "nbconvert_exporter": "python",
   "pygments_lexer": "ipython3",
   "version": "3.9.7"
  }
 },
 "nbformat": 4,
 "nbformat_minor": 4
}
