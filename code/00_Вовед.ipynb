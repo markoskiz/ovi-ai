{
 "cells": [
  {
   "cell_type": "markdown",
   "id": "2fb2ec2b-b0fc-4090-9e5c-f9e4af41911a",
   "metadata": {
    "tags": []
   },
   "source": [
    "# Вовед"
   ]
  },
  {
   "cell_type": "markdown",
   "id": "32bd749e-dcb8-4a24-98d1-a2beb1d3d386",
   "metadata": {},
   "source": [
    "Еве предлог за туторијал во Пајтон - https://www.learnpython.org/. \n",
    "\n",
    "Еве што треба да поминете за да бидете спремни за предметот ОВИ.\n",
    "1. Learn the Basics - Потребно е да се помине цела глава. Материјалот е многу сличен со материјалот во оваа тетрката. Препорака: поминете го овој материјал пред да почнеме со првата тетратка - Слепо пребарување.\n",
    "2. Advanced Tutorials - Потребно е да се поминат неколку секции од оваа глава. Материјалот го нема во оваа тетратка, но го има во наредните. Препорака: поминете го овој материјал по потреба, најкасно до крајот на првиот колоквиум.\n",
    "    - Generators\n",
    "    - List Comprehensions\n",
    "    - Multiple Function Arguments\n",
    "    - Exception Handling\n",
    "    - Sets - ова поминете го веднаш по завршувањето на точка 1.\n",
    "    - Останатите секции поминете ги по ваша желба."
   ]
  },
  {
   "cell_type": "markdown",
   "id": "1843d56b-2442-40cf-9249-2541d4e0e534",
   "metadata": {},
   "source": [
    "## Податочни типови"
   ]
  },
  {
   "cell_type": "code",
   "execution_count": 1,
   "id": "01896ee8-f719-469c-8471-98b57354a55f",
   "metadata": {},
   "outputs": [
    {
     "data": {
      "text/plain": [
       "'Добредојдовте'"
      ]
     },
     "execution_count": 1,
     "metadata": {},
     "output_type": "execute_result"
    }
   ],
   "source": [
    "welcome_message = 'Добредојдовте'\n",
    "welcome_message"
   ]
  },
  {
   "cell_type": "code",
   "execution_count": 2,
   "id": "56cb8538-31ec-4487-a2ae-3c4a6307aa50",
   "metadata": {},
   "outputs": [
    {
     "data": {
      "text/plain": [
       "123"
      ]
     },
     "execution_count": 2,
     "metadata": {},
     "output_type": "execute_result"
    }
   ],
   "source": [
    "number = 123\n",
    "number"
   ]
  },
  {
   "cell_type": "code",
   "execution_count": 3,
   "id": "41e5d718-906a-4ae3-8627-a8e14716fada",
   "metadata": {},
   "outputs": [
    {
     "data": {
      "text/plain": [
       "int"
      ]
     },
     "execution_count": 3,
     "metadata": {},
     "output_type": "execute_result"
    }
   ],
   "source": [
    "type(number)"
   ]
  },
  {
   "cell_type": "code",
   "execution_count": 4,
   "id": "63ed320e-a643-42f0-b370-8b6ef0d07065",
   "metadata": {},
   "outputs": [
    {
     "data": {
      "text/plain": [
       "(23, 16)"
      ]
     },
     "execution_count": 4,
     "metadata": {},
     "output_type": "execute_result"
    }
   ],
   "source": [
    "minutes, seconds = 23, 16\n",
    "minutes, seconds"
   ]
  },
  {
   "cell_type": "code",
   "execution_count": 5,
   "id": "54d750ed-31ad-4c5a-8837-30d7b1696b9e",
   "metadata": {},
   "outputs": [
    {
     "name": "stdout",
     "output_type": "stream",
     "text": [
      "Остануваат уште 23 минути и 16 секунди.\n"
     ]
    }
   ],
   "source": [
    "print(f'Остануваат уште {minutes} минути и {seconds} секунди.')"
   ]
  },
  {
   "cell_type": "markdown",
   "id": "d2f6d958-eeab-4f44-a8e1-6f88e7771673",
   "metadata": {},
   "source": [
    "## Листи"
   ]
  },
  {
   "cell_type": "code",
   "execution_count": 6,
   "id": "96dfe6af-ca34-4dc1-84a8-11c6017f39e3",
   "metadata": {},
   "outputs": [
    {
     "data": {
      "text/plain": [
       "[]"
      ]
     },
     "execution_count": 6,
     "metadata": {},
     "output_type": "execute_result"
    }
   ],
   "source": [
    "starks = []\n",
    "starks"
   ]
  },
  {
   "cell_type": "code",
   "execution_count": 7,
   "id": "d6375272-d44e-46fc-a07e-a3f576f9a231",
   "metadata": {},
   "outputs": [
    {
     "data": {
      "text/plain": [
       "['Eddard', 'Catelyn', 'Robb', 'Sansa', 'Arya', 'Bran', 'Rickon']"
      ]
     },
     "execution_count": 7,
     "metadata": {},
     "output_type": "execute_result"
    }
   ],
   "source": [
    "starks = ['Eddard', 'Catelyn', 'Robb', 'Sansa', 'Arya', 'Bran', 'Rickon']\n",
    "starks"
   ]
  },
  {
   "cell_type": "code",
   "execution_count": 8,
   "id": "2ea2fdb2-2ec4-4b3e-81e1-0dcb32ed83a5",
   "metadata": {},
   "outputs": [
    {
     "data": {
      "text/plain": [
       "'Sansa'"
      ]
     },
     "execution_count": 8,
     "metadata": {},
     "output_type": "execute_result"
    }
   ],
   "source": [
    "starks[3]"
   ]
  },
  {
   "cell_type": "code",
   "execution_count": 9,
   "id": "2a3d5433-9e9e-4eab-a3d3-47edbfd16a4b",
   "metadata": {},
   "outputs": [
    {
     "data": {
      "text/plain": [
       "['Robb', 'Sansa', 'Arya']"
      ]
     },
     "execution_count": 9,
     "metadata": {},
     "output_type": "execute_result"
    }
   ],
   "source": [
    "starks[2:5]"
   ]
  },
  {
   "cell_type": "code",
   "execution_count": 10,
   "id": "b1d67230-2147-44b4-863b-7ff013aa8727",
   "metadata": {},
   "outputs": [
    {
     "data": {
      "text/plain": [
       "['Robb', 'Sansa', 'Arya', 'Bran', 'Rickon']"
      ]
     },
     "execution_count": 10,
     "metadata": {},
     "output_type": "execute_result"
    }
   ],
   "source": [
    "starks[2:]"
   ]
  },
  {
   "cell_type": "code",
   "execution_count": 11,
   "id": "65692baa-d377-4885-8237-6e6d5e7f8e7a",
   "metadata": {},
   "outputs": [
    {
     "data": {
      "text/plain": [
       "['Eddard', 'Catelyn', 'Robb']"
      ]
     },
     "execution_count": 11,
     "metadata": {},
     "output_type": "execute_result"
    }
   ],
   "source": [
    "starks[:3]"
   ]
  },
  {
   "cell_type": "code",
   "execution_count": 12,
   "id": "11f1402a-fa8a-4379-b02a-5b36b1d7321b",
   "metadata": {},
   "outputs": [
    {
     "data": {
      "text/plain": [
       "['Catelyn', 'Robb', 'Sansa', 'Arya']"
      ]
     },
     "execution_count": 12,
     "metadata": {},
     "output_type": "execute_result"
    }
   ],
   "source": [
    "starks[-6:-2]"
   ]
  },
  {
   "cell_type": "code",
   "execution_count": 13,
   "id": "740ec121-5148-4a91-8657-b9b487454740",
   "metadata": {},
   "outputs": [
    {
     "data": {
      "text/plain": [
       "['Eddard', 'Catelyn', 'Robb', 'Sansa', 'Arya', 'Bran', 'Rickon', 'John']"
      ]
     },
     "execution_count": 13,
     "metadata": {},
     "output_type": "execute_result"
    }
   ],
   "source": [
    "starks.append('John')\n",
    "starks"
   ]
  },
  {
   "cell_type": "code",
   "execution_count": 14,
   "id": "c6f66551-3126-4870-8460-ebb19b456ccc",
   "metadata": {},
   "outputs": [
    {
     "data": {
      "text/plain": [
       "['Sansa', 'Arya', 'Bran', 'John']"
      ]
     },
     "execution_count": 14,
     "metadata": {},
     "output_type": "execute_result"
    }
   ],
   "source": [
    "starks.remove('Eddard')\n",
    "starks.remove('Catelyn')\n",
    "starks.remove('Robb')\n",
    "starks.remove('Rickon')\n",
    "starks"
   ]
  },
  {
   "cell_type": "code",
   "execution_count": 15,
   "id": "8d6c419e-b279-4253-a82f-94039e008bf6",
   "metadata": {},
   "outputs": [
    {
     "data": {
      "text/plain": [
       "['Sansa', 'Arya', 'Bran', 'John']"
      ]
     },
     "execution_count": 15,
     "metadata": {},
     "output_type": "execute_result"
    }
   ],
   "source": [
    "# овоа е помеѓу 5_та и 6_та сезона :D\n",
    "starks.remove('John')\n",
    "starks.append('John')\n",
    "starks"
   ]
  },
  {
   "cell_type": "markdown",
   "id": "40304b03-54eb-49f6-807c-eebb74029ef8",
   "metadata": {},
   "source": [
    "## Циклус - for"
   ]
  },
  {
   "cell_type": "code",
   "execution_count": 16,
   "id": "e5a05e28-eab9-4827-8085-c648451dc1ae",
   "metadata": {},
   "outputs": [
    {
     "name": "stdout",
     "output_type": "stream",
     "text": [
      "0 1 2 3 4 5 6 "
     ]
    }
   ],
   "source": [
    "# внимавајте на индентација (поместување на наредбите од јамка/гранење надесно (за 4 празни места) \n",
    "# заради припадност) ова ви е for јамка\n",
    "for index in range(7):\n",
    "    print(index, end=' ')"
   ]
  },
  {
   "cell_type": "code",
   "execution_count": 17,
   "id": "1dd88694-105f-468a-9747-b78acac8f200",
   "metadata": {},
   "outputs": [
    {
     "name": "stdout",
     "output_type": "stream",
     "text": [
      "3 5 7 9 11 13 15 17 "
     ]
    }
   ],
   "source": [
    "for index in range(3, 19, 2):\n",
    "    print(index, end=' ')"
   ]
  },
  {
   "cell_type": "code",
   "execution_count": 18,
   "id": "6564eb48-227f-4ea3-b34b-285352e45af0",
   "metadata": {},
   "outputs": [
    {
     "name": "stdout",
     "output_type": "stream",
     "text": [
      "Sansa\n",
      "Arya\n",
      "Bran\n",
      "John\n"
     ]
    }
   ],
   "source": [
    "# немојте вака\n",
    "for index in range(len(starks)):\n",
    "    print(starks[index])"
   ]
  },
  {
   "cell_type": "code",
   "execution_count": 19,
   "id": "fd4575d2-204c-4080-afb3-cd351dbcd69b",
   "metadata": {},
   "outputs": [
    {
     "name": "stdout",
     "output_type": "stream",
     "text": [
      "Sansa\n",
      "Arya\n",
      "Bran\n",
      "John\n"
     ]
    }
   ],
   "source": [
    "for stark in starks:\n",
    "    print(stark)"
   ]
  },
  {
   "cell_type": "code",
   "execution_count": 20,
   "id": "e8e58f44-7db3-4585-89bc-03cb0ea95481",
   "metadata": {},
   "outputs": [
    {
     "name": "stdout",
     "output_type": "stream",
     "text": [
      "0 Sansa  \n",
      "1 Arya  \n",
      "2 Bran  \n",
      "3 John  \n"
     ]
    }
   ],
   "source": [
    "# а ако ви треба и индекс, ќе постапите вака\n",
    "for index, stark in enumerate(starks):\n",
    "    print(index, stark, ' ')"
   ]
  },
  {
   "cell_type": "markdown",
   "id": "1933ef55-d24d-483e-841e-c515340673f6",
   "metadata": {},
   "source": [
    "## Гранење - if"
   ]
  },
  {
   "cell_type": "code",
   "execution_count": 21,
   "id": "e0f54085-e6b7-4bd5-a436-05231daf94f0",
   "metadata": {},
   "outputs": [
    {
     "name": "stdout",
     "output_type": "stream",
     "text": [
      "Bran е веќе во семејството\n"
     ]
    }
   ],
   "source": [
    "# ова е if гранење со in операторот\n",
    "if 'Bran' in starks:\n",
    "    print('Bran е веќе во семејството')\n",
    "elif 'Rickon' in starks:\n",
    "    print('Rickon е веќе во семејството')\n",
    "else:\n",
    "    starks.append('Bran')\n",
    "    print('Само што го додадов Bran во семејството')"
   ]
  },
  {
   "cell_type": "markdown",
   "id": "7d7801cb-c32a-4588-acfd-4b86339e5c3f",
   "metadata": {},
   "source": [
    "## Функции"
   ]
  },
  {
   "cell_type": "code",
   "execution_count": 22,
   "id": "9508240d-28d0-4d7c-95d5-f37bdf407d96",
   "metadata": {},
   "outputs": [],
   "source": [
    "def sum_two(arg1, arg2=0):\n",
    "    return arg1 + arg2"
   ]
  },
  {
   "cell_type": "code",
   "execution_count": 23,
   "id": "7d249847-698b-4e2f-81d6-939962f9d9d4",
   "metadata": {},
   "outputs": [
    {
     "data": {
      "text/plain": [
       "7"
      ]
     },
     "execution_count": 23,
     "metadata": {},
     "output_type": "execute_result"
    }
   ],
   "source": [
    "sum_two(3, 4)"
   ]
  },
  {
   "cell_type": "code",
   "execution_count": 24,
   "id": "aaef2703-07d0-453a-9f4f-24f2ec7b7da1",
   "metadata": {},
   "outputs": [
    {
     "data": {
      "text/plain": [
       "'34'"
      ]
     },
     "execution_count": 24,
     "metadata": {},
     "output_type": "execute_result"
    }
   ],
   "source": [
    "sum_two('3', '4')"
   ]
  },
  {
   "cell_type": "code",
   "execution_count": 25,
   "id": "99127e7c-c423-45d2-b4df-7b59d037b138",
   "metadata": {},
   "outputs": [
    {
     "data": {
      "text/plain": [
       "9"
      ]
     },
     "execution_count": 25,
     "metadata": {},
     "output_type": "execute_result"
    }
   ],
   "source": [
    "sum_two(arg1=3, arg2=6)"
   ]
  },
  {
   "cell_type": "code",
   "execution_count": 26,
   "id": "f9c489ab-b945-44f7-866c-9ec0ea0c3e6c",
   "metadata": {},
   "outputs": [
    {
     "data": {
      "text/plain": [
       "5"
      ]
     },
     "execution_count": 26,
     "metadata": {},
     "output_type": "execute_result"
    }
   ],
   "source": [
    "sum_two(5)"
   ]
  },
  {
   "cell_type": "code",
   "execution_count": 27,
   "id": "5f5ba239-dadd-4540-a959-2d8d59ce4059",
   "metadata": {},
   "outputs": [],
   "source": [
    "def paint_car(car, wheels=4, dors=5, *colors):\n",
    "    \"\"\"\n",
    "    Оваа функција печати податоци за автомобилот пратен како аргумент\n",
    "    car: име на автомобилот\n",
    "    \"\"\"\n",
    "    print(car, wheels, dors, colors)"
   ]
  },
  {
   "cell_type": "code",
   "execution_count": 28,
   "id": "7c582ad8-a696-4bb2-bae4-c5503f2d8f6f",
   "metadata": {},
   "outputs": [
    {
     "name": "stdout",
     "output_type": "stream",
     "text": [
      "toyota 8 9 ()\n"
     ]
    }
   ],
   "source": [
    "paint_car('toyota', 8, 9)"
   ]
  },
  {
   "cell_type": "code",
   "execution_count": 29,
   "id": "4a306152-7204-4157-a950-01a44fc60ce7",
   "metadata": {},
   "outputs": [
    {
     "name": "stdout",
     "output_type": "stream",
     "text": [
      "opel 4 6 ()\n"
     ]
    }
   ],
   "source": [
    "paint_car(dors=6, car='opel')"
   ]
  },
  {
   "cell_type": "code",
   "execution_count": 30,
   "id": "99f543f9-7b5d-467f-ae0b-2345fd36e8b0",
   "metadata": {},
   "outputs": [
    {
     "name": "stdout",
     "output_type": "stream",
     "text": [
      "toyota 8 9 ('red', 'green', 'blue')\n"
     ]
    }
   ],
   "source": [
    "paint_car('toyota', 8, 9, 'red', 'green', 'blue')"
   ]
  },
  {
   "cell_type": "markdown",
   "id": "f3588dd0-0fd8-4b99-9ff6-9414a26234f3",
   "metadata": {},
   "source": [
    "## Вчитување библиотеки"
   ]
  },
  {
   "cell_type": "code",
   "execution_count": 31,
   "id": "91349ac2-3c50-4d46-ae6c-6a9868e7f531",
   "metadata": {},
   "outputs": [
    {
     "name": "stdout",
     "output_type": "stream",
     "text": [
      "0\n",
      "1\n",
      "2\n"
     ]
    }
   ],
   "source": [
    "from time import sleep\n",
    "for index in range(3):\n",
    "    print(index)\n",
    "    sleep(3)"
   ]
  },
  {
   "cell_type": "code",
   "execution_count": 32,
   "id": "18d5f3c7-5573-4a1d-9109-4bb27062632a",
   "metadata": {},
   "outputs": [
    {
     "data": {
      "text/plain": [
       "datetime.datetime(2021, 10, 13, 17, 15, 52, 63772)"
      ]
     },
     "execution_count": 32,
     "metadata": {},
     "output_type": "execute_result"
    }
   ],
   "source": [
    "import datetime as dt\n",
    "dt.datetime.now()"
   ]
  },
  {
   "cell_type": "markdown",
   "id": "01a3bd66-362e-4881-ada6-3de1cdb84e64",
   "metadata": {},
   "source": [
    "## Речници"
   ]
  },
  {
   "cell_type": "code",
   "execution_count": 33,
   "id": "a3cbc74d-af5b-4b5b-b16e-5a8def248250",
   "metadata": {},
   "outputs": [],
   "source": [
    "colors = {\n",
    "   \"Red\": (1, 0, 0),\n",
    "   \"Green\": (0, 1, 0),\n",
    "   \"Blue\": (0, 0, 1),\n",
    "   \"Black\": (0, 0, 0),\n",
    "   \"White\": (1, 1, 1)\n",
    "}"
   ]
  },
  {
   "cell_type": "code",
   "execution_count": 34,
   "id": "bbc392f3-997a-42c2-a6e3-f757e70ca4db",
   "metadata": {},
   "outputs": [
    {
     "data": {
      "text/plain": [
       "(1, 0, 0)"
      ]
     },
     "execution_count": 34,
     "metadata": {},
     "output_type": "execute_result"
    }
   ],
   "source": [
    "colors['Red']"
   ]
  },
  {
   "cell_type": "markdown",
   "id": "b460cac6-6c49-4cf0-9dc3-c572a3c073f7",
   "metadata": {},
   "source": [
    "## Работа со датотеки"
   ]
  },
  {
   "cell_type": "code",
   "execution_count": 35,
   "id": "42c25af2-f7e6-40c7-a707-aba72024a743",
   "metadata": {},
   "outputs": [
    {
     "data": {
      "text/plain": [
       "'White: Peace, law, structured, selflessness, equality\\nBlue: Knowledge, deceit, cautious, deliberate, perfecting\\nBlack: Power, self-interest, death, sacrifice, uninhibited\\nRed: Freedom, emotion, active, impulsive, destructive\\nGreen: Nature, wildlife, connected, spiritual, tradition'"
      ]
     },
     "execution_count": 35,
     "metadata": {},
     "output_type": "execute_result"
    }
   ],
   "source": [
    "text = open('data/Colors.txt').read().strip()\n",
    "text"
   ]
  },
  {
   "cell_type": "code",
   "execution_count": 36,
   "id": "7ac9b402-8443-4859-8f9d-beae41a2fda3",
   "metadata": {},
   "outputs": [
    {
     "data": {
      "text/plain": [
       "{'White': ['peace', 'law', 'structured', 'selflessness', 'equality'],\n",
       " 'Blue': ['knowledge', 'deceit', 'cautious', 'deliberate', 'perfecting'],\n",
       " 'Black': ['power', 'self-interest', 'death', 'sacrifice', 'uninhibited'],\n",
       " 'Red': ['freedom', 'emotion', 'active', 'impulsive', 'destructive'],\n",
       " 'Green': ['nature', 'wildlife', 'connected', 'spiritual', 'tradition']}"
      ]
     },
     "execution_count": 36,
     "metadata": {},
     "output_type": "execute_result"
    }
   ],
   "source": [
    "d = {}\n",
    "for t in text.split('\\n'):\n",
    "    key, value = t.split(': ')\n",
    "    d[key] = value.lower().split(', ')\n",
    "d"
   ]
  },
  {
   "cell_type": "code",
   "execution_count": 37,
   "id": "4428b8d7-b22d-4e30-8c1d-3df85d427282",
   "metadata": {},
   "outputs": [
    {
     "name": "stdout",
     "output_type": "stream",
     "text": [
      "Роботот се наоѓа на координати (3, 5) под агол 3.141592653589793\n"
     ]
    }
   ],
   "source": [
    "import math\n",
    "\n",
    "class OneWheelRobot:\n",
    "    def __init__(self, heading, start_x, start_y):\n",
    "        self.heading = heading\n",
    "        self.x = start_x\n",
    "        self.y = start_y\n",
    "\n",
    "    def set_heading(self, new_heading):\n",
    "        self.heading = new_heading\n",
    "\n",
    "    def move(self, step):\n",
    "        self.x += step * math.cos(self.heading)\n",
    "        self.y += step * math.sin(self.heading)\n",
    "\n",
    "    def __str__(self):\n",
    "        return 'Роботот се наоѓа на координати ({}, {}) под агол {}'.format(self.x, self.y, self.heading)\n",
    "\n",
    "\n",
    "robot = OneWheelRobot(math.pi, 3, 5)\n",
    "print(robot)"
   ]
  },
  {
   "cell_type": "code",
   "execution_count": 38,
   "id": "f2cfead9-d689-4464-ae5c-57f024fdaf0a",
   "metadata": {},
   "outputs": [
    {
     "name": "stdout",
     "output_type": "stream",
     "text": [
      "Роботот се наоѓа на координати (-7.0, 5.000000000000001) под агол 3.141592653589793\n"
     ]
    }
   ],
   "source": [
    "robot.move(10)\n",
    "print(robot)"
   ]
  },
  {
   "cell_type": "code",
   "execution_count": null,
   "id": "c3ef6f5b-3ea4-4f25-ad31-a85f6f588776",
   "metadata": {},
   "outputs": [],
   "source": []
  },
  {
   "cell_type": "code",
   "execution_count": null,
   "id": "4f61e28b-1e27-4830-b02b-86425b53f147",
   "metadata": {},
   "outputs": [],
   "source": []
  },
  {
   "cell_type": "code",
   "execution_count": null,
   "id": "c752c6eb-4ef4-4c47-9ebd-303fe0d8c8ef",
   "metadata": {},
   "outputs": [],
   "source": []
  }
 ],
 "metadata": {
  "kernelspec": {
   "display_name": "Python 3 (ipykernel)",
   "language": "python",
   "name": "python3"
  },
  "language_info": {
   "codemirror_mode": {
    "name": "ipython",
    "version": 3
   },
   "file_extension": ".py",
   "mimetype": "text/x-python",
   "name": "python",
   "nbconvert_exporter": "python",
   "pygments_lexer": "ipython3",
   "version": "3.9.7"
  }
 },
 "nbformat": 4,
 "nbformat_minor": 5
}
