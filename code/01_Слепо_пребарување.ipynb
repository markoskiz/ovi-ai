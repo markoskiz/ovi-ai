{
 "cells": [
  {
   "cell_type": "markdown",
   "metadata": {},
   "source": [
    "# Слепо пребарување"
   ]
  },
  {
   "cell_type": "markdown",
   "metadata": {},
   "source": [
    "## Референци\n",
    "\n",
    "1. [Пребарување прво по широчина](https://en.wikipedia.org/wiki/Breadth-first_search)\n",
    "1. [Пребарување прво по длабочина](https://en.wikipedia.org/wiki/Depth-first_search)\n",
    "1. [Разлика меѓу листа, торка, множество и речник](https://thomas-cokelaer.info/tutorials/python/data_structures.html)"
   ]
  },
  {
   "cell_type": "code",
   "execution_count": 17,
   "metadata": {},
   "outputs": [
    {
     "data": {
      "text/html": [
       "\n",
       "        <iframe\n",
       "            width=\"400\"\n",
       "            height=\"300\"\n",
       "            src=\"https://www.youtube.com/embed/jiEb-9IYPs0\"\n",
       "            frameborder=\"0\"\n",
       "            allowfullscreen\n",
       "        ></iframe>\n",
       "        "
      ],
      "text/plain": [
       "<IPython.lib.display.YouTubeVideo at 0x7fcd744a2e10>"
      ]
     },
     "execution_count": 17,
     "metadata": {},
     "output_type": "execute_result"
    }
   ],
   "source": [
    "from IPython.lib.display import YouTubeVideo\n",
    "YouTubeVideo('jiEb-9IYPs0')"
   ]
  },
  {
   "cell_type": "markdown",
   "metadata": {},
   "source": [
    "![](images/graph.png)"
   ]
  },
  {
   "cell_type": "markdown",
   "metadata": {},
   "source": [
    "## Претставување граф преку речник"
   ]
  },
  {
   "cell_type": "code",
   "execution_count": 1,
   "metadata": {},
   "outputs": [],
   "source": [
    "class Graph():\n",
    "    def __init__(self):\n",
    "        \"\"\"\n",
    "        Initialises an empty dict as the graph data structure.\n",
    "        \"\"\"\n",
    "        self.graph_dict = {}\n",
    "    \n",
    "    def add_vertex(self, vertex):\n",
    "        \"\"\"\n",
    "        Adds a vertex to the graph.\n",
    "        \n",
    "        Args:\n",
    "            vertex: vertex to be added in the graph\n",
    "        \"\"\"\n",
    "        if vertex not in self.graph_dict:\n",
    "            self.graph_dict[vertex] = []\n",
    "    \n",
    "    def vertices(self):\n",
    "        \"\"\"\n",
    "        Returns the graph's vertices.\n",
    "        \"\"\"\n",
    "        return list(self.graph_dict.keys())\n",
    "    \n",
    "    def add_edge(self, edge, add_reversed=True):\n",
    "        \"\"\"\n",
    "        Adds an edge to the graph.\n",
    "        \n",
    "        Args:\n",
    "            edge: a tupple of two vertices, (first_vertex, second_vertex)\n",
    "            add_reversed: whether to add the edge in reversed direction, (second_vertex, first_vertex)\n",
    "        \"\"\"\n",
    "        vertex1, vertex2 = edge\n",
    "        self.graph_dict[vertex1].append(vertex2)\n",
    "        if add_reversed:\n",
    "            self.graph_dict[vertex2].append(vertex1)\n",
    "    \n",
    "    def edges(self):\n",
    "        \"\"\"\n",
    "        Returns a list of all edges in the graph.\n",
    "        \"\"\"\n",
    "        edges = []\n",
    "        for vertex in self.graph_dict:\n",
    "            for neighbour in self.graph_dict[vertex]:\n",
    "                edges.append((vertex, neighbour))\n",
    "        return edges\n",
    "    \n",
    "    def neighbours(self, vertex):\n",
    "        \"\"\"\n",
    "        Returns all neighbours of the given vertex.\n",
    "        \"\"\"\n",
    "        return self.graph_dict[vertex]\n",
    "    \n",
    "    def remove_vertex(self, vertex_to_remove):\n",
    "        \"\"\"\n",
    "        Removes a vertex from the graph.\n",
    "        \n",
    "        First, the vertex's list is removed.\n",
    "        Then, we remove all the occurances of the vertex in another vertex's list.\n",
    "        \n",
    "        Args:\n",
    "            vertex_to_remove: the vertex to be removed.\n",
    "        \"\"\"\n",
    "        del self.graph_dict[vertex_to_remove]\n",
    "        for vertex in self.vertices():\n",
    "            if vertex_to_remove in self.graph_dict[vertex]:\n",
    "                self.graph_dict[vertex].remove(vertex_to_remove)\n",
    "\n",
    "    def remove_edge(self, edge_to_remove, remove_reversed=True):\n",
    "        \"\"\"\n",
    "        Removes an edge from the graph.\n",
    "        \n",
    "        Args:\n",
    "            edge_to_remove: the edge to be removed\n",
    "            remove_reversed: whether to remove the edge in reversed direction\n",
    "        \"\"\"\n",
    "        vertex1, vertex2 = edge_to_remove\n",
    "        if vertex2 in self.graph_dict[vertex1]:\n",
    "            self.graph_dict[vertex1].remove(vertex2)\n",
    "        if remove_reversed:\n",
    "            if vertex1 in self.graph_dict[vertex2]:\n",
    "                self.graph_dict[vertex2].remove(vertex1)\n",
    "\n",
    "    def isolated_vertices(self):\n",
    "        \"\"\"\n",
    "        Returns a list of all isolated vertices.\n",
    "        \"\"\"\n",
    "        isolated_vertices = []\n",
    "        for vertex in self.graph_dict:\n",
    "            if not self.graph_dict[vertex]:\n",
    "                isolated_vertices.append(vertex)\n",
    "        return isolated_vertices"
   ]
  },
  {
   "cell_type": "code",
   "execution_count": 2,
   "metadata": {},
   "outputs": [],
   "source": [
    "g = Graph()"
   ]
  },
  {
   "cell_type": "code",
   "execution_count": 3,
   "metadata": {},
   "outputs": [],
   "source": [
    "g.add_vertex('S')\n",
    "g.add_vertex('A')\n",
    "g.add_vertex('B')\n",
    "g.add_vertex('C')\n",
    "g.add_vertex('D')\n",
    "g.add_vertex('E')\n",
    "g.add_vertex('F')\n",
    "g.add_vertex('G')\n",
    "g.add_vertex('H')"
   ]
  },
  {
   "cell_type": "code",
   "execution_count": 4,
   "metadata": {},
   "outputs": [
    {
     "data": {
      "text/plain": [
       "['S', 'A', 'B', 'C', 'D', 'E', 'F', 'G', 'H']"
      ]
     },
     "execution_count": 4,
     "metadata": {},
     "output_type": "execute_result"
    }
   ],
   "source": [
    "g.vertices()"
   ]
  },
  {
   "cell_type": "code",
   "execution_count": 5,
   "metadata": {},
   "outputs": [],
   "source": [
    "g.add_edge(('S', 'A'))\n",
    "g.add_edge(('S', 'C'))\n",
    "g.add_edge(('S', 'G'))\n",
    "g.add_edge(('A', 'B'))\n",
    "g.add_edge(('C', 'D'))\n",
    "g.add_edge(('C', 'E'))\n",
    "g.add_edge(('C', 'F'))\n",
    "g.add_edge(('G', 'F'))\n",
    "g.add_edge(('G', 'H'))\n",
    "g.add_edge(('E', 'H'))"
   ]
  },
  {
   "cell_type": "code",
   "execution_count": 6,
   "metadata": {},
   "outputs": [
    {
     "data": {
      "text/plain": [
       "[('S', 'A'),\n",
       " ('S', 'C'),\n",
       " ('S', 'G'),\n",
       " ('A', 'S'),\n",
       " ('A', 'B'),\n",
       " ('B', 'A'),\n",
       " ('C', 'S'),\n",
       " ('C', 'D'),\n",
       " ('C', 'E'),\n",
       " ('C', 'F'),\n",
       " ('D', 'C'),\n",
       " ('E', 'C'),\n",
       " ('E', 'H'),\n",
       " ('F', 'C'),\n",
       " ('F', 'G'),\n",
       " ('G', 'S'),\n",
       " ('G', 'F'),\n",
       " ('G', 'H'),\n",
       " ('H', 'G'),\n",
       " ('H', 'E')]"
      ]
     },
     "execution_count": 6,
     "metadata": {},
     "output_type": "execute_result"
    }
   ],
   "source": [
    "g.edges()"
   ]
  },
  {
   "cell_type": "code",
   "execution_count": 7,
   "metadata": {},
   "outputs": [
    {
     "data": {
      "text/plain": [
       "['A', 'C', 'G']"
      ]
     },
     "execution_count": 7,
     "metadata": {},
     "output_type": "execute_result"
    }
   ],
   "source": [
    "g.neighbours('S')"
   ]
  },
  {
   "cell_type": "markdown",
   "metadata": {},
   "source": [
    "## Пребарување прво по широчина"
   ]
  },
  {
   "cell_type": "code",
   "execution_count": 8,
   "metadata": {},
   "outputs": [],
   "source": [
    "from collections import deque"
   ]
  },
  {
   "cell_type": "code",
   "execution_count": 9,
   "metadata": {},
   "outputs": [],
   "source": [
    "def breadth_first_search_find_path(graph, starting_vertex, goal_vertex, verbose=False):\n",
    "    \"\"\"\n",
    "    Returns the path from starting_vertex to goal_vertex using the DFS algorithm.\n",
    "    \"\"\"\n",
    "    # Ако почетниот јазол е еднаков на целниот, тогаш нема логика да пребаруваме воопшто\n",
    "    if starting_vertex == goal_vertex:\n",
    "        if verbose:\n",
    "            print('Почетниот и бараниот јазол се исти')\n",
    "        return []\n",
    "    # Користиме листа на посетени јазли која всушност е податочна структура множество. \n",
    "    # За посетен јазол го сметаме оној јазол кој ќе го истражиме како сосед на јазолот кој го разгрануваме.\n",
    "    visited = {starting_vertex}\n",
    "    # Користиме двојно поврзана листа која ни е редицата од која ќе го земаме следниот јазол за разгранување.\n",
    "    # Тука ја памтиме и моменталната патека за секој јазол од почетниот.\n",
    "    queue = deque([[starting_vertex]])\n",
    "    # Пребаруваме сѐ додека има јазли за разгранување во редицата.\n",
    "    while queue:\n",
    "        if verbose:\n",
    "            print('Ред за разгранување:')\n",
    "            for element in queue:\n",
    "                print(element, end=' ')\n",
    "            print()\n",
    "            print()\n",
    "        # Членови на редицата јазли се патеките од почетниот јазол до некој јазол кој треба да се разграни.\n",
    "        # За да го земаме наредниот јазол за разгранување, \n",
    "        #    ние треба од редицата да ја извадиме патеката на тој јазол.\n",
    "        vertex_list = queue.popleft()\n",
    "        # Јазолот за разгранување е послениот во оваа листа.\n",
    "        vertex_to_expand = vertex_list[-1]\n",
    "        if verbose:\n",
    "            print('Го разгрануваме јазолот {}'.format(vertex_to_expand))\n",
    "        # Го разгрануваме така што пребаруваме низ сите негови соседи.\n",
    "        for neighbour in graph.neighbours(vertex_to_expand):\n",
    "            if neighbour in visited:\n",
    "                if verbose:\n",
    "                    print('{} е веќе посетен'.format(neighbour))\n",
    "            else:\n",
    "                # Ако некој сосед не е посетен, тогаш го додаваме во листата на посетени, \n",
    "                #     и во редицата на јазли за разгранување.\n",
    "                if verbose:\n",
    "                    print('{}, кој е соседен јазол на {} го немаме посетено до сега, затоа го додаваме во редот '\n",
    "                          'за разгранување и го означуваме како посетен'.format(neighbour, vertex_to_expand))\n",
    "                # Тука ја вршиме проверката дали сме стигнале до целниот јазол \n",
    "                if neighbour == goal_vertex:\n",
    "                    if verbose:\n",
    "                        print('Го пронајдовме посакуваниот јазол {}. Патеката да стигнеме до тука е {}'\n",
    "                              .format(neighbour, vertex_list + [neighbour]))\n",
    "                    return vertex_list + [neighbour]\n",
    "                visited.add(neighbour)\n",
    "                # Бидејќи ова е пребарување прво по широчина, \n",
    "                #     соседот го додаваме на крајот од редицата јазли за разгранување.\n",
    "                # Соседот го врзуваме со патеката од почетниот јазол до моменталниот кој го разгрануваме.\n",
    "                queue.append(vertex_list + [neighbour])\n",
    "        if verbose:\n",
    "            print()"
   ]
  },
  {
   "cell_type": "code",
   "execution_count": 10,
   "metadata": {},
   "outputs": [
    {
     "name": "stdout",
     "output_type": "stream",
     "text": [
      "Ред за разгранување:\n",
      "['S'] \n",
      "\n",
      "Го разгрануваме јазолот S\n",
      "A, кој е соседен јазол на S го немаме посетено до сега, затоа го додаваме во редот за разгранување и го означуваме како посетен\n",
      "C, кој е соседен јазол на S го немаме посетено до сега, затоа го додаваме во редот за разгранување и го означуваме како посетен\n",
      "G, кој е соседен јазол на S го немаме посетено до сега, затоа го додаваме во редот за разгранување и го означуваме како посетен\n",
      "\n",
      "Ред за разгранување:\n",
      "['S', 'A'] ['S', 'C'] ['S', 'G'] \n",
      "\n",
      "Го разгрануваме јазолот A\n",
      "S е веќе посетен\n",
      "B, кој е соседен јазол на A го немаме посетено до сега, затоа го додаваме во редот за разгранување и го означуваме како посетен\n",
      "\n",
      "Ред за разгранување:\n",
      "['S', 'C'] ['S', 'G'] ['S', 'A', 'B'] \n",
      "\n",
      "Го разгрануваме јазолот C\n",
      "S е веќе посетен\n",
      "D, кој е соседен јазол на C го немаме посетено до сега, затоа го додаваме во редот за разгранување и го означуваме како посетен\n",
      "E, кој е соседен јазол на C го немаме посетено до сега, затоа го додаваме во редот за разгранување и го означуваме како посетен\n",
      "Го пронајдовме посакуваниот јазол E. Патеката да стигнеме до тука е ['S', 'C', 'E']\n"
     ]
    },
    {
     "data": {
      "text/plain": [
       "['S', 'C', 'E']"
      ]
     },
     "execution_count": 10,
     "metadata": {},
     "output_type": "execute_result"
    }
   ],
   "source": [
    "breadth_first_search_find_path(g, 'S', 'E', verbose=True)"
   ]
  },
  {
   "cell_type": "markdown",
   "metadata": {},
   "source": [
    "## Пребарување прво по длабочина"
   ]
  },
  {
   "cell_type": "code",
   "execution_count": 11,
   "metadata": {},
   "outputs": [],
   "source": [
    "def depth_first_search_find_path(graph, starting_vertex, goal_vertex, verbose=False):\n",
    "    \"\"\"\n",
    "    Returns the path from starting_vertex to goal_vertex using the BFS algorithm.\n",
    "    \"\"\"\n",
    "    # Ако почетниот јазол е еднаков на целниот, тогаш нема логика да пребаруваме воопшто\n",
    "    if starting_vertex == goal_vertex:\n",
    "        if verbose:\n",
    "            print('Почетниот и бараниот јазол се исти')\n",
    "        return []\n",
    "    # Користиме листа на посетени јазли која всушност е податочна структура множество. \n",
    "    # За посетен јазол го сметаме оној јазол кој ќе го истражиме како сосед на јазолот кој го разгрануваме.\n",
    "    visited = {starting_vertex}\n",
    "    # Користиме двојно поврзана листа која ни е редицата од која ќе го земаме следниот јазол за разгранување.\n",
    "    # Тука ја памтиме и моменталната патека за секој јазол од почетниот.\n",
    "    queue = deque([[starting_vertex]])\n",
    "    # Пребаруваме сѐ додека има јазли за разгранување во редицата.\n",
    "    while queue:\n",
    "        if verbose:\n",
    "            print('Ред за разгранување:')\n",
    "            for element in queue:\n",
    "                print(element, end=' ')\n",
    "            print()\n",
    "            print()\n",
    "        # Членови на редицата јазли се патеките од почетниот јазол до некој јазол кој треба да се разграни.\n",
    "        # За да го земаме наредниот јазол за разгранување, \n",
    "        #    ние треба од редицата да ја извадиме патеката на тој јазол.\n",
    "        vertex_list = queue.popleft()\n",
    "        # Јазолот за разгранување е послениот во оваа листа.\n",
    "        vertex_to_expand = vertex_list[-1]\n",
    "        if verbose:\n",
    "            print('Го разгрануваме јазолот {}'.format(vertex_to_expand))\n",
    "        # Го разгрануваме така што пребаруваме низ сите негови соседи.\n",
    "        for neighbour in graph.neighbours(vertex_to_expand):\n",
    "            if neighbour in visited:\n",
    "                if verbose:\n",
    "                    print('{} е веќе посетен'.format(neighbour))\n",
    "            else:\n",
    "                # Ако некој сосед не е посетен, тогаш го додаваме во листата на посетени, \n",
    "                #     и во редицата на јазли за разгранување.\n",
    "                if verbose:\n",
    "                    print('{}, кој е соседен јазол на {} го немаме посетено до сега, затоа го додаваме во редот '\n",
    "                          'за разгранување и го означуваме како посетен'.format(neighbour, vertex_to_expand))\n",
    "                # Тука ја вршиме проверката дали сме стигнале до целниот јазол \n",
    "                if neighbour == goal_vertex:\n",
    "                    if verbose:\n",
    "                        print('Го пронајдовме посакуваниот јазол {}. Патеката да стигнеме до тука е {}'\n",
    "                              .format(neighbour, vertex_list + [neighbour]))\n",
    "                    return vertex_list + [neighbour]\n",
    "                visited.add(neighbour)\n",
    "                # Бидејќи ова е пребарување прво по длабочина, \n",
    "                #     соседот го додаваме на почетокот од редицата јазли за разгранување.\n",
    "                # Соседот го врзуваме со патеката од почетниот јазол до моменталниот кој го разгрануваме.\n",
    "                queue.appendleft(vertex_list + [neighbour])\n",
    "        if verbose:\n",
    "            print()"
   ]
  },
  {
   "cell_type": "code",
   "execution_count": 12,
   "metadata": {},
   "outputs": [
    {
     "name": "stdout",
     "output_type": "stream",
     "text": [
      "Ред за разгранување:\n",
      "['S'] \n",
      "\n",
      "Го разгрануваме јазолот S\n",
      "A, кој е соседен јазол на S го немаме посетено до сега, затоа го додаваме во редот за разгранување и го означуваме како посетен\n",
      "C, кој е соседен јазол на S го немаме посетено до сега, затоа го додаваме во редот за разгранување и го означуваме како посетен\n",
      "G, кој е соседен јазол на S го немаме посетено до сега, затоа го додаваме во редот за разгранување и го означуваме како посетен\n",
      "\n",
      "Ред за разгранување:\n",
      "['S', 'G'] ['S', 'C'] ['S', 'A'] \n",
      "\n",
      "Го разгрануваме јазолот G\n",
      "S е веќе посетен\n",
      "F, кој е соседен јазол на G го немаме посетено до сега, затоа го додаваме во редот за разгранување и го означуваме како посетен\n",
      "H, кој е соседен јазол на G го немаме посетено до сега, затоа го додаваме во редот за разгранување и го означуваме како посетен\n",
      "\n",
      "Ред за разгранување:\n",
      "['S', 'G', 'H'] ['S', 'G', 'F'] ['S', 'C'] ['S', 'A'] \n",
      "\n",
      "Го разгрануваме јазолот H\n",
      "G е веќе посетен\n",
      "E, кој е соседен јазол на H го немаме посетено до сега, затоа го додаваме во редот за разгранување и го означуваме како посетен\n",
      "Го пронајдовме посакуваниот јазол E. Патеката да стигнеме до тука е ['S', 'G', 'H', 'E']\n"
     ]
    },
    {
     "data": {
      "text/plain": [
       "['S', 'G', 'H', 'E']"
      ]
     },
     "execution_count": 12,
     "metadata": {},
     "output_type": "execute_result"
    }
   ],
   "source": [
    "depth_first_search_find_path(g, 'S', 'E', verbose=True)"
   ]
  },
  {
   "cell_type": "code",
   "execution_count": null,
   "metadata": {},
   "outputs": [],
   "source": []
  },
  {
   "cell_type": "code",
   "execution_count": null,
   "metadata": {},
   "outputs": [],
   "source": []
  },
  {
   "cell_type": "code",
   "execution_count": null,
   "metadata": {},
   "outputs": [],
   "source": []
  }
 ],
 "metadata": {
  "kernelspec": {
   "display_name": "Python 3",
   "language": "python",
   "name": "python3"
  },
  "language_info": {
   "codemirror_mode": {
    "name": "ipython",
    "version": 3
   },
   "file_extension": ".py",
   "mimetype": "text/x-python",
   "name": "python",
   "nbconvert_exporter": "python",
   "pygments_lexer": "ipython3",
   "version": "3.7.8"
  }
 },
 "nbformat": 4,
 "nbformat_minor": 4
}
