{
 "cells": [
  {
   "cell_type": "markdown",
   "metadata": {},
   "source": [
    "# Задачи од пребарување"
   ]
  },
  {
   "cell_type": "markdown",
   "metadata": {},
   "source": [
    "## Претурање вода во садови\n",
    "\n",
    "Имате на располагање 3 садови. Нивниот капацитет е 5, 8 и 10 соодветно.  На почетокот сите садови се празни. Задачата е да претурите 1 литар во садот од 5 литри. Можете да претурате вода меѓу садовите, но не знаете точно колку претурате бидејќи садовите не се обележани. Единствено може да го испразните садот од кој претурате или да го наполните до врв садот во кој претурате. Постои и чешма од која може да надополните некој сад до врвот. Секогаш може да ја истурите водата од некој сад. Скратено: имате на располагање 3 садови. Нивниот капацитет е (x, y, z) соодветно. Почетната состојба е (x_0, y_0, z_0). Задачата е да стигнете до посакуваната состојба."
   ]
  },
  {
   "cell_type": "code",
   "execution_count": 10,
   "metadata": {},
   "outputs": [
    {
     "data": {
      "image/jpeg": "[encoded data removed]",
      "text/html": [
       "\n",
       "        <iframe\n",
       "            width=\"400\"\n",
       "            height=\"300\"\n",
       "            src=\"https://www.youtube.com/embed/OaJrwr4laPU\"\n",
       "            frameborder=\"0\"\n",
       "            allowfullscreen\n",
       "        ></iframe>\n",
       "        "
      ],
      "text/plain": [
       "<IPython.lib.display.YouTubeVideo at 0x7f23aa1387d0>"
      ]
     },
     "execution_count": 10,
     "metadata": {},
     "output_type": "execute_result"
    }
   ],
   "source": [
    "from IPython.lib.display import YouTubeVideo\n",
    "YouTubeVideo('OaJrwr4laPU')"
   ]
  },
  {
   "cell_type": "code",
   "execution_count": 10,
   "metadata": {},
   "outputs": [],
   "source": [
    "from collections import deque"
   ]
  },
  {
   "cell_type": "code",
   "execution_count": 11,
   "metadata": {},
   "outputs": [],
   "source": [
    "def transfer_to_other_glass(source, sink, sink_capacity):\n",
    "    return max(source - (sink_capacity - sink), 0), min(sink + source, sink_capacity)"
   ]
  },
  {
   "cell_type": "code",
   "execution_count": 12,
   "metadata": {},
   "outputs": [],
   "source": [
    "def expand_state(state):\n",
    "    capacities = (5, 8, 10)\n",
    "    glass_0, glass_1, glass_2 = state\n",
    "\n",
    "    new_states = []\n",
    "\n",
    "    if glass_0 < capacities[0]:\n",
    "        new_states.append((capacities[0], glass_1, glass_2))\n",
    "    if glass_1 < capacities[1]:\n",
    "        new_states.append((glass_0, capacities[1], glass_2))\n",
    "    if glass_2 < capacities[2]:\n",
    "        new_states.append((glass_0, glass_1, capacities[2]))\n",
    "    \n",
    "    if glass_0 > 0:\n",
    "        new_states.append((0, glass_1, glass_2))\n",
    "    if glass_1 > 0:\n",
    "        new_states.append((glass_0, 0, glass_2))\n",
    "    if glass_2 > 0:\n",
    "        new_states.append((glass_0, glass_1, 0))\n",
    "\n",
    "    new_source, new_sink = transfer_to_other_glass(glass_0, glass_1, capacities[1])\n",
    "    new_states.append((new_source, new_sink, glass_2))\n",
    "\n",
    "    new_source, new_sink = transfer_to_other_glass(glass_1, glass_0, capacities[0])\n",
    "    new_states.append((new_sink, new_source, glass_2))\n",
    "\n",
    "    new_source, new_sink = transfer_to_other_glass(glass_0, glass_2, capacities[2])\n",
    "    new_states.append((new_source, glass_1, new_sink))\n",
    "\n",
    "    new_source, new_sink = transfer_to_other_glass(glass_2, glass_0, capacities[0])\n",
    "    new_states.append((new_sink, glass_1, new_source))\n",
    "\n",
    "    new_source, new_sink = transfer_to_other_glass(glass_1, glass_2, capacities[2])\n",
    "    new_states.append((glass_0, new_source, new_sink))\n",
    "\n",
    "    new_source, new_sink = transfer_to_other_glass(glass_2, glass_1, capacities[1])\n",
    "    new_states.append((glass_0, new_sink, new_source))\n",
    "    \n",
    "    return new_states"
   ]
  },
  {
   "cell_type": "code",
   "execution_count": 18,
   "metadata": {},
   "outputs": [],
   "source": [
    "def search_path(initial_state, goal_state):\n",
    "    visited = {initial_state}\n",
    "    states_queue = deque([[initial_state]])\n",
    "    while states_queue:\n",
    "        states_list = states_queue.popleft()\n",
    "        state_to_expand = states_list[-1]\n",
    "        for next_state in expand_state(state_to_expand):\n",
    "            if next_state not in visited:\n",
    "                if next_state == goal_state:\n",
    "                    return states_list + [next_state]\n",
    "                visited.add(next_state)\n",
    "                states_queue.append(states_list + [next_state])\n",
    "    return []"
   ]
  },
  {
   "cell_type": "code",
   "execution_count": 19,
   "metadata": {},
   "outputs": [],
   "source": [
    "def visualise_path(path):\n",
    "    for states in zip(path, path[1:]):\n",
    "        old_state, new_state = states\n",
    "        print(old_state)\n",
    "        print(tuple(map(lambda x, y: x - y, new_state, old_state)), 'change')\n",
    "        print(new_state)\n",
    "        print()"
   ]
  },
  {
   "cell_type": "code",
   "execution_count": 21,
   "metadata": {},
   "outputs": [
    {
     "name": "stdout",
     "output_type": "stream",
     "text": [
      "(0, 0, 0)\n",
      "(0, 8, 0) change\n",
      "(0, 8, 0)\n",
      "\n",
      "(0, 8, 0)\n",
      "(5, -5, 0) change\n",
      "(5, 3, 0)\n",
      "\n",
      "(5, 3, 0)\n",
      "(-5, 0, 0) change\n",
      "(0, 3, 0)\n",
      "\n",
      "(0, 3, 0)\n",
      "(3, -3, 0) change\n",
      "(3, 0, 0)\n",
      "\n",
      "(3, 0, 0)\n",
      "(0, 8, 0) change\n",
      "(3, 8, 0)\n",
      "\n",
      "(3, 8, 0)\n",
      "(0, -8, 8) change\n",
      "(3, 0, 8)\n",
      "\n",
      "(3, 0, 8)\n",
      "(-2, 0, 2) change\n",
      "(1, 0, 10)\n",
      "\n",
      "(1, 0, 10)\n",
      "(0, 0, -10) change\n",
      "(1, 0, 0)\n",
      "\n"
     ]
    }
   ],
   "source": [
    "initial_state = (0, 0, 0)\n",
    "goal_states = (1, 0, 0)\n",
    "path = search_path(initial_state, goal_state)\n",
    "visualise_path(path)"
   ]
  },
  {
   "cell_type": "markdown",
   "metadata": {},
   "source": [
    "## Поставување кралици на шаховска табла\n",
    "\n",
    "РаспоредетеПоставене N кралици на NxN шаховска табла така што кралиците нема да се напаѓаат."
   ]
  },
  {
   "cell_type": "code",
   "execution_count": 11,
   "metadata": {},
   "outputs": [
    {
     "data": {
      "text/html": [
       "\n",
       "        <iframe\n",
       "            width=\"400\"\n",
       "            height=\"300\"\n",
       "            src=\"https://www.youtube.com/embed/pf1rTaEibgI\"\n",
       "            frameborder=\"0\"\n",
       "            allowfullscreen\n",
       "        ></iframe>\n",
       "        "
      ],
      "text/plain": [
       "<IPython.lib.display.YouTubeVideo at 0x7f23a9545e10>"
      ]
     },
     "execution_count": 11,
     "metadata": {},
     "output_type": "execute_result"
    }
   ],
   "source": [
    "from IPython.lib.display import YouTubeVideo\n",
    "YouTubeVideo('pf1rTaEibgI')"
   ]
  },
  {
   "cell_type": "code",
   "execution_count": 11,
   "metadata": {},
   "outputs": [
    {
     "name": "stdout",
     "output_type": "stream",
     "text": [
      "Collecting package metadata (current_repodata.json): done\n",
      "Solving environment: done\n",
      "\n",
      "# All requested packages already installed.\n",
      "\n"
     ]
    }
   ],
   "source": [
    "# извршете ја оваа наредба за да ги симнете библиотеките за исцртување на таблата\n",
    "!conda install -c conda-forge -y numpy scikit-image"
   ]
  },
  {
   "cell_type": "code",
   "execution_count": 1,
   "metadata": {},
   "outputs": [],
   "source": [
    "from collections import deque\n",
    "import os"
   ]
  },
  {
   "cell_type": "code",
   "execution_count": 2,
   "metadata": {},
   "outputs": [],
   "source": [
    "def is_valid(new_state, new_queen_i, new_queen_j):\n",
    "    vertical_check = new_queen_j not in new_state\n",
    "    if not vertical_check:\n",
    "        return False\n",
    "    main_diagonal = new_queen_i - new_queen_j\n",
    "    anti_diagonal = new_queen_i + new_queen_j\n",
    "    other_queens = new_state[:N - new_state.count(None)]\n",
    "    for other_queen_i, other_queen_j in enumerate(other_queens):\n",
    "        if other_queen_i - other_queen_j == main_diagonal:\n",
    "            return False\n",
    "        if other_queen_i + other_queen_j == anti_diagonal:\n",
    "            return False\n",
    "    return True"
   ]
  },
  {
   "cell_type": "code",
   "execution_count": 3,
   "metadata": {},
   "outputs": [],
   "source": [
    "def expand_state(state):\n",
    "    new_states = []\n",
    "    available_places = state.count(None)\n",
    "    if not available_places:\n",
    "        return []\n",
    "    new_queen_i = N - available_places\n",
    "    for new_queen_j in range(N):\n",
    "        if is_valid(state, new_queen_i, new_queen_j):\n",
    "            new_state = list(state)\n",
    "            new_state[new_queen_i] = new_queen_j\n",
    "            new_states.append(tuple(new_state))\n",
    "    return new_states"
   ]
  },
  {
   "cell_type": "code",
   "execution_count": 4,
   "metadata": {},
   "outputs": [],
   "source": [
    "def search(initial_state, alg):\n",
    "    visited = {initial_state}\n",
    "    states_queue = deque([initial_state])\n",
    "    while states_queue:\n",
    "        state_to_expand = states_queue.popleft()\n",
    "        for next_state in expand_state(state_to_expand):\n",
    "            if next_state not in visited:\n",
    "                if next_state.count(None) == 0:\n",
    "                    return next_state\n",
    "                visited.add(next_state)\n",
    "                if alg == 'dfs':\n",
    "                    states_queue.appendleft(next_state)\n",
    "                elif alg == 'bfs':\n",
    "                    states_queue.append(next_state)\n",
    "    return"
   ]
  },
  {
   "cell_type": "code",
   "execution_count": 5,
   "metadata": {},
   "outputs": [],
   "source": [
    "def visualise_queens(queens):\n",
    "    import numpy as np\n",
    "    import skimage\n",
    "    from skimage import io\n",
    "    \n",
    "    if not queens:\n",
    "        print('Не постои реше.astype(np.uint8)ние за N =', N)\n",
    "        return\n",
    "    border_color = (0, 0, 0, 1)\n",
    "    queen = skimage.img_as_float(io.imread('images/queen.png'))\n",
    "    table = np.zeros((queen.shape[0] * N, queen.shape[1] * N, queen.shape[2]))\n",
    "    margin = queen.shape[0] // 20\n",
    "    for i, j in enumerate(queens):\n",
    "        table[i*queen.shape[0]:(i+1)*queen.shape[0], j*queen.shape[1]:(j+1)*queen.shape[1]] = queen\n",
    "    for index in range(1, N):\n",
    "        table[index * queen.shape[0] - margin: index * queen.shape[0] + margin] = border_color\n",
    "        table[:, index * queen.shape[1] - margin: index * queen.shape[1] + margin] = border_color\n",
    "    image_directory = 'queens'\n",
    "    os.makedirs(f'images/{image_directory}', exist_ok=True)\n",
    "    io.imsave(f'images/{image_directory}/{N}.png', 255*table.astype(np.uint8))\n",
    "    return f'Погледни ја сликата images/{image_directory}/{N}.png'"
   ]
  },
  {
   "cell_type": "code",
   "execution_count": 6,
   "metadata": {},
   "outputs": [
    {
     "data": {
      "text/plain": [
       "(7, 3, 0, 2, 5, 1, 6, 4)"
      ]
     },
     "execution_count": 6,
     "metadata": {},
     "output_type": "execute_result"
    }
   ],
   "source": [
    "N = 8\n",
    "initial_state = (None,) * N\n",
    "queens = search(initial_state, alg='dfs')\n",
    "queens"
   ]
  },
  {
   "cell_type": "code",
   "execution_count": 7,
   "metadata": {},
   "outputs": [
    {
     "data": {
      "text/plain": [
       "'Погледни ја сликата images/queens/8.png'"
      ]
     },
     "execution_count": 7,
     "metadata": {},
     "output_type": "execute_result"
    }
   ],
   "source": [
    "visualise_queens(queens)"
   ]
  },
  {
   "cell_type": "code",
   "execution_count": 8,
   "metadata": {},
   "outputs": [
    {
     "name": "stdout",
     "output_type": "stream",
     "text": [
      "CPU times: user 5.53 ms, sys: 889 µs, total: 6.42 ms\n",
      "Wall time: 6.3 ms\n"
     ]
    }
   ],
   "source": [
    "%%time\n",
    "\n",
    "N = 12\n",
    "initial_state = (None,) * N\n",
    "queens = search(initial_state, alg='dfs')\n",
    "queens"
   ]
  },
  {
   "cell_type": "code",
   "execution_count": 9,
   "metadata": {},
   "outputs": [
    {
     "name": "stdout",
     "output_type": "stream",
     "text": [
      "CPU times: user 6.3 s, sys: 58.2 ms, total: 6.36 s\n",
      "Wall time: 6.37 s\n"
     ]
    }
   ],
   "source": [
    "%%time\n",
    "\n",
    "N = 12\n",
    "initial_state = (None,) * N\n",
    "queens = search(initial_state, alg='bfs')\n",
    "queens"
   ]
  },
  {
   "cell_type": "markdown",
   "metadata": {},
   "source": [
    "## Задачи за самостојно решавање"
   ]
  },
  {
   "cell_type": "markdown",
   "metadata": {},
   "source": [
    "1. Користејќи ја шаховската фигура коњ, најдете ја најкратката патека од едно до друго поле на шаховската табла.\n",
    "2. Од папката exercises ќе најдете задача за самостојна работа каде треба да го најдете најмалиот број преминувања преку реката за околу 17 групи. Нормално, не мора да ги решавате сите 17, но одберете си некоја задача."
   ]
  },
  {
   "cell_type": "code",
   "execution_count": null,
   "metadata": {},
   "outputs": [],
   "source": []
  },
  {
   "cell_type": "code",
   "execution_count": null,
   "metadata": {},
   "outputs": [],
   "source": []
  },
  {
   "cell_type": "code",
   "execution_count": null,
   "metadata": {},
   "outputs": [],
   "source": []
  }
 ],
 "metadata": {
  "kernelspec": {
   "display_name": "Python 3",
   "language": "python",
   "name": "python3"
  },
  "language_info": {
   "codemirror_mode": {
    "name": "ipython",
    "version": 3
   },
   "file_extension": ".py",
   "mimetype": "text/x-python",
   "name": "python",
   "nbconvert_exporter": "python",
   "pygments_lexer": "ipython3",
   "version": "3.7.8"
  }
 },
 "nbformat": 4,
 "nbformat_minor": 4
}
