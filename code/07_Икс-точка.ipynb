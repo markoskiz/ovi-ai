{
 "cells": [
  {
   "cell_type": "markdown",
   "metadata": {},
   "source": [
    "# Икс-точка"
   ]
  },
  {
   "cell_type": "code",
   "execution_count": 1,
   "metadata": {},
   "outputs": [
    {
     "data": {
      "text/html": [
       "\n",
       "        <iframe\n",
       "            width=\"400\"\n",
       "            height=\"300\"\n",
       "            src=\"https://www.youtube.com/embed/2tEHZEMKjHc\"\n",
       "            frameborder=\"0\"\n",
       "            allowfullscreen\n",
       "        ></iframe>\n",
       "        "
      ],
      "text/plain": [
       "<IPython.lib.display.YouTubeVideo at 0x7fafa9acc6d0>"
      ]
     },
     "execution_count": 1,
     "metadata": {},
     "output_type": "execute_result"
    }
   ],
   "source": [
    "from IPython.lib.display import YouTubeVideo\n",
    "YouTubeVideo('2tEHZEMKjHc')"
   ]
  },
  {
   "cell_type": "code",
   "execution_count": 2,
   "metadata": {},
   "outputs": [],
   "source": [
    "from time import sleep\n",
    "from collections import deque\n",
    "from copy import deepcopy\n",
    "from plotly import graph_objects as go\n",
    "import ipywidgets as widgets"
   ]
  },
  {
   "cell_type": "code",
   "execution_count": 3,
   "metadata": {},
   "outputs": [
    {
     "data": {
      "application/vnd.jupyter.widget-view+json": {
       "model_id": "21db5eec493541c78fb83074492234c1",
       "version_major": 2,
       "version_minor": 0
      },
      "text/plain": [
       "VBox(children=(HBox(children=(Button(description='Ресетирај', style=ButtonStyle()), HTML(value='', description…"
      ]
     },
     "metadata": {},
     "output_type": "display_data"
    }
   ],
   "source": [
    "class Game:\n",
    "    def __init__(self, player_1, player_2):\n",
    "        self.player_1 = {'name': player_1[0], 'type': player_1[1], 'symbol': player_1[2], 'role': 'MAX'}\n",
    "        self.player_2 = {'name': player_2[0], 'type': player_2[1], 'symbol': player_2[2], 'role': 'MIN'}\n",
    "        self.next_player = self.player_1\n",
    "        \n",
    "        self.symbols_fig = {'x': 'x', 'o': 'circle', '·': 'circle-open'}\n",
    "        self.scores = {'x': 1, 'o': -1, 'draw': 0}\n",
    "        \n",
    "        self.score = widgets.HTML(description='Статус:', value='')\n",
    "        self.state = [['·', '·', '·'], ['·', '·', '·'], ['·', '·', '·']]\n",
    "        self.fig = self.create_fig()\n",
    "        self.button = widgets.Button(description='Ресетирај')\n",
    "        self.button.on_click(lambda x: self.reset())\n",
    "        display(widgets.VBox([widgets.HBox([self.button, self.score]), self.fig]))\n",
    "        self.reset()\n",
    "    \n",
    "    def reset(self):\n",
    "        self.next_player = self.player_1\n",
    "        self.update_score('На ред е', self.next_player)\n",
    "        self.state = [['·', '·', '·'], ['·', '·', '·'], ['·', '·', '·']]\n",
    "        self.fig.data[0].marker.symbol = [self.symbols_fig[value] for row in self.state for value in row]\n",
    "        self.evaluated = {}\n",
    "        self.take_turns()\n",
    "    \n",
    "    def player_took_turn(self, x, y):\n",
    "        self.state[y][x] = self.next_player['symbol']\n",
    "        self.fig.data[0].marker.symbol = [self.symbols_fig[value] for row in self.state for value in row]\n",
    "        winner = self.check_victory(self.state)\n",
    "        if winner != 'keep_playing':\n",
    "            if winner == 'draw':\n",
    "                self.score.value = 'Нерешено.'\n",
    "            else:\n",
    "                self.update_score('Победник е', self.next_player)\n",
    "            return\n",
    "        self.next_player = self.player_1 if self.next_player == self.player_2 else self.player_2\n",
    "        self.update_score('На ред е', self.next_player)\n",
    "        self.take_turns()\n",
    "    \n",
    "    def take_turns(self):\n",
    "        if self.next_player['type'] == 'human':\n",
    "            return  # wait for player\n",
    "        else:\n",
    "            self.score.value += ' -- пресметува'\n",
    "            state = tuple([tuple(row) for row in self.state])\n",
    "            result, move = self.minimax(state, self.next_player['role'])\n",
    "            sleep(1)\n",
    "            self.player_took_turn(*move)\n",
    "    \n",
    "    def update_score(self, message, player):\n",
    "        player_data = ' - '.join(list(player.values())[:-1])\n",
    "        self.score.value = f'{message} <b> {player_data} </b>.'\n",
    "    \n",
    "    def update_fig(self, trace, points, selector):\n",
    "        x, y = points.xs[0], points.ys[0]\n",
    "        if self.state[y][x] == '·' and self.next_player['type'] == 'human':\n",
    "            self.player_took_turn(x, y)\n",
    "\n",
    "    def create_fig(self):\n",
    "        N = 3\n",
    "        fig = go.FigureWidget()\n",
    "        x = [x for y in range(N) for x in range(N)]\n",
    "        y = [y for y in range(N) for x in range(N)]\n",
    "        symbols = [self.symbols_fig[value] for row in self.state for value in row]\n",
    "        fig.add_scatter(x=x, y=y, mode='markers', marker_size=48, \n",
    "                        marker_symbol=symbols, marker_color='LightSkyBlue',\n",
    "                        marker_line_width=6, marker_line_color='MediumPurple')\n",
    "        fig.data[0].on_click(self.update_fig)\n",
    "        fig.update_xaxes(range=[-0.5, N - 0.5], dtick=1, title='x', side='top')\n",
    "        fig.update_yaxes(range=[-0.5, N - 0.5], dtick=1, title='y', autorange='reversed')\n",
    "        fig.update_layout(width=600, height=600, showlegend=False)\n",
    "        return fig\n",
    "    \n",
    "    def minimax(self, node, player, alpha=-2, beta=2, depth=0):\n",
    "        if node not in self.evaluated:\n",
    "            self.evaluated[node] = self.check_victory(node)\n",
    "        if self.evaluated[node] != 'keep_playing':\n",
    "            return self.scores[self.evaluated[node]], None\n",
    "        best_value = 2 if player == 'MIN' else -2\n",
    "        best_move = None\n",
    "        for child, move in self.expand_state(node, player):\n",
    "            other_player = 'MIN' if player == 'MAX' else 'MAX'\n",
    "            result, _ = self.minimax(child, other_player, alpha, beta, depth + 1)\n",
    "            if player == 'MIN':\n",
    "                if result <= alpha:\n",
    "                    return result, best_move\n",
    "                if result < beta:\n",
    "                    beta = result\n",
    "                if result < best_value:\n",
    "                    best_value = result\n",
    "                    best_move = move\n",
    "            elif player == 'MAX':\n",
    "                if result >= beta:\n",
    "                    return result, best_move\n",
    "                if result > alpha:\n",
    "                    alpha = result\n",
    "                if result > best_value:\n",
    "                    best_value = result\n",
    "                    best_move = move\n",
    "        return best_value, best_move\n",
    "    \n",
    "    def expand_state(self, state, player):\n",
    "        symbol = 'x' if player == 'MAX' else 'o'\n",
    "        for y, row in enumerate(state):\n",
    "            for x, value in enumerate(row):\n",
    "                if value == '·':\n",
    "                    new_state = list([list(row) for row in state])\n",
    "                    new_state[y][x] = symbol\n",
    "                    yield tuple([tuple(row) for row in new_state]), (x, y)\n",
    "    \n",
    "    def check_victory(self, state):\n",
    "        # проверуваме редици\n",
    "        for y in range(len(state)):\n",
    "            if state[y][0] == state[y][1] == state[y][2] and state[y][0] != '·':\n",
    "                return state[y][0]\n",
    "        # проверуваме колони\n",
    "        for x in range(len(state[0])):\n",
    "            if state[0][x] == state[1][x] == state[2][x] and state[0][x] != '·':\n",
    "                return state[0][x]\n",
    "        # проверуваме главна дијагонила\n",
    "        if state[0][0] == state[1][1] == state[2][2] and state[0][0] != '·':\n",
    "            return state[0][0]\n",
    "        # проверуваме споредна дијагонила\n",
    "        if state[0][2] == state[1][1] == state[2][0] and state[0][2] != '·':\n",
    "            return state[0][2]\n",
    "        # проверуваме дали сѐ е пополнето\n",
    "        if all([value != '·' for row in state for value in row]):\n",
    "            return 'draw'\n",
    "        return 'keep_playing'\n",
    "    \n",
    "\n",
    "game = Game(('1', 'AI', 'x'), ('2', 'human', 'o'))"
   ]
  },
  {
   "cell_type": "code",
   "execution_count": null,
   "metadata": {},
   "outputs": [],
   "source": []
  },
  {
   "cell_type": "code",
   "execution_count": null,
   "metadata": {},
   "outputs": [],
   "source": []
  },
  {
   "cell_type": "code",
   "execution_count": null,
   "metadata": {},
   "outputs": [],
   "source": []
  }
 ],
 "metadata": {
  "kernelspec": {
   "display_name": "Python 3",
   "language": "python",
   "name": "python3"
  },
  "language_info": {
   "codemirror_mode": {
    "name": "ipython",
    "version": 3
   },
   "file_extension": ".py",
   "mimetype": "text/x-python",
   "name": "python",
   "nbconvert_exporter": "python",
   "pygments_lexer": "ipython3",
   "version": "3.8.5"
  }
 },
 "nbformat": 4,
 "nbformat_minor": 4
}
