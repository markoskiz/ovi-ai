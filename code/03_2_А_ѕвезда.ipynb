{
 "cells": [
  {
   "cell_type": "markdown",
   "metadata": {},
   "source": [
    "# Пребарување А*"
   ]
  },
  {
   "cell_type": "markdown",
   "metadata": {
    "tags": []
   },
   "source": [
    "## Референци\n",
    "\n",
    "1. [Пребарување А*](https://en.wikipedia.org/wiki/A*_search_algorithm)"
   ]
  },
  {
   "cell_type": "code",
   "execution_count": 1,
   "metadata": {},
   "outputs": [
    {
     "data": {
      "text/html": [
       "\n",
       "        <iframe\n",
       "            width=\"400\"\n",
       "            height=\"300\"\n",
       "            src=\"https://www.youtube.com/embed/3cbtXtb_ypo\"\n",
       "            frameborder=\"0\"\n",
       "            allowfullscreen\n",
       "        ></iframe>\n",
       "        "
      ],
      "text/plain": [
       "<IPython.lib.display.YouTubeVideo at 0x7f480c6774f0>"
      ]
     },
     "execution_count": 1,
     "metadata": {},
     "output_type": "execute_result"
    }
   ],
   "source": [
    "from IPython.lib.display import YouTubeVideo\n",
    "YouTubeVideo('3cbtXtb_ypo')"
   ]
  },
  {
   "cell_type": "markdown",
   "metadata": {},
   "source": [
    "![](images/A_star.png)"
   ]
  },
  {
   "cell_type": "markdown",
   "metadata": {},
   "source": [
    "## Претставување тежински граф преку речник"
   ]
  },
  {
   "cell_type": "code",
   "execution_count": 2,
   "metadata": {},
   "outputs": [],
   "source": [
    "from graph import WeightedGraph"
   ]
  },
  {
   "cell_type": "code",
   "execution_count": 3,
   "metadata": {},
   "outputs": [],
   "source": [
    "g = WeightedGraph()"
   ]
  },
  {
   "cell_type": "code",
   "execution_count": 4,
   "metadata": {},
   "outputs": [],
   "source": [
    "g.add_vertex('A')\n",
    "g.add_vertex('B')\n",
    "g.add_vertex('C')\n",
    "g.add_vertex('D')\n",
    "g.add_vertex('E')\n",
    "g.add_vertex('F')\n",
    "g.add_vertex('G')\n",
    "g.add_vertex('H')\n",
    "g.add_vertex('S')"
   ]
  },
  {
   "cell_type": "code",
   "execution_count": 5,
   "metadata": {},
   "outputs": [
    {
     "data": {
      "text/plain": [
       "['A', 'B', 'C', 'D', 'E', 'F', 'G', 'H', 'S']"
      ]
     },
     "execution_count": 5,
     "metadata": {},
     "output_type": "execute_result"
    }
   ],
   "source": [
    "g.vertices()"
   ]
  },
  {
   "cell_type": "code",
   "execution_count": 6,
   "metadata": {},
   "outputs": [],
   "source": [
    "g.add_edge(('A', 'C', 2))\n",
    "g.add_edge(('A', 'S', 10))\n",
    "g.add_edge(('B', 'D', 8))\n",
    "g.add_edge(('B', 'G', 16))\n",
    "g.add_edge(('B', 'S', 8))\n",
    "g.add_edge(('C', 'E', 3))\n",
    "g.add_edge(('C', 'G', 9))\n",
    "g.add_edge(('D', 'H', 1))\n",
    "g.add_edge(('D', 'G', 3))\n",
    "g.add_edge(('E', 'G', 2))\n",
    "g.add_edge(('F', 'H', 1))"
   ]
  },
  {
   "cell_type": "code",
   "execution_count": 7,
   "metadata": {},
   "outputs": [
    {
     "data": {
      "text/plain": [
       "[('A', 'C', 2),\n",
       " ('A', 'S', 10),\n",
       " ('B', 'D', 8),\n",
       " ('B', 'G', 16),\n",
       " ('B', 'S', 8),\n",
       " ('C', 'A', 2),\n",
       " ('C', 'E', 3),\n",
       " ('C', 'G', 9),\n",
       " ('D', 'B', 8),\n",
       " ('D', 'H', 1),\n",
       " ('D', 'G', 3),\n",
       " ('E', 'C', 3),\n",
       " ('E', 'G', 2),\n",
       " ('F', 'H', 1),\n",
       " ('G', 'B', 16),\n",
       " ('G', 'C', 9),\n",
       " ('G', 'D', 3),\n",
       " ('G', 'E', 2),\n",
       " ('H', 'D', 1),\n",
       " ('H', 'F', 1),\n",
       " ('S', 'A', 10),\n",
       " ('S', 'B', 8)]"
      ]
     },
     "execution_count": 7,
     "metadata": {},
     "output_type": "execute_result"
    }
   ],
   "source": [
    "g.edges()"
   ]
  },
  {
   "cell_type": "code",
   "execution_count": 8,
   "metadata": {},
   "outputs": [
    {
     "data": {
      "text/plain": [
       "[('A', 10), ('B', 8)]"
      ]
     },
     "execution_count": 8,
     "metadata": {},
     "output_type": "execute_result"
    }
   ],
   "source": [
    "g.neighbours('S')"
   ]
  },
  {
   "cell_type": "markdown",
   "metadata": {},
   "source": [
    "## Пребарување А*"
   ]
  },
  {
   "cell_type": "code",
   "execution_count": 9,
   "metadata": {},
   "outputs": [],
   "source": [
    "import heapq"
   ]
  },
  {
   "cell_type": "code",
   "execution_count": 10,
   "metadata": {},
   "outputs": [],
   "source": [
    "def a_star_search(graph, starting_vertex, goal_vertex, heuristic_function, alpha=1, verbose=False):\n",
    "    \"\"\"\n",
    "    Returns the path from starting_vertex to goal_vertex using the A-star search algorithm.\n",
    "    \"\"\"\n",
    "    # Ако почетниот јазол е еднаков на целниот, тогаш нема логика да пребаруваме воопшто\n",
    "    if starting_vertex == goal_vertex:\n",
    "        if verbose:\n",
    "            print('Почетниот и бараниот јазол се исти')\n",
    "        return\n",
    "    # Користиме множество на разгранети јазли. \n",
    "    # За разгранет јазол го сметаме оној јазол на кој ќе му ги истражиме и испроцесираме соседите.\n",
    "    expanded = set()\n",
    "    # Користиме листа која ни е подредена редица од која ќе го земаме следниот јазол за разгранување.\n",
    "    # Тука ја памтиме и моменталната патека за секој јазол од почетниот. Дополнително, ја памтиме и цената на патот до тој момент.\n",
    "    # Редицата ја преуредуваме на специјален начин така што ќе ја направиме хип структура (анг. heap).\n",
    "    # Понатаму, со редицата ќе работиме само преку heapq библиотеката.\n",
    "    queue = [((0, 0), [starting_vertex])]\n",
    "    heapq.heapify(queue)\n",
    "    # Пребаруваме сѐ додека има јазли за разгранување во редицата.\n",
    "    while queue:\n",
    "        if verbose:\n",
    "            print('Ред за разгранување:')\n",
    "            for element in queue:\n",
    "                print(element, end=' ')\n",
    "            print()\n",
    "            print()\n",
    "        # Членови на редицата јазли се патеките од почетниот јазол до некој јазол кој треба да се разграни.\n",
    "        # За да го земеме наредниот јазол за разгранување, ние треба од редицата да ја извадиме патеката на тој јазол.\n",
    "        weight_tuple, vertex_list = heapq.heappop(queue)\n",
    "        # Во оваа имплементација на А-ѕвезда користиме торка од две тежини каде редицата ја подредуваме по збирот \n",
    "        # на тежината на поминатиот пат и дојавата. Подредуваме по тежината current_a_star_weight која не ни треба понатаму.\n",
    "        # Понатаму ја користиме само тежината current_path_weight.\n",
    "        current_a_star_weight, current_path_weight = weight_tuple\n",
    "        # Јазолот за разгранување е последниот во оваа листа.\n",
    "        vertex_to_expand = vertex_list[-1]\n",
    "        # Тука ја вршиме проверката дали сме стигнале до целниот јазол.\n",
    "        if vertex_to_expand == goal_vertex:\n",
    "            if verbose:\n",
    "                print('Го пронајдовме посакуваниот јазол {}. Патеката да стигнеме до тука е {} со цена {}'\n",
    "                      .format(vertex_to_expand, vertex_list, current_path_weight))\n",
    "            return current_path_weight, vertex_list\n",
    "        # Ако веќе сме го разграниле овој јазол, нема логика да го разгрануваме пак.\n",
    "        if vertex_to_expand in expanded:\n",
    "            if verbose:\n",
    "                print('{} е веќе разгранет'.format(vertex_to_expand, current_path_weight, vertex_list))\n",
    "            continue\n",
    "        if verbose:\n",
    "            print('Го разгрануваме јазолот {} од ({}, {})'.format(vertex_to_expand, current_path_weight, vertex_list))\n",
    "        # На оваа линија код, сигурни сме дека не сме го разграниле моменталниот јазол. Го разгрануваме така што пребаруваме низ сите негови соседи.\n",
    "        for neighbour, new_weight in graph.neighbours(vertex_to_expand):\n",
    "            if neighbour in expanded:\n",
    "                if verbose:\n",
    "                    print('{} е веќе разгранет'.format(neighbour))\n",
    "            else:\n",
    "                # Ако моменталниот сосед не е разгранет, го додаваме во редицата на јазли за разгранување.\n",
    "                if verbose:\n",
    "                    print('{} со тежина {}, кој е соседен јазол на {}, го додаваме во редот за разгранување со нова '\n",
    "                          'цена и го означуваме како разгранет'.format(neighbour, new_weight, vertex_to_expand))\n",
    "                # Дојавата која ја користиме е функција добиена како аргумент бидејќи функцијата на дојава е различна за секој проблем.\n",
    "                heuristic = heuristic_function(neighbour, goal_vertex)\n",
    "                # Новата вредност на поминатата патека е досегашната патека + новата тежина\n",
    "                path_weight = current_path_weight + new_weight\n",
    "                # А тежината во А-ѕвезда е досегашната патека + новата тежина + тежината од дојавата.\n",
    "                a_star_weight = path_weight + alpha * heuristic\n",
    "                # Бидејќи ова е пребарување А-ѕвезда, соседот кој го додаваме ќе биде соодветно додаден преку библиотеката heapq.\n",
    "                heapq.heappush(queue, ((a_star_weight, path_weight), vertex_list + [neighbour]))\n",
    "        # Откако го разгранивме јазолот, го додаваме во множеството разгранети јазли.\n",
    "        expanded.add(vertex_to_expand)\n",
    "        if verbose:\n",
    "            print()"
   ]
  },
  {
   "cell_type": "code",
   "execution_count": 11,
   "metadata": {},
   "outputs": [],
   "source": [
    "d_heuristic = {'S': 12, 'A': 5, 'B': 5, 'C': 5, 'D': 2, 'E': 2, 'F': 1, 'G': 1, 'H': 0}\n",
    "def heuristic(vertex, goal_vertex):\n",
    "    return d_heuristic[vertex]"
   ]
  },
  {
   "cell_type": "code",
   "execution_count": 12,
   "metadata": {},
   "outputs": [
    {
     "name": "stdout",
     "output_type": "stream",
     "text": [
      "Ред за разгранување:\n",
      "((0, 0), ['S']) \n",
      "\n",
      "Го разгрануваме јазолот S од (0, ['S'])\n",
      "A со тежина 10, кој е соседен јазол на S, го додаваме во редот за разгранување со нова цена и го означуваме како разгранет\n",
      "B со тежина 8, кој е соседен јазол на S, го додаваме во редот за разгранување со нова цена и го означуваме како разгранет\n",
      "\n",
      "Ред за разгранување:\n",
      "((13, 8), ['S', 'B']) ((15, 10), ['S', 'A']) \n",
      "\n",
      "Го разгрануваме јазолот B од (8, ['S', 'B'])\n",
      "D со тежина 8, кој е соседен јазол на B, го додаваме во редот за разгранување со нова цена и го означуваме како разгранет\n",
      "G со тежина 16, кој е соседен јазол на B, го додаваме во редот за разгранување со нова цена и го означуваме како разгранет\n",
      "S е веќе разгранет\n",
      "\n",
      "Ред за разгранување:\n",
      "((15, 10), ['S', 'A']) ((18, 16), ['S', 'B', 'D']) ((25, 24), ['S', 'B', 'G']) \n",
      "\n",
      "Го разгрануваме јазолот A од (10, ['S', 'A'])\n",
      "C со тежина 2, кој е соседен јазол на A, го додаваме во редот за разгранување со нова цена и го означуваме како разгранет\n",
      "S е веќе разгранет\n",
      "\n",
      "Ред за разгранување:\n",
      "((17, 12), ['S', 'A', 'C']) ((25, 24), ['S', 'B', 'G']) ((18, 16), ['S', 'B', 'D']) \n",
      "\n",
      "Го разгрануваме јазолот C од (12, ['S', 'A', 'C'])\n",
      "A е веќе разгранет\n",
      "E со тежина 3, кој е соседен јазол на C, го додаваме во редот за разгранување со нова цена и го означуваме како разгранет\n",
      "G со тежина 9, кој е соседен јазол на C, го додаваме во редот за разгранување со нова цена и го означуваме како разгранет\n",
      "\n",
      "Ред за разгранување:\n",
      "((17, 15), ['S', 'A', 'C', 'E']) ((22, 21), ['S', 'A', 'C', 'G']) ((18, 16), ['S', 'B', 'D']) ((25, 24), ['S', 'B', 'G']) \n",
      "\n",
      "Го разгрануваме јазолот E од (15, ['S', 'A', 'C', 'E'])\n",
      "C е веќе разгранет\n",
      "G со тежина 2, кој е соседен јазол на E, го додаваме во редот за разгранување со нова цена и го означуваме како разгранет\n",
      "\n",
      "Ред за разгранување:\n",
      "((18, 16), ['S', 'B', 'D']) ((18, 17), ['S', 'A', 'C', 'E', 'G']) ((25, 24), ['S', 'B', 'G']) ((22, 21), ['S', 'A', 'C', 'G']) \n",
      "\n",
      "Го разгрануваме јазолот D од (16, ['S', 'B', 'D'])\n",
      "B е веќе разгранет\n",
      "H со тежина 1, кој е соседен јазол на D, го додаваме во редот за разгранување со нова цена и го означуваме како разгранет\n",
      "G со тежина 3, кој е соседен јазол на D, го додаваме во редот за разгранување со нова цена и го означуваме како разгранет\n",
      "\n",
      "Ред за разгранување:\n",
      "((17, 17), ['S', 'B', 'D', 'H']) ((18, 17), ['S', 'A', 'C', 'E', 'G']) ((25, 24), ['S', 'B', 'G']) ((22, 21), ['S', 'A', 'C', 'G']) ((20, 19), ['S', 'B', 'D', 'G']) \n",
      "\n",
      "Го разгрануваме јазолот H од (17, ['S', 'B', 'D', 'H'])\n",
      "D е веќе разгранет\n",
      "F со тежина 1, кој е соседен јазол на H, го додаваме во редот за разгранување со нова цена и го означуваме како разгранет\n",
      "\n",
      "Ред за разгранување:\n",
      "((18, 17), ['S', 'A', 'C', 'E', 'G']) ((19, 18), ['S', 'B', 'D', 'H', 'F']) ((25, 24), ['S', 'B', 'G']) ((22, 21), ['S', 'A', 'C', 'G']) ((20, 19), ['S', 'B', 'D', 'G']) \n",
      "\n",
      "Го пронајдовме посакуваниот јазол G. Патеката да стигнеме до тука е ['S', 'A', 'C', 'E', 'G'] со цена 17\n"
     ]
    },
    {
     "data": {
      "text/plain": [
       "(17, ['S', 'A', 'C', 'E', 'G'])"
      ]
     },
     "execution_count": 12,
     "metadata": {},
     "output_type": "execute_result"
    }
   ],
   "source": [
    "a_star_search(g, starting_vertex='S', goal_vertex='G', heuristic_function=heuristic, verbose=True)"
   ]
  },
  {
   "cell_type": "code",
   "execution_count": null,
   "metadata": {},
   "outputs": [],
   "source": []
  },
  {
   "cell_type": "code",
   "execution_count": null,
   "metadata": {},
   "outputs": [],
   "source": []
  },
  {
   "cell_type": "code",
   "execution_count": null,
   "metadata": {},
   "outputs": [],
   "source": []
  }
 ],
 "metadata": {
  "kernelspec": {
   "display_name": "Python 3 (ipykernel)",
   "language": "python",
   "name": "python3"
  },
  "language_info": {
   "codemirror_mode": {
    "name": "ipython",
    "version": 3
   },
   "file_extension": ".py",
   "mimetype": "text/x-python",
   "name": "python",
   "nbconvert_exporter": "python",
   "pygments_lexer": "ipython3",
   "version": "3.9.7"
  }
 },
 "nbformat": 4,
 "nbformat_minor": 4
}
