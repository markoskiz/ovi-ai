{
 "cells": [
  {
   "cell_type": "markdown",
   "metadata": {},
   "source": [
    "# Дрва на одлучување"
   ]
  },
  {
   "cell_type": "markdown",
   "metadata": {},
   "source": [
    "Дрво на одлучување е граф со дрвенеста структура каде секој јазол е прашање кое го дели на неколку дела даденото множество податоци. Врските во дрвото се одговорите на прашањето поставено од јазолот. Листовите на дрвото се излезите кои ќе ги произведе дрвото за даден влезен податок. \n",
    "\n",
    "Дрвото на одлучување ги класифицира дадените влезни податоци така што ќе започне од коренот и одејќи од јазол на јазол ќе стигне до некој лист чија вредност е излез за дадениот влезен податок.\n",
    "\n",
    "Еве пример за дрво на одлучување кое ќе ни одговори кое превозно средство да го искористиме во зависност од моменталната состојба на денот во кој се наоѓаме.\n",
    "\n",
    "![Пример за дрво на одлучување](decision_tree_example.png)"
   ]
  },
  {
   "cell_type": "code",
   "execution_count": 37,
   "metadata": {},
   "outputs": [],
   "source": [
    "import numpy as np\n",
    "import pandas as pd\n",
    "from matplotlib import pyplot as plt"
   ]
  },
  {
   "cell_type": "markdown",
   "metadata": {},
   "source": [
    "Ова дрво го создаваме со помош на податоци со кои располагаме. Нека, на пример, пред нас ја имаме дадената табела од последните 12 дена. Од оваа табела може да биде создадено даденото дрво на одлучување."
   ]
  },
  {
   "cell_type": "code",
   "execution_count": 38,
   "metadata": {},
   "outputs": [
    {
     "data": {
      "text/html": [
       "<div>\n",
       "<style scoped>\n",
       "    .dataframe tbody tr th:only-of-type {\n",
       "        vertical-align: middle;\n",
       "    }\n",
       "\n",
       "    .dataframe tbody tr th {\n",
       "        vertical-align: top;\n",
       "    }\n",
       "\n",
       "    .dataframe thead th {\n",
       "        text-align: right;\n",
       "    }\n",
       "</style>\n",
       "<table border=\"1\" class=\"dataframe\">\n",
       "  <thead>\n",
       "    <tr style=\"text-align: right;\">\n",
       "      <th></th>\n",
       "      <th>Wheather</th>\n",
       "      <th>Time</th>\n",
       "      <th>Hungry</th>\n",
       "      <th>Transport</th>\n",
       "    </tr>\n",
       "  </thead>\n",
       "  <tbody>\n",
       "    <tr>\n",
       "      <th>0</th>\n",
       "      <td>Sun</td>\n",
       "      <td>44</td>\n",
       "      <td>True</td>\n",
       "      <td>Walk</td>\n",
       "    </tr>\n",
       "    <tr>\n",
       "      <th>1</th>\n",
       "      <td>Sun</td>\n",
       "      <td>23</td>\n",
       "      <td>False</td>\n",
       "      <td>Bus</td>\n",
       "    </tr>\n",
       "    <tr>\n",
       "      <th>2</th>\n",
       "      <td>Sun</td>\n",
       "      <td>31</td>\n",
       "      <td>True</td>\n",
       "      <td>Walk</td>\n",
       "    </tr>\n",
       "    <tr>\n",
       "      <th>3</th>\n",
       "      <td>Sun</td>\n",
       "      <td>7</td>\n",
       "      <td>False</td>\n",
       "      <td>Bus</td>\n",
       "    </tr>\n",
       "    <tr>\n",
       "      <th>4</th>\n",
       "      <td>Sun</td>\n",
       "      <td>19</td>\n",
       "      <td>True</td>\n",
       "      <td>Bus</td>\n",
       "    </tr>\n",
       "    <tr>\n",
       "      <th>5</th>\n",
       "      <td>Cloud</td>\n",
       "      <td>34</td>\n",
       "      <td>True</td>\n",
       "      <td>Walk</td>\n",
       "    </tr>\n",
       "    <tr>\n",
       "      <th>6</th>\n",
       "      <td>Cloud</td>\n",
       "      <td>16</td>\n",
       "      <td>False</td>\n",
       "      <td>Bus</td>\n",
       "    </tr>\n",
       "    <tr>\n",
       "      <th>7</th>\n",
       "      <td>Cloud</td>\n",
       "      <td>6</td>\n",
       "      <td>True</td>\n",
       "      <td>Walk</td>\n",
       "    </tr>\n",
       "    <tr>\n",
       "      <th>8</th>\n",
       "      <td>Cloud</td>\n",
       "      <td>25</td>\n",
       "      <td>True</td>\n",
       "      <td>Walk</td>\n",
       "    </tr>\n",
       "    <tr>\n",
       "      <th>9</th>\n",
       "      <td>Cloud</td>\n",
       "      <td>71</td>\n",
       "      <td>False</td>\n",
       "      <td>Bus</td>\n",
       "    </tr>\n",
       "    <tr>\n",
       "      <th>10</th>\n",
       "      <td>Rain</td>\n",
       "      <td>12</td>\n",
       "      <td>False</td>\n",
       "      <td>Bus</td>\n",
       "    </tr>\n",
       "    <tr>\n",
       "      <th>11</th>\n",
       "      <td>Rain</td>\n",
       "      <td>34</td>\n",
       "      <td>True</td>\n",
       "      <td>Bus</td>\n",
       "    </tr>\n",
       "  </tbody>\n",
       "</table>\n",
       "</div>"
      ],
      "text/plain": [
       "   Wheather  Time  Hungry Transport\n",
       "0       Sun    44    True      Walk\n",
       "1       Sun    23   False       Bus\n",
       "2       Sun    31    True      Walk\n",
       "3       Sun     7   False       Bus\n",
       "4       Sun    19    True       Bus\n",
       "5     Cloud    34    True      Walk\n",
       "6     Cloud    16   False       Bus\n",
       "7     Cloud     6    True      Walk\n",
       "8     Cloud    25    True      Walk\n",
       "9     Cloud    71   False       Bus\n",
       "10     Rain    12   False       Bus\n",
       "11     Rain    34    True       Bus"
      ]
     },
     "execution_count": 38,
     "metadata": {},
     "output_type": "execute_result"
    }
   ],
   "source": [
    "df = pd.DataFrame(\n",
    "    [['Sun', 44, True, 'Walk'], \n",
    "     ['Sun', 23, False, 'Bus'],\n",
    "     ['Sun', 31, True, 'Walk'],\n",
    "     ['Sun', 7, False, 'Bus'],\n",
    "     ['Sun', 19, True, 'Bus'],\n",
    "     ['Cloud', 34, True, 'Walk'],\n",
    "     ['Cloud', 16, False, 'Bus'],\n",
    "     ['Cloud', 6, True, 'Walk'],\n",
    "     ['Cloud', 25, True, 'Walk'],\n",
    "     ['Cloud', 71, False, 'Bus'],\n",
    "     ['Rain', 12, False, 'Bus'],\n",
    "     ['Rain', 34, True, 'Bus']], columns=['Wheather', 'Time', 'Hungry', 'Transport'])\n",
    "df"
   ]
  },
  {
   "cell_type": "markdown",
   "metadata": {},
   "source": [
    "## Создавање дрво на одлучување\n",
    "\n",
    "Основниот алгоритам за создавање дрво на одлучување е [ID3](https://en.wikipedia.org/wiki/ID3_algorithm). Алгоритамот го гради дрвото од коренот кон листовите и притоа користи алчен пристап. \n",
    "Накратко, алгоритамот оди вака:\n",
    "*  Одреди која карактеристика е најдобро го дели множеството.\n",
    "*  Означи ја таа карактеристика како јазол.\n",
    "*  За секоја можна вредност на одбраната карактеристика ќе создадеме нов јазол кој ќе биде дете на моменталниот јазол.\n",
    "*  Податоците кои ги имаме за моменталниот јазол ќе ги поделиме на сите негови деца според вредноста на одбраната карактеристика.\n",
    "*  Ако новокреираните табели со дадените податоци се перфектно класифицирани, запираме, инаку истиот алгоритам го повторуваме за секој новокреиран јазол.\n",
    "\n",
    "Главно прашање е како да одредиме која карактеристика е најдобра за да го подели множеството. За алгоритамот ID3 најдобра карактеристика е онаа која има најголема [информациска придобивка](https://en.wikipedia.org/wiki/Information_gain_in_decision_trees). Оваа придобивка ја сметаме како мерка која ќе измери колку добро карактеристиката го дели множеството на групи за да можеме успешно да класифицираме. \n",
    "\n",
    "Алгоритамот е алчен бидејќи секогаш ја одбира најдобрата поделба само за момнеталната распределба на податоците, а не ја гледа најдобрата можност генерално за целото дрво.\n",
    "\n",
    "Алгоритамот подразбира дека сите карактеристики се дискретни, а класификацијата е бинарна. \n",
    "\n",
    "### Информациска придобивка\n",
    "\n",
    "Информациската придобивка е статистичка мерка која кажува колку добро карактеристиката го дели множеството на групи за да можеме успешно да класифицираме. На сликата (десно) може да видиме како една карактеристика го дели множеството на два дела. Двата дела имаат приближно еднаков број `+` и `-`. Едноставно, оваа поделба не нѐ води поблиску кон успешна класификација бидејќи подгрупите се хомогени. За разлика од ова, (лево) ја имаме карактеристиката со голема информациска придобивка која подобро го дели множеството бидејќи има изразена нехомогеност. Лесно забележуваме дека во едната подгрупа имаме повеќе `+`, а во другата имаме повеќе `-`. Ова нѐ води кон успешна класификација.\n",
    "\n",
    "![Висока информациска придобивка](high_information_gain.png) \n",
    "![Ниска информациска придобивка](low_information_gain.png) \n",
    "\n",
    "Пред да ја дефинираме точно информациската придобивка, ќе дефинираме што значи [ентропија](https://en.wikipedia.org/wiki/Entropy_(information_theory) во теоријата на инфромации. \n",
    "\n",
    "#### Ентропија\n",
    "\n",
    "Генерално, ентропијата е мерка за неред во едно множество. За нашиот проблем ентропијата ќе ни каже дали во едно многжество податоци, како претходно со `+` и `-`, имаме хомогеност или пак не. Ентропијата $H$ во теоријата на информации ја пресметуваме според равенката на научникот [Клод Шенон](https://en.wikipedia.org/wiki/Claude_Shannon)\n",
    "\n",
    "$$ H = \\sum_i - p_i \\log p_i$$\n",
    "\n",
    "За алгоритамот ID3, неговата бинарна класификација, и дадено множество $S$ каде излезите се означени со `+` и `-`, ентропијата ќе ја запишуваме како\n",
    "\n",
    "$$ H(S) = - p_+ \\log_2 p_+ - p_- \\log_2 p_- $$\n",
    "\n",
    "каде $p_+$ е подмножеството на $S$ каде излезот е `+`, а $p_-$ е подмножеството на $S$ каде излезот е `-`.\n",
    "\n",
    "Вредноста која ќе ја добиеме е реален број. На пример, за 30 податоци каде 14 се `+`, а 16 се `-`, ќе добиеме дека ентропијата е 0.996. "
   ]
  },
  {
   "cell_type": "code",
   "execution_count": 39,
   "metadata": {},
   "outputs": [
    {
     "data": {
      "text/plain": [
       "(14, 16, 30)"
      ]
     },
     "execution_count": 39,
     "metadata": {},
     "output_type": "execute_result"
    }
   ],
   "source": [
    "a = 14  # plus\n",
    "b = 16  # minus\n",
    "m = a + b\n",
    "a, b, m"
   ]
  },
  {
   "cell_type": "code",
   "execution_count": 40,
   "metadata": {},
   "outputs": [
    {
     "data": {
      "text/plain": [
       "0.9967916319816366"
      ]
     },
     "execution_count": 40,
     "metadata": {},
     "output_type": "execute_result"
    }
   ],
   "source": [
    "def entropy(a, b):\n",
    "    \"\"\"\n",
    "    Function that calculates information entropy.\n",
    "    :param a: subset A size\n",
    "    :param b: subset B size\n",
    "    :returns: entropy\n",
    "    \"\"\"\n",
    "    if a == 0 or b == 0:\n",
    "        return 0\n",
    "    m = a + b\n",
    "    return - a/m * np.log2(a/m) - b/m * np.log2(b/m)\n",
    "\n",
    "entropy(a, b)"
   ]
  },
  {
   "cell_type": "markdown",
   "metadata": {},
   "source": [
    "Во зависност од бројот на `+` и `-` можеме да исцртаме график. Графикот ќе го исцртаме за 100 точки."
   ]
  },
  {
   "cell_type": "code",
   "execution_count": 41,
   "metadata": {},
   "outputs": [
    {
     "data": {
      "text/plain": [
       "Text(0.5, 1.0, 'Ентропија за дадено множество')"
      ]
     },
     "execution_count": 41,
     "metadata": {},
     "output_type": "execute_result"
    },
    {
     "data": {
      "image/png": "[encoded data removed]",
      "text/plain": [
       "<Figure size 432x288 with 1 Axes>"
      ]
     },
     "metadata": {
      "needs_background": "light"
     },
     "output_type": "display_data"
    }
   ],
   "source": [
    "x = np.linspace(start=0, stop=1, num=100)\n",
    "y = np.array([entropy(p, 1-p) for p in x])\n",
    "plt.plot(x, y)\n",
    "plt.xlabel('p+ or p-')\n",
    "plt.ylabel('H(S)')\n",
    "plt.title('Ентропија за дадено множество')"
   ]
  },
  {
   "cell_type": "markdown",
   "metadata": {},
   "source": [
    "Од тука можеме да видиме дека ентропијата е 0 ако сите податоци од едно множество припаѓаат на една класа. Најголема е кога има ист број податоци од двете класи.\n",
    "\n",
    "#### Духовита претстава на ентропијата според Стефан :D\n",
    "\n",
    "Нека имаме $N$ гости. Ги прашуваме кој сака да пие пиво и ги класифицираме гостите во две групи: (1) пие пиво и (2) не пие пиво. Земаме одговор од секој од гостите и одиме во кујната. Таму ни се поставува прашањето \"Кој рече дека ќе пие пиво?\".\n",
    "*  Најлесно е да запаметиме ако никој не пие пиво или пак сите ќе пијат.\n",
    "*  Лесно е да запаметиме ако само еден нарачал пиво. Подеднакво лесно е да запаметиме ако само еден __не__ нерачал пиво.\n",
    "*  Малку потешко е ако треба да запаметиме дека двајца ќе пијат пиво. Подеднакво тешко е ако треба да запаметиме дека двајца __нема__ да пијат пиво.\n",
    "*  Уште малку потешко е ако треба да запаметиме дека тројца ќе пијат пиво. Подеднакво тешко е ако треба да запаметиме дека тројца __нема__ да пијат пиво.\n",
    "*  ...\n",
    "*  ...\n",
    "*  ...\n",
    "*  Најтешко е да запаметиме кои личности ќе пијат, а кои не, ако точно половина пијат, а другата половина не.\n",
    "\n",
    "Всушност, она што треба да запаметиме е информацијата која ја носи анкетата направена врз гостите. Одговорите на гостите можеме да ги сметаме како стохастички извор на податоци. Ако секоја вечер ја правиме оваа анкета ќе добиеме распределба како на графикот горе. Ова е ентропијата.\n",
    "\n",
    "Имајќи го предвид овој пример, многу полесно ќе ја разберете првата реченица на википедија која опишува што е [ентропија](https://en.wikipedia.org/wiki/Entropy_(information_theory)), цитирана подолу.\n",
    "\n",
    "`Information entropy is the average rate at which information is produced by a stochastic source of data.`\n",
    "\n",
    "Да се вратиме на алгоритамот ID3. Споменавме дека овој алгоритам за најдобра карактеристика ја одбира онаа која има најголема информациска придобивка. По трети пат, таа е мерка која ќе измери колку добро дадена карактеристика $a$ го дели множеството $S$ на групи за да можеме успешно да класифицираме. Генерално, ќе ја изразиме како разлика помеѓу моменталната ентропија на множеството $S$ и ентропијата која ќе ја пресметаме откако карактеристиката $a$ ќе го подели множеството на групи.\n",
    "\n",
    "$$ IG(S, a) = H(S) - H(S|a) $$\n",
    "\n",
    "Попрецизно ќе запишеме\n",
    "\n",
    "$$ IG(S, a) = H(S) - \\sum_v \\frac{|S_a(v)|}{|S|} H(S_a(v)) $$\n",
    "\n",
    "Тука $v$ е вредност на карактеристиката $a$ која го дели множеството на повеќе подмножества. Подмножеството на множеството $S$ за вредноста $v$ на карактеристиката $a$ го означуваме како $S_a(v)$. Ентропијата $H(S|a)$ откако $a$ ќе ги подели множеството ја пресметуваме како среднa вредност од ентропиите посебно пресметани за секоја вредност $v$ на карактеристиката $a$. Тие ентропии се помножени со тежински множител $\\frac{|S_a(v)|}{|S|}$ кој кажува колкав дел се податоците во $S_a(v)$ од податоците во $S$.\n",
    "\n",
    "Еве пример за дадено множество со 30 податоци од кои 14 се `+`, а 16 се `-`. Да ја пресметаме информациската придобивка.\n",
    "\n",
    "![Информациска придобивка](information_gain.png)\n",
    "\n",
    "Левото подмножество има 17 податоци, од кои 13 се `+`, а 4 се `-`. Тежинскиот множител ќе биде $\\frac{17}{30}$. Ентропијата ќе ја пресметаме според функцијата `entropy()`со која веќе располагаме."
   ]
  },
  {
   "cell_type": "code",
   "execution_count": 42,
   "metadata": {},
   "outputs": [
    {
     "data": {
      "text/plain": [
       "0.7871265862012691"
      ]
     },
     "execution_count": 42,
     "metadata": {},
     "output_type": "execute_result"
    }
   ],
   "source": [
    "h1 = entropy(13, 4)\n",
    "h1"
   ]
  },
  {
   "cell_type": "markdown",
   "metadata": {},
   "source": [
    "Десното подмножество има 13 податоци, од кои 1 е `+`, а 12 се `-`. Тежинскиот множител ќе биде $\\frac{13}{30}$. Ентропијата ќе ја пресметаме според функцијата `entropy()`со која веќе располагаме."
   ]
  },
  {
   "cell_type": "code",
   "execution_count": 43,
   "metadata": {},
   "outputs": [
    {
     "data": {
      "text/plain": [
       "0.39124356362925566"
      ]
     },
     "execution_count": 43,
     "metadata": {},
     "output_type": "execute_result"
    }
   ],
   "source": [
    "h2 = entropy(1, 12)\n",
    "h2"
   ]
  },
  {
   "cell_type": "markdown",
   "metadata": {},
   "source": [
    "Ентропијата на дадено множество веќе ја пресметавме погоре, но ќе ја пресметаму пак."
   ]
  },
  {
   "cell_type": "code",
   "execution_count": 44,
   "metadata": {},
   "outputs": [
    {
     "data": {
      "text/plain": [
       "0.9967916319816366"
      ]
     },
     "execution_count": 44,
     "metadata": {},
     "output_type": "execute_result"
    }
   ],
   "source": [
    "h_before_split = entropy(14, 16)\n",
    "h_before_split"
   ]
  },
  {
   "cell_type": "markdown",
   "metadata": {},
   "source": [
    "Ентропијата $H(S|a)$ ќе ја пресметаме според дадената равенка."
   ]
  },
  {
   "cell_type": "code",
   "execution_count": 45,
   "metadata": {},
   "outputs": [
    {
     "data": {
      "text/plain": [
       "0.6155772764200632"
      ]
     },
     "execution_count": 45,
     "metadata": {},
     "output_type": "execute_result"
    }
   ],
   "source": [
    "h_after_split = 17/30 * h1 + 13/30 * h2\n",
    "h_after_split"
   ]
  },
  {
   "cell_type": "markdown",
   "metadata": {},
   "source": [
    "За крај, ќе ја пресметаме информациската придобивка. Добиваме дека за оваа поделба на карактеристиката $a$ имаме информациска придобивка од 0.38."
   ]
  },
  {
   "cell_type": "code",
   "execution_count": 46,
   "metadata": {},
   "outputs": [
    {
     "data": {
      "text/plain": [
       "0.38121435556157335"
      ]
     },
     "execution_count": 46,
     "metadata": {},
     "output_type": "execute_result"
    }
   ],
   "source": [
    "information_gain = h_before_split - h_after_split\n",
    "information_gain"
   ]
  },
  {
   "cell_type": "markdown",
   "metadata": {},
   "source": [
    "Ајде да пресметаме која карактеристика од `wheather`, `time` или пак `hungry` најдобро го дели множеството запишано во променливата `df` на почетокот на оваа дигитална тетратка."
   ]
  },
  {
   "cell_type": "code",
   "execution_count": 47,
   "metadata": {},
   "outputs": [
    {
     "data": {
      "text/html": [
       "<div>\n",
       "<style scoped>\n",
       "    .dataframe tbody tr th:only-of-type {\n",
       "        vertical-align: middle;\n",
       "    }\n",
       "\n",
       "    .dataframe tbody tr th {\n",
       "        vertical-align: top;\n",
       "    }\n",
       "\n",
       "    .dataframe thead th {\n",
       "        text-align: right;\n",
       "    }\n",
       "</style>\n",
       "<table border=\"1\" class=\"dataframe\">\n",
       "  <thead>\n",
       "    <tr style=\"text-align: right;\">\n",
       "      <th></th>\n",
       "      <th>Wheather</th>\n",
       "      <th>Time</th>\n",
       "      <th>Hungry</th>\n",
       "      <th>Transport</th>\n",
       "    </tr>\n",
       "  </thead>\n",
       "  <tbody>\n",
       "    <tr>\n",
       "      <th>0</th>\n",
       "      <td>Sun</td>\n",
       "      <td>44</td>\n",
       "      <td>True</td>\n",
       "      <td>Walk</td>\n",
       "    </tr>\n",
       "    <tr>\n",
       "      <th>1</th>\n",
       "      <td>Sun</td>\n",
       "      <td>23</td>\n",
       "      <td>False</td>\n",
       "      <td>Bus</td>\n",
       "    </tr>\n",
       "    <tr>\n",
       "      <th>2</th>\n",
       "      <td>Sun</td>\n",
       "      <td>31</td>\n",
       "      <td>True</td>\n",
       "      <td>Walk</td>\n",
       "    </tr>\n",
       "    <tr>\n",
       "      <th>3</th>\n",
       "      <td>Sun</td>\n",
       "      <td>7</td>\n",
       "      <td>False</td>\n",
       "      <td>Bus</td>\n",
       "    </tr>\n",
       "    <tr>\n",
       "      <th>4</th>\n",
       "      <td>Sun</td>\n",
       "      <td>19</td>\n",
       "      <td>True</td>\n",
       "      <td>Bus</td>\n",
       "    </tr>\n",
       "    <tr>\n",
       "      <th>5</th>\n",
       "      <td>Cloud</td>\n",
       "      <td>34</td>\n",
       "      <td>True</td>\n",
       "      <td>Walk</td>\n",
       "    </tr>\n",
       "    <tr>\n",
       "      <th>6</th>\n",
       "      <td>Cloud</td>\n",
       "      <td>16</td>\n",
       "      <td>False</td>\n",
       "      <td>Bus</td>\n",
       "    </tr>\n",
       "    <tr>\n",
       "      <th>7</th>\n",
       "      <td>Cloud</td>\n",
       "      <td>6</td>\n",
       "      <td>True</td>\n",
       "      <td>Walk</td>\n",
       "    </tr>\n",
       "    <tr>\n",
       "      <th>8</th>\n",
       "      <td>Cloud</td>\n",
       "      <td>25</td>\n",
       "      <td>True</td>\n",
       "      <td>Walk</td>\n",
       "    </tr>\n",
       "    <tr>\n",
       "      <th>9</th>\n",
       "      <td>Cloud</td>\n",
       "      <td>71</td>\n",
       "      <td>False</td>\n",
       "      <td>Bus</td>\n",
       "    </tr>\n",
       "    <tr>\n",
       "      <th>10</th>\n",
       "      <td>Rain</td>\n",
       "      <td>12</td>\n",
       "      <td>False</td>\n",
       "      <td>Bus</td>\n",
       "    </tr>\n",
       "    <tr>\n",
       "      <th>11</th>\n",
       "      <td>Rain</td>\n",
       "      <td>34</td>\n",
       "      <td>True</td>\n",
       "      <td>Bus</td>\n",
       "    </tr>\n",
       "  </tbody>\n",
       "</table>\n",
       "</div>"
      ],
      "text/plain": [
       "   Wheather  Time  Hungry Transport\n",
       "0       Sun    44    True      Walk\n",
       "1       Sun    23   False       Bus\n",
       "2       Sun    31    True      Walk\n",
       "3       Sun     7   False       Bus\n",
       "4       Sun    19    True       Bus\n",
       "5     Cloud    34    True      Walk\n",
       "6     Cloud    16   False       Bus\n",
       "7     Cloud     6    True      Walk\n",
       "8     Cloud    25    True      Walk\n",
       "9     Cloud    71   False       Bus\n",
       "10     Rain    12   False       Bus\n",
       "11     Rain    34    True       Bus"
      ]
     },
     "execution_count": 47,
     "metadata": {},
     "output_type": "execute_result"
    }
   ],
   "source": [
    "df"
   ]
  },
  {
   "cell_type": "markdown",
   "metadata": {},
   "source": [
    "ID3 алгоритамот смета дека карактеристиките имаат дискретни вредности. \n",
    "*  `Wheather` има три различни вредности и тоа е во ред. \n",
    "*  `Hungry` има две различни вредности и тоа е во ред.\n",
    "*  `Time` има многу различни вредности. Можеме да ги оставиме така, ама пологично е да направеме како што беше однапред предложено, да поставиме граница од 30 минути и да сметаме за сите податоци дали вреемто е над или под 30 минути. Всушност, така е и конструирано дрвото на одлучување дадено на почетокот на тетратака. Ќе поставиме нова колона Time_over_30 и ќе ја пополниме со `True` или `False`."
   ]
  },
  {
   "cell_type": "code",
   "execution_count": 79,
   "metadata": {},
   "outputs": [
    {
     "data": {
      "text/html": [
       "<div>\n",
       "<style scoped>\n",
       "    .dataframe tbody tr th:only-of-type {\n",
       "        vertical-align: middle;\n",
       "    }\n",
       "\n",
       "    .dataframe tbody tr th {\n",
       "        vertical-align: top;\n",
       "    }\n",
       "\n",
       "    .dataframe thead th {\n",
       "        text-align: right;\n",
       "    }\n",
       "</style>\n",
       "<table border=\"1\" class=\"dataframe\">\n",
       "  <thead>\n",
       "    <tr style=\"text-align: right;\">\n",
       "      <th></th>\n",
       "      <th>Wheather</th>\n",
       "      <th>Time</th>\n",
       "      <th>Time_over_30</th>\n",
       "      <th>Hungry</th>\n",
       "      <th>Transport</th>\n",
       "    </tr>\n",
       "  </thead>\n",
       "  <tbody>\n",
       "    <tr>\n",
       "      <th>0</th>\n",
       "      <td>Sun</td>\n",
       "      <td>44</td>\n",
       "      <td>True</td>\n",
       "      <td>True</td>\n",
       "      <td>Walk</td>\n",
       "    </tr>\n",
       "    <tr>\n",
       "      <th>1</th>\n",
       "      <td>Sun</td>\n",
       "      <td>23</td>\n",
       "      <td>False</td>\n",
       "      <td>False</td>\n",
       "      <td>Bus</td>\n",
       "    </tr>\n",
       "    <tr>\n",
       "      <th>2</th>\n",
       "      <td>Sun</td>\n",
       "      <td>31</td>\n",
       "      <td>True</td>\n",
       "      <td>True</td>\n",
       "      <td>Walk</td>\n",
       "    </tr>\n",
       "    <tr>\n",
       "      <th>3</th>\n",
       "      <td>Sun</td>\n",
       "      <td>7</td>\n",
       "      <td>False</td>\n",
       "      <td>False</td>\n",
       "      <td>Bus</td>\n",
       "    </tr>\n",
       "    <tr>\n",
       "      <th>4</th>\n",
       "      <td>Sun</td>\n",
       "      <td>19</td>\n",
       "      <td>False</td>\n",
       "      <td>True</td>\n",
       "      <td>Bus</td>\n",
       "    </tr>\n",
       "    <tr>\n",
       "      <th>5</th>\n",
       "      <td>Cloud</td>\n",
       "      <td>34</td>\n",
       "      <td>True</td>\n",
       "      <td>True</td>\n",
       "      <td>Walk</td>\n",
       "    </tr>\n",
       "    <tr>\n",
       "      <th>6</th>\n",
       "      <td>Cloud</td>\n",
       "      <td>16</td>\n",
       "      <td>False</td>\n",
       "      <td>False</td>\n",
       "      <td>Bus</td>\n",
       "    </tr>\n",
       "    <tr>\n",
       "      <th>7</th>\n",
       "      <td>Cloud</td>\n",
       "      <td>6</td>\n",
       "      <td>False</td>\n",
       "      <td>True</td>\n",
       "      <td>Walk</td>\n",
       "    </tr>\n",
       "    <tr>\n",
       "      <th>8</th>\n",
       "      <td>Cloud</td>\n",
       "      <td>25</td>\n",
       "      <td>False</td>\n",
       "      <td>True</td>\n",
       "      <td>Walk</td>\n",
       "    </tr>\n",
       "    <tr>\n",
       "      <th>9</th>\n",
       "      <td>Cloud</td>\n",
       "      <td>71</td>\n",
       "      <td>True</td>\n",
       "      <td>False</td>\n",
       "      <td>Bus</td>\n",
       "    </tr>\n",
       "    <tr>\n",
       "      <th>10</th>\n",
       "      <td>Rain</td>\n",
       "      <td>12</td>\n",
       "      <td>False</td>\n",
       "      <td>False</td>\n",
       "      <td>Bus</td>\n",
       "    </tr>\n",
       "    <tr>\n",
       "      <th>11</th>\n",
       "      <td>Rain</td>\n",
       "      <td>34</td>\n",
       "      <td>True</td>\n",
       "      <td>True</td>\n",
       "      <td>Bus</td>\n",
       "    </tr>\n",
       "  </tbody>\n",
       "</table>\n",
       "</div>"
      ],
      "text/plain": [
       "   Wheather  Time  Time_over_30  Hungry Transport\n",
       "0       Sun    44          True    True      Walk\n",
       "1       Sun    23         False   False       Bus\n",
       "2       Sun    31          True    True      Walk\n",
       "3       Sun     7         False   False       Bus\n",
       "4       Sun    19         False    True       Bus\n",
       "5     Cloud    34          True    True      Walk\n",
       "6     Cloud    16         False   False       Bus\n",
       "7     Cloud     6         False    True      Walk\n",
       "8     Cloud    25         False    True      Walk\n",
       "9     Cloud    71          True   False       Bus\n",
       "10     Rain    12         False   False       Bus\n",
       "11     Rain    34          True    True       Bus"
      ]
     },
     "execution_count": 79,
     "metadata": {},
     "output_type": "execute_result"
    }
   ],
   "source": [
    "df['Time_over_30'] = df['Time'] > 30\n",
    "# оваа редица служи за подредување на колоните бидејќи најлогично е излезната колона Transport да ни е најдесно.\n",
    "df = df[['Wheather', 'Time', 'Time_over_30', 'Hungry', 'Transport']]\n",
    "df"
   ]
  },
  {
   "cell_type": "markdown",
   "metadata": {},
   "source": [
    "Сега ќе дефинираме нова функција која ќе ја пресмета информациската придобивка за дадено множество податоци. Оваа функција ќе ја користиме за пресметка на ентропијата на подмножествата податоци кога некоја карактеристика ќе го подели множеството."
   ]
  },
  {
   "cell_type": "code",
   "execution_count": 81,
   "metadata": {},
   "outputs": [],
   "source": [
    "def entropy_of_dataset(df, output_column, class_1, class_2):\n",
    "#     ги земаме податоците од множеството df каде излезот е еднаков на класа 1\n",
    "    class_1_data = df.query(\"{} == '{}'\".format(output_column, class_1))\n",
    "#     ги земаме податоците од множеството df каде излезот е еднаков на класа 2\n",
    "    class_2_data = df.query(\"{} == '{}'\".format(output_column, class_2))\n",
    "#     ја пресметуваме ентропијата за даденото множество податоци\n",
    "    return entropy(class_1_data.shape[0], class_2_data.shape[0])"
   ]
  },
  {
   "cell_type": "markdown",
   "metadata": {},
   "source": [
    "Најдобрата карактеристика е онаа која има најголема информациска придобивка. Ќе ја пресметаме информациската придобивка за сите карактеристики и ќе одлучиме која е најдобра споредувајќи ги. Но, пред тоа треба да ја пресметаме ентропијата на даденото множество податоци."
   ]
  },
  {
   "cell_type": "code",
   "execution_count": 82,
   "metadata": {},
   "outputs": [
    {
     "data": {
      "text/plain": [
       "0.9798687566511528"
      ]
     },
     "execution_count": 82,
     "metadata": {},
     "output_type": "execute_result"
    }
   ],
   "source": [
    "output_column = 'Transport'\n",
    "class_1 = 'Bus'\n",
    "class_2 = 'Walk'\n",
    "\n",
    "h_before_split = entropy_of_dataset(df, output_column, class_1, class_2)\n",
    "h_before_split"
   ]
  },
  {
   "cell_type": "markdown",
   "metadata": {},
   "source": [
    "Карактеристиката `Wheather` има 3 различни вредности."
   ]
  },
  {
   "cell_type": "code",
   "execution_count": 77,
   "metadata": {},
   "outputs": [
    {
     "name": "stdout",
     "output_type": "stream",
     "text": [
      "h_sun_data 0.9709505944546686\n",
      "h_sun_data 0.9709505944546686\n",
      "h_rain_data 0\n",
      "\n",
      "h_after_split_wheather 0.8091254953788906\n",
      "information_gain_wheather 0.17074326127226225\n"
     ]
    }
   ],
   "source": [
    "sun_data = df.query(\"Wheather == 'Sun'\")\n",
    "cloud_data = df.query(\"Wheather == 'Cloud'\")\n",
    "rain_data = df.query(\"Wheather == 'Rain'\")\n",
    "\n",
    "h_sun_data = entropy_of_dataset(sun_data, output_column, class_1, class_2)\n",
    "h_cloud_data = entropy_of_dataset(cloud_data, output_column, class_1, class_2)\n",
    "h_rain_data = entropy_of_dataset(rain_data, output_column, class_1, class_2)\n",
    "\n",
    "print('h_sun_data', h_sun_data)\n",
    "print('h_sun_data', h_sun_data)\n",
    "print('h_rain_data', h_rain_data)\n",
    "print()\n",
    "\n",
    "factor_sun_data = sun_data.shape[0] / df.shape[0]\n",
    "factor_cloud_data = cloud_data.shape[0] / df.shape[0]\n",
    "factor_rain_data = rain_data.shape[0] / df.shape[0]\n",
    "\n",
    "h_after_split_wheather = factor_sun_data * h_sun_data + factor_cloud_data * h_cloud_data + factor_rain_data * h_rain_data\n",
    "information_gain_wheather = h_before_split - h_after_split_wheather\n",
    "\n",
    "print('h_after_split_wheather', h_after_split_wheather)\n",
    "print('information_gain_wheather', information_gain_wheather)"
   ]
  },
  {
   "cell_type": "markdown",
   "metadata": {},
   "source": [
    "Карактеристиката `Time_over_30` има 2 различни вредности."
   ]
  },
  {
   "cell_type": "code",
   "execution_count": 76,
   "metadata": {},
   "outputs": [
    {
     "name": "stdout",
     "output_type": "stream",
     "text": [
      "h_time_over_30_data 0.9709505944546686\n",
      "h_time_under_30_data 0.9709505944546686\n",
      "\n",
      "h_after_split_time_30 0.9709505944546686\n",
      "information_gain_time_30 0.008918162196484225\n"
     ]
    }
   ],
   "source": [
    "time_over_30_data = df.query(\"Time_over_30 == True\")\n",
    "time_under_30_data = df.query(\"Time_over_30 == False\")\n",
    "\n",
    "h_time_over_30_data = entropy_of_dataset(time_over_30_data, output_column, class_1, class_2)\n",
    "h_time_under_30_data = entropy_of_dataset(cloud_data, output_column, class_1, class_2)\n",
    "\n",
    "print('h_time_over_30_data', h_time_over_30_data)\n",
    "print('h_time_under_30_data', h_time_under_30_data)\n",
    "print()\n",
    "\n",
    "factor_time_over_30_data = time_over_30_data.shape[0] / df.shape[0]\n",
    "factor_time_under_30_data = time_under_30_data.shape[0] / df.shape[0]\n",
    "\n",
    "h_after_split_time_30 = factor_time_over_30_data * h_time_over_30_data + factor_time_under_30_data * h_time_under_30_data\n",
    "information_gain_time_30 = h_before_split - h_after_split_time_30\n",
    "\n",
    "print('h_after_split_time_30', h_after_split_time_30)\n",
    "print('information_gain_time_30', information_gain_time_30)"
   ]
  },
  {
   "cell_type": "markdown",
   "metadata": {},
   "source": [
    "Карактеристиката `Hungry` има 2 различни вредности."
   ]
  },
  {
   "cell_type": "code",
   "execution_count": 84,
   "metadata": {},
   "outputs": [
    {
     "name": "stdout",
     "output_type": "stream",
     "text": [
      "h_hungry_data 0.9709505944546686\n",
      "h_not_hungry_data 0.9709505944546686\n",
      "\n",
      "h_after_split_hungry 0.9709505944546686\n",
      "information_gain_hungry 0.008918162196484225\n"
     ]
    }
   ],
   "source": [
    "hungry_data = df.query(\"Hungry == True\")\n",
    "not_hungry_data = df.query(\"Hungry == False\")\n",
    "\n",
    "h_hungry_data = entropy_of_dataset(time_over_30_data, output_column, class_1, class_2)\n",
    "h_not_hungry_data = entropy_of_dataset(cloud_data, output_column, class_1, class_2)\n",
    "\n",
    "print('h_hungry_data', h_hungry_data)\n",
    "print('h_not_hungry_data', h_not_hungry_data)\n",
    "print()\n",
    "\n",
    "factor_hungry_data = hungry_data.shape[0] / df.shape[0]\n",
    "factor_not_hungry_data = not_hungry_data.shape[0] / df.shape[0]\n",
    "\n",
    "h_after_split_hungry = factor_hungry_data * h_hungry_data + factor_not_hungry_data * h_not_hungry_data\n",
    "information_gain_hungry = h_before_split - h_after_split_hungry\n",
    "\n",
    "print('h_after_split_hungry', h_after_split_hungry)\n",
    "print('information_gain_hungry', information_gain_hungry)"
   ]
  },
  {
   "cell_type": "markdown",
   "metadata": {},
   "source": [
    "Заклучуваме дека најголема информациска придобивка има карактеристиката `Wheather`, па таа ја земам како прво прашање во нашето стебло на одлучување. Понатаму го решаваме истиот проблем посебно за секое подмножество на карактеристиката `Wheather`: `sun_data`, `cloud_data` и `rain_data` и бараме која карактеристика најдобро ќе ги подели нив."
   ]
  },
  {
   "cell_type": "code",
   "execution_count": null,
   "metadata": {},
   "outputs": [],
   "source": []
  },
  {
   "cell_type": "code",
   "execution_count": null,
   "metadata": {},
   "outputs": [],
   "source": []
  },
  {
   "cell_type": "code",
   "execution_count": null,
   "metadata": {},
   "outputs": [],
   "source": []
  }
 ],
 "metadata": {
  "kernelspec": {
   "display_name": "Python 3",
   "language": "python",
   "name": "python3"
  },
  "language_info": {
   "codemirror_mode": {
    "name": "ipython",
    "version": 3
   },
   "file_extension": ".py",
   "mimetype": "text/x-python",
   "name": "python",
   "nbconvert_exporter": "python",
   "pygments_lexer": "ipython3",
   "version": "3.7.5"
  }
 },
 "nbformat": 4,
 "nbformat_minor": 4
}
