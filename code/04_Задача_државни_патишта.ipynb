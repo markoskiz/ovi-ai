{
 "cells": [
  {
   "cell_type": "markdown",
   "metadata": {},
   "source": [
    "# Државни патишта"
   ]
  },
  {
   "cell_type": "markdown",
   "metadata": {},
   "source": [
    "## Референци\n",
    "\n",
    "1. [Државни патишта](http://185.229.27.3/roads/index.php?l=mk)"
   ]
  },
  {
   "cell_type": "markdown",
   "metadata": {},
   "source": [
    "## Најкраток пат"
   ]
  },
  {
   "cell_type": "markdown",
   "metadata": {},
   "source": [
    "Податоците за државните патишта кои можете да ги најдете на страната на Државни патишта се сместени во папката `roads` во `data`. Искористете ги податоците за да ја најдете најкратката патека од еден град до друг, на пример од Скопје до Пробиштип. Сите датотеки за наслов ја имаат кратенката на патот. Во датотеката `roads_info.csv` се содржани кратенките на патиштата и соодветниот опис за секој пат."
   ]
  },
  {
   "cell_type": "code",
   "execution_count": null,
   "metadata": {},
   "outputs": [],
   "source": []
  },
  {
   "cell_type": "code",
   "execution_count": null,
   "metadata": {},
   "outputs": [],
   "source": []
  },
  {
   "cell_type": "code",
   "execution_count": null,
   "metadata": {},
   "outputs": [],
   "source": []
  }
 ],
 "metadata": {
  "kernelspec": {
   "display_name": "Python 3",
   "language": "python",
   "name": "python3"
  },
  "language_info": {
   "codemirror_mode": {
    "name": "ipython",
    "version": 3
   },
   "file_extension": ".py",
   "mimetype": "text/x-python",
   "name": "python",
   "nbconvert_exporter": "python",
   "pygments_lexer": "ipython3",
   "version": "3.8.3"
  }
 },
 "nbformat": 4,
 "nbformat_minor": 4
}
