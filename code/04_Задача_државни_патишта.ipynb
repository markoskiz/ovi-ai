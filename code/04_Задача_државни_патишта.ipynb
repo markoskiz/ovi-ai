{
 "cells": [
  {
   "cell_type": "markdown",
   "metadata": {},
   "source": [
    "# Државни патишта"
   ]
  },
  {
   "cell_type": "markdown",
   "metadata": {},
   "source": [
    "## Референци\n",
    "\n",
    "1. [Државни патишта](http://185.229.27.3/roads/index.php?l=mk)"
   ]
  },
  {
   "cell_type": "markdown",
   "metadata": {},
   "source": [
    "## Најкраток пат"
   ]
  },
  {
   "cell_type": "markdown",
   "metadata": {},
   "source": [
    "Податоците за државните патишта кои можете да ги најдете на страната на Државни патишта се сместени во папката `roads` во `data`. Искористете ги податоците за да ја најдете најкратката патека од еден град до друг, на пример од Скопје до Пробиштип. Сите датотеки за наслов ја имаат кратенката на патот. Во датотеката `roads_info.csv` се содржани кратенките на патиштата и соодветниот опис за секој пат."
   ]
  },
  {
   "cell_type": "markdown",
   "metadata": {},
   "source": [
    "### Решение"
   ]
  },
  {
   "cell_type": "code",
   "execution_count": 1,
   "metadata": {},
   "outputs": [],
   "source": [
    "import heapq\n",
    "import pandas as pd\n",
    "from graph import WeightedGraph\n",
    "from search import uniform_cost_search"
   ]
  },
  {
   "cell_type": "code",
   "execution_count": 2,
   "metadata": {},
   "outputs": [],
   "source": [
    "g = WeightedGraph()\n",
    "files = pd.read_csv('data/roads/roads_info.csv')['Кратенка']\n",
    "for file in files:\n",
    "    df = pd.read_csv(f'data/roads/{file}.csv')\n",
    "    df['ОД'] = df['ЈАЗОЛ НА ПОЧЕТОКОТ']\n",
    "    df['ДО'] = df['ЈАЗОЛ НА КРАЈОТ']\n",
    "    for row in df.itertuples():\n",
    "        g.add_vertex(row.ОД)\n",
    "        g.add_vertex(row.ДО)\n",
    "        g.add_edge((row.ОД, row.ДО, row.ДОЛЖИНА))"
   ]
  },
  {
   "cell_type": "code",
   "execution_count": 3,
   "metadata": {},
   "outputs": [
    {
     "name": "stdout",
     "output_type": "stream",
     "text": [
      "364 - Пробиштип\n",
      "195 - Младо Нагоричане\n",
      "378 - Старо Нагоричане 1\n",
      "512 - Младо Нагоричане\n"
     ]
    }
   ],
   "source": [
    "def find_city(graph, city):\n",
    "    for node in graph.vertices():\n",
    "        if city.lower() in node.lower():\n",
    "            print(node)\n",
    "\n",
    "find_city(g, 'Пробиштип')\n",
    "find_city(g, 'Нагоричане')"
   ]
  },
  {
   "cell_type": "code",
   "execution_count": 4,
   "metadata": {},
   "outputs": [
    {
     "data": {
      "text/plain": [
       "(59429,\n",
       " ['364 - Пробиштип',\n",
       "  '363 - Кратово',\n",
       "  '362 - Живалево',\n",
       "  '193 - Страцин (Крилатица)',\n",
       "  '194 - Војник',\n",
       "  '195 - Младо Нагоричане',\n",
       "  '378 - Старо Нагоричане 1'])"
      ]
     },
     "execution_count": 4,
     "metadata": {},
     "output_type": "execute_result"
    }
   ],
   "source": [
    "uniform_cost_search(g, '364 - Пробиштип', '378 - Старо Нагоричане 1', verbose=False)"
   ]
  },
  {
   "cell_type": "markdown",
   "metadata": {},
   "source": [
    "## Најкраток пат со А*\n",
    "\n",
    "Во датотеката `coordinates.csv` се сместени X и Y координатите на секоја клучка. Координатите се `Гаус-Кригерови координати, 7-ма зона` (не пишува на страната на ЈП Државни Патишта, прашав геодет), па директно можете да ја примените равенката за евклидово растојание врз координатите. Искористете ја оваа дојава (евристика) за местоположбата на клучките и конструирајте А* алгоритам кој ќе го најде најкраткиот пат од едно до друго населено место."
   ]
  },
  {
   "cell_type": "code",
   "execution_count": null,
   "metadata": {},
   "outputs": [],
   "source": []
  },
  {
   "cell_type": "code",
   "execution_count": null,
   "metadata": {},
   "outputs": [],
   "source": []
  },
  {
   "cell_type": "code",
   "execution_count": null,
   "metadata": {},
   "outputs": [],
   "source": []
  }
 ],
 "metadata": {
  "kernelspec": {
   "display_name": "Python 3",
   "language": "python",
   "name": "python3"
  },
  "language_info": {
   "codemirror_mode": {
    "name": "ipython",
    "version": 3
   },
   "file_extension": ".py",
   "mimetype": "text/x-python",
   "name": "python",
   "nbconvert_exporter": "python",
   "pygments_lexer": "ipython3",
   "version": "3.8.3"
  }
 },
 "nbformat": 4,
 "nbformat_minor": 4
}
