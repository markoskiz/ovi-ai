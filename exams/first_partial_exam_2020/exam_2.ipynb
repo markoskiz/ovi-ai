{
 "cells": [
  {
   "cell_type": "markdown",
   "metadata": {},
   "source": [
    "# Прв парцијален испит по Основи на Вештачката Интелигенција"
   ]
  },
  {
   "cell_type": "markdown",
   "metadata": {},
   "source": [
    "## Задача 2"
   ]
  },
  {
   "cell_type": "markdown",
   "metadata": {},
   "source": [
    "Разгледуваме игра која се игра самостојно. Правилата на играта се:\n",
    "- Се игра на табла со димензии `N` по `N`.\n",
    "- Има празни и полни кругчиња, по едно кругче за секое поле од таблата.\n",
    "- Се игра исклучиво со притискање на кругчињата.\n",
    "- Ако се притисне некое кругче:\n",
    "    - Се менува од празно во полно, или пак обратно, од полно во празно.\n",
    "    - Неговите соседи се менуваат од празно во полно, или пак обратно, од полно во празно.\n",
    "    - Соседи на едно кругче се соседните кругчиња кои се наоѓаат над, под, лево и десно.\n",
    "- Целта на играта е сите кругчиња да се празни.\n",
    "\n",
    "Следи интерактивна апликација за оваа игра."
   ]
  },
  {
   "cell_type": "code",
   "execution_count": 1,
   "metadata": {},
   "outputs": [],
   "source": [
    "from plotly import graph_objects as go"
   ]
  },
  {
   "cell_type": "code",
   "execution_count": 2,
   "metadata": {},
   "outputs": [],
   "source": [
    "def expand_square(square):\n",
    "    neighbour_squares = []\n",
    "    x, y = square\n",
    "    for x, y in [(x, y), (x+1, y), (x-1, y), (x, y+1), (x, y-1)]:\n",
    "        if 0 <= x < N and 0 <= y < N:\n",
    "            neighbour_squares.append((x, y))\n",
    "    return neighbour_squares"
   ]
  },
  {
   "cell_type": "code",
   "execution_count": 3,
   "metadata": {},
   "outputs": [
    {
     "data": {
      "application/vnd.jupyter.widget-view+json": {
       "model_id": "76c2d019a51849dba6bae5b2dcffe826",
       "version_major": 2,
       "version_minor": 0
      },
      "text/plain": [
       "FigureWidget({\n",
       "    'data': [{'marker': {'color': 'LightSkyBlue',\n",
       "                         'line': {'color': 'M…"
      ]
     },
     "metadata": {},
     "output_type": "display_data"
    }
   ],
   "source": [
    "def update_fig(trace, points, selector):\n",
    "    clicked_square = points.xs[0], points.ys[0]\n",
    "    for x, y in expand_square(clicked_square):\n",
    "        TABLE[y][x] = 0 if TABLE[y][x] else 1\n",
    "    symbols = ['circle' if n else 'circle-open' for row in TABLE for n in row]\n",
    "    fig.data[0].marker['symbol'] = symbols\n",
    "\n",
    "def create_fig():\n",
    "    fig = go.FigureWidget()\n",
    "    x = [x for y in range(N) for x in range(N)]\n",
    "    y = [y for y in range(N) for x in range(N)]\n",
    "    symbols = ['circle' if n else 'circle-open' for row in TABLE for n in row]\n",
    "    fig.add_scatter(x=x, y=y, mode='markers', marker_size=48, \n",
    "                    marker_symbol=symbols, marker_color='LightSkyBlue',\n",
    "                    marker_line_width=6, marker_line_color='MediumPurple')\n",
    "    fig.data[0].on_click(update_fig)\n",
    "    fig.update_xaxes(range=[-0.5, N - 0.5], dtick=1, title='x', side='top')\n",
    "    fig.update_yaxes(range=[-0.5, N - 0.5], dtick=1, title='y', autorange='reversed')\n",
    "    fig.update_layout(width=120*N, height=120*N, showlegend=False)\n",
    "    return fig\n",
    "\n",
    "N = 4\n",
    "TABLE = [\n",
    "    [0, 0, 1, 0],\n",
    "    [0, 0, 1, 1],\n",
    "    [1, 1, 0, 0],\n",
    "    [0, 1, 0, 0],\n",
    "]\n",
    "\n",
    "fig = create_fig()\n",
    "fig"
   ]
  },
  {
   "cell_type": "markdown",
   "metadata": {},
   "source": [
    "Над овој текст треба да имате интерактивна апликација за играта како на сликата подолу. Прво извршете ги ќелиите, а потоа ако ја немате интерактивната апликација, тогаш нешто не е во ред со вашата инсталација, па побарајте помош од Стефан."
   ]
  },
  {
   "cell_type": "markdown",
   "metadata": {},
   "source": [
    "![Тука треба да видите .gif анимација, ама штом го читате ова нешто не е во ред.](images/example.gif)"
   ]
  },
  {
   "cell_type": "markdown",
   "metadata": {},
   "source": [
    "**Задача:** Напишете алгоритам кој ќе стигне до целта и на некој начин ќе ја прикаже постапката, чекор по чекор, како да се стигне до решението."
   ]
  },
  {
   "cell_type": "markdown",
   "metadata": {},
   "source": [
    "## Решение"
   ]
  },
  {
   "cell_type": "code",
   "execution_count": null,
   "metadata": {},
   "outputs": [],
   "source": []
  },
  {
   "cell_type": "code",
   "execution_count": null,
   "metadata": {},
   "outputs": [],
   "source": []
  },
  {
   "cell_type": "code",
   "execution_count": null,
   "metadata": {},
   "outputs": [],
   "source": []
  }
 ],
 "metadata": {
  "kernelspec": {
   "display_name": "Python 3",
   "language": "python",
   "name": "python3"
  },
  "language_info": {
   "codemirror_mode": {
    "name": "ipython",
    "version": 3
   },
   "file_extension": ".py",
   "mimetype": "text/x-python",
   "name": "python",
   "nbconvert_exporter": "python",
   "pygments_lexer": "ipython3",
   "version": "3.7.8"
  }
 },
 "nbformat": 4,
 "nbformat_minor": 4
}
