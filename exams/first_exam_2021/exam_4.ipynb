{
 "cells": [
  {
   "cell_type": "markdown",
   "metadata": {},
   "source": [
    "# Испит по Основи на Вештачката Интелигенција\n",
    "\n",
    "**Датум**: 18.02.2021"
   ]
  },
  {
   "cell_type": "markdown",
   "metadata": {},
   "source": [
    "## Задача 4"
   ]
  },
  {
   "cell_type": "markdown",
   "metadata": {},
   "source": [
    "**(25 поени)** \n",
    "Разгледуваме игра која се игра со двајца играчи, еден против друг. Правилата на играта се:\n",
    "- Се игра на табла со димензии `N` по `N`.\n",
    "- Секој играч има по една кралица.\n",
    "- Еден потег се состои од два дела:\n",
    "    - Кралицата се придвижува како што се движи во шахот.\n",
    "    - Кралицата испалува стрела до поле кое што може да го досегне како кралица во шахот, по што се става X на отстреланото поле.\n",
    "- Кралицата која нема да може да се придвижи кога ќе дојде на ред, ја губи играта.\n",
    "\n",
    "Следи интерактивна апликација за оваа игра."
   ]
  },
  {
   "cell_type": "code",
   "execution_count": 1,
   "metadata": {},
   "outputs": [],
   "source": [
    "from time import sleep\n",
    "from plotly import graph_objects as go\n",
    "import ipywidgets as widgets"
   ]
  },
  {
   "cell_type": "code",
   "execution_count": 2,
   "metadata": {},
   "outputs": [
    {
     "data": {
      "application/vnd.jupyter.widget-view+json": {
       "model_id": "3fe72a275b9342b1947b3c983e44bb85",
       "version_major": 2,
       "version_minor": 0
      },
      "text/plain": [
       "VBox(children=(HBox(children=(Button(description='Ресетирај', style=ButtonStyle()), HTML(value='', description…"
      ]
     },
     "metadata": {},
     "output_type": "display_data"
    }
   ],
   "source": [
    "class Game:\n",
    "    def __init__(self, player_1, player_2, N):\n",
    "        \"\"\" Конструктор. \"\"\"\n",
    "        self.N = N\n",
    "        self.starting_position_1, self.starting_position_2 = player_1[2], player_2[2]\n",
    "        # ова се податоците за играчите\n",
    "        self.player_1 = {'name': player_1[0], 'type': player_1[1], 'symbol': 'S', 'role': 'MAX'}\n",
    "        self.player_2 = {'name': player_2[0], 'type': player_2[1], 'symbol': 'H', 'role': 'MIN'}\n",
    "        self.next_player = self.player_1\n",
    "        \n",
    "        self.symbols_fig = {'x': 'x-thin', '·': 'circle-open', 'S': 'star', 'H': 'hexagon'}\n",
    "        self.scores = {'S': 1, 'H': -1}\n",
    "        \n",
    "        self.score = widgets.HTML(description='Статус:', value='')\n",
    "        self.state = [['·' for y in range(self.N)] for x in range(self.N)]\n",
    "        self.fig = self.create_fig()\n",
    "        self.button = widgets.Button(description='Ресетирај')\n",
    "        self.button.on_click(lambda x: self.reset())\n",
    "        display(widgets.VBox([widgets.HBox([self.button, self.score]), self.fig]))\n",
    "        self.reset()\n",
    "    \n",
    "    def reset(self):\n",
    "        \"\"\" Ја ресетира играта кога ќе се притисне на копчето `Ресетирај`. \"\"\"\n",
    "        self.next_player = self.player_1\n",
    "        self.update_score('На ред е', self.next_player)\n",
    "        self.state = [['·' for y in range(self.N)] for x in range(self.N)]\n",
    "        x, y = self.starting_position_1\n",
    "        self.state[y][x] = self.player_1['symbol']\n",
    "        x, y = self.starting_position_2\n",
    "        self.state[y][x] = self.player_2['symbol']\n",
    "        self.fig.data[0].marker.symbol = [self.symbols_fig[value] for row in self.state for value in row]\n",
    "        self.evaluated = {}\n",
    "        self.take_turns()\n",
    "    \n",
    "    def player_took_turn(self, x, y):\n",
    "        \"\"\" Ја обновува таблата за последниот напревен потег на играчот `self.next_player`. \"\"\"\n",
    "        x_old, y_old = self.find_symbol(self.state, self.next_player['symbol'])\n",
    "        self.state[y_old][x_old] = 'x'\n",
    "        self.state[y][x] = self.next_player['symbol']\n",
    "        self.fig.data[0].marker.symbol = [self.symbols_fig[value] for row in self.state for value in row]\n",
    "        self.next_player = self.player_1 if self.next_player == self.player_2 else self.player_2\n",
    "        winner_symbol = self.check_victory(self.state, self.next_player)\n",
    "        if winner_symbol != 'keep_playing':\n",
    "            player_winner = self.player_1 if winner_symbol == self.player_1['symbol'] else self.player_2\n",
    "            self.update_score('Победник е', player_winner)\n",
    "            return\n",
    "        self.update_score('На ред е', self.next_player)\n",
    "        self.take_turns()\n",
    "    \n",
    "    def take_turns(self):\n",
    "        \"\"\" Наизменично ги повикува функциите на играчите, независно дали се човек или вештачка интелигенција. \"\"\"\n",
    "        if self.next_player['type'] == 'human':\n",
    "            return  # wait for player\n",
    "        else:\n",
    "            self.score.value += ' -- пресметува'\n",
    "            state = tuple([tuple(row) for row in self.state])\n",
    "            result, move = self.minimax(state, self.next_player['role'])\n",
    "            print(result)\n",
    "            sleep(1)\n",
    "            self.player_took_turn(*move)\n",
    "    \n",
    "    def validate_move(self, state, position, destination):\n",
    "        \"\"\" Проверува дали е чист патот од `position` до `destination` на таблата `state`. Ако да, тогаш потегот е валиден. \"\"\"\n",
    "        x1, y1 = position\n",
    "        x2, y2 = destination\n",
    "\n",
    "        y_min, y_max = sorted([y1, y2])\n",
    "        if x1 == x2:  # иста колона\n",
    "            for yi in range(y_min+1, y_max):\n",
    "                if state[yi][x1] != '·':\n",
    "                    return False # not a valid move\n",
    "            return True\n",
    "\n",
    "        x_min, x_max = sorted([x1, x2])\n",
    "        if y1 == y2:  # иста редица\n",
    "            for xi in range(x_min+1, x_max):\n",
    "                if state[y1][xi] != '·':\n",
    "                    return False # not a valid move\n",
    "            return True\n",
    "        \n",
    "        if abs(x1 - x2) != abs(y1 - y2):  # не се во иста дијагонала\n",
    "            return False # not a valid move\n",
    "\n",
    "        for xi, yi in zip(range(x_min+1, x_max), range(y_min+1, y_max)):\n",
    "            if state[yi][xi] != '·':\n",
    "                return False # not a valid move\n",
    "        return True\n",
    "    \n",
    "    def update_score(self, message, player):\n",
    "        \"\"\" Ги обновува вредностите на семафорот за кој играч е на ред или дали имаме победник. \"\"\"\n",
    "        player_data = ' - '.join(list(player.values())[:3])\n",
    "        self.score.value = f'{message} <b> {player_data} </b>.'\n",
    "    \n",
    "    def update_fig(self, trace, points, selector):\n",
    "        \"\"\" Оваа функција се извршува кога ќе притиснете со глувчето врз графикот. \"\"\"\n",
    "        x2, y2 = points.xs[0], points.ys[0]\n",
    "        x1, y1 = self.find_symbol(self.state, self.next_player['symbol'])\n",
    "        valid_move = self.validate_move(self.state, (x1, y1), (x2, y2))\n",
    "        if self.state[y2][x2] == '·' and self.next_player['type'] == 'human' and valid_move:\n",
    "            self.player_took_turn(x2, y2)\n",
    "\n",
    "    def create_fig(self):\n",
    "        \"\"\" Ја исцртува таблата. \"\"\"\n",
    "        fig = go.FigureWidget()\n",
    "        x = [x for y in range(self.N) for x in range(self.N)]\n",
    "        y = [y for y in range(self.N) for x in range(self.N)]\n",
    "        symbols = [self.symbols_fig[value] for row in self.state for value in row]\n",
    "        fig.add_scatter(x=x, y=y, mode='markers', marker_size=48, \n",
    "                        marker_symbol=symbols, marker_color='LightSkyBlue',\n",
    "                        marker_line_width=6, marker_line_color='MediumPurple')\n",
    "        fig.data[0].on_click(self.update_fig)\n",
    "        fig.update_xaxes(range=[-0.5, self.N - 0.5], dtick=1, title='x', side='top')\n",
    "        fig.update_yaxes(range=[-0.5, self.N - 0.5], dtick=1, title='y', autorange='reversed')\n",
    "        fig.update_layout(width=600, height=600, showlegend=False)\n",
    "        return fig\n",
    "    \n",
    "    def minimax(self, node, player, alpha=-2, beta=2, depth=0):\n",
    "        # вашиот код тука\n",
    "        return\n",
    "    \n",
    "    def find_symbol(self, state, symbol):\n",
    "        \"\"\" Ги пронаоѓа координатите (x, y) на симболот `symbol` во матрицата `state`. \"\"\"\n",
    "        return [(x, y) for y, row in enumerate(state) for x, value in enumerate(row) if value == symbol][0]\n",
    "    \n",
    "    def expand_state(self, state, player):\n",
    "        # вашиот код тука\n",
    "        return\n",
    "    \n",
    "    def check_victory(self, state, player):\n",
    "        \"\"\" Го враќа симболот на победникот за матрицата `state`. Следен на потег е играчот `player`. \"\"\"\n",
    "        x, y = self.find_symbol(state, player['symbol'])\n",
    "        for x1, y1 in [(x+1, y), (x-1, y), (x, y+1), (x, y-1), \n",
    "                     (x+1, y+1), (x-1, y+1), (x+1, y-1), (x-1, y-1)]:\n",
    "            if 0 <= x1 < self.N and 0 <= y1 < self.N and state[y1][x1] == '·':\n",
    "                return 'keep_playing'\n",
    "        other_player = self.player_2 if player == self.player_1 else self.player_1\n",
    "        return other_player['symbol']\n",
    "\n",
    "game = Game(player_1=('Ѕвезда', 'human', (0, 3)), player_2=('Хексагон', 'human', (3, 0)), N=4)"
   ]
  },
  {
   "cell_type": "markdown",
   "metadata": {},
   "source": [
    "Над овој текст треба да имате интерактивна апликација за играта како на сликата подолу. Прво извршете ги ќелиите, а потоа ако ја немате интерактивната апликација, тогаш нешто не е во ред со вашата инсталација, па побарајте помош од Стефан."
   ]
  },
  {
   "cell_type": "markdown",
   "metadata": {},
   "source": [
    "![Тука треба да видите .gif анимација, ама штом го читате ова нешто не е во ред.](images/Кралици.gif)"
   ]
  },
  {
   "cell_type": "markdown",
   "metadata": {},
   "source": [
    "**Задача:** Напишете вештачка интелигенција која ќе ја игра оваа игра со помош на минимакс алгоритамот, вклучувајќи и алфа-бета поткастрување."
   ]
  },
  {
   "cell_type": "markdown",
   "metadata": {},
   "source": [
    "**Совети:** \n",
    "- Користете ја задачата Икс-точка од аудиториските вежби за да ја решите оваа задача. Истата е користена како урнек за дефинирање на оваа задача.\n",
    "- Додавајте код само во функциите `expand_state()` и `minimax()`. Слободно можете да си додавате функции и да ги искористете веќе дадените. Не ви препорачувам менување на останатиот код, но ако сметате дека има потреба - слободно менувајте."
   ]
  },
  {
   "cell_type": "code",
   "execution_count": null,
   "metadata": {},
   "outputs": [],
   "source": []
  },
  {
   "cell_type": "code",
   "execution_count": null,
   "metadata": {},
   "outputs": [],
   "source": []
  },
  {
   "cell_type": "code",
   "execution_count": null,
   "metadata": {},
   "outputs": [],
   "source": []
  }
 ],
 "metadata": {
  "kernelspec": {
   "display_name": "Python 3",
   "language": "python",
   "name": "python3"
  },
  "language_info": {
   "codemirror_mode": {
    "name": "ipython",
    "version": 3
   },
   "file_extension": ".py",
   "mimetype": "text/x-python",
   "name": "python",
   "nbconvert_exporter": "python",
   "pygments_lexer": "ipython3",
   "version": "3.9.1"
  }
 },
 "nbformat": 4,
 "nbformat_minor": 4
}
