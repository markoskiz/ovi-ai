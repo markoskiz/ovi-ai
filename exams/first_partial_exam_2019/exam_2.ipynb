{
 "cells": [
  {
   "cell_type": "markdown",
   "metadata": {},
   "source": [
    "# Прв парцијален испит по Основи на Вештачката Интелигенција"
   ]
  },
  {
   "cell_type": "markdown",
   "metadata": {},
   "source": [
    "## Задача 2 - Подвижен робот кој разнесува алат"
   ]
  },
  {
   "cell_type": "markdown",
   "metadata": {},
   "source": [
    "Пред вас е 2Д слика од подот на една фабрика. Со белото квадратче е означен подвижниот робот чија задача е да разнесува алат низ фабриката. Со броеви од 1 до 6 се означени работните станици. Роботот може да се движи само во 4 насоки: напред, назад, лево и десно.\n",
    "\n",
    "![Подот на фабриката](factory.png)"
   ]
  },
  {
   "cell_type": "code",
   "execution_count": 1,
   "metadata": {},
   "outputs": [],
   "source": [
    "import numpy as np\n",
    "import heapq\n",
    "from matplotlib import pyplot as plt\n",
    "import skimage\n",
    "from skimage import io"
   ]
  },
  {
   "cell_type": "markdown",
   "metadata": {},
   "source": [
    "### Преставување на околината\n",
    "\n",
    "Околината е матрица каде со 0 е означено празно место, со 7 е означен роботот, а секоја станица е означена со нејзниот број. Во променливата `dimension_world` се запишани димензиите на околината. Површината на работните станици е запишана во речникот `area_workstation`. \n",
    "\n",
    "* 0 - empty\n",
    "* 1 - workstation 1\n",
    "* 2 - workstation 2\n",
    "* 3 - workstation 3\n",
    "* 4 - workstation 4\n",
    "* 5 - workstation 5\n",
    "* 6 - workstation 6\n",
    "* 7 - agent\n",
    "\n",
    "\n",
    "Во продолжение дадени ви се две функции. Првата, `reset_world()`, ја враќа околината каква што била на почетокот, исто како на горната сликата. Втората, `visualise_world()`, е функција која ќе ви ја исцрта околината, а секој број од околината `world` ќе ви го означи со различна боја."
   ]
  },
  {
   "cell_type": "code",
   "execution_count": 2,
   "metadata": {},
   "outputs": [
    {
     "data": {
      "image/png": "[encoded data removed]",
      "text/plain": [
       "<Figure size 1008x576 with 2 Axes>"
      ]
     },
     "metadata": {
      "needs_background": "light"
     },
     "output_type": "display_data"
    }
   ],
   "source": [
    "dimensions_world = (8, 14)\n",
    "\n",
    "area_workstation = {}\n",
    "area_workstation[1] = [(0, 1), (1, 1), (0, 2), (1, 2)]\n",
    "area_workstation[2] = [(0, 5), (1, 5), (2, 5), (3, 5), (4, 5)]\n",
    "area_workstation[3] = [(0, 11), (0, 12), (0, 13), (1, 11), (1, 12), (1, 13)]\n",
    "area_workstation[4] = [(3, 8), (3, 9), (3, 10), (3, 11), (3, 12), (3, 13)]\n",
    "area_workstation[5] = [(7, 0), (7, 1), (7, 2), (7, 3), (7, 4), (7, 5), (7, 6), (7, 7), (7, 8), (7, 9)]\n",
    "area_workstation[6] = [(6, 13), (7, 13)]\n",
    "\n",
    "def visualise_world(world, path=[]):\n",
    "    for point in path:\n",
    "        world[point] = 7\n",
    "    plt.rcParams['figure.figsize'] = [dimensions_world[1], dimensions_world[0]]\n",
    "    plt.imshow(world, cmap=plt.cm.get_cmap('cubehelix', np.unique(world).size))\n",
    "    plt.colorbar()\n",
    "    plt.clim(-0.5, np.unique(world).size - 0.5)\n",
    "    plt.xticks(np.arange(dimensions_world[1] + 1) - 0.5)\n",
    "    plt.yticks(np.arange(dimensions_world[0] + 1) - 0.5)\n",
    "    plt.grid()\n",
    "\n",
    "def reset_world(dimensions_world, initial_agent_state):\n",
    "    world = np.zeros(dimensions_world, dtype=int)\n",
    "    for workstation_id, area in area_workstation.items():\n",
    "        for square in area:\n",
    "            world[square] = workstation_id\n",
    "    world[initial_agent_state] = 7\n",
    "    return world\n",
    "\n",
    "world = reset_world(dimensions_world, initial_agent_state=(5, 2))\n",
    "visualise_world(world)"
   ]
  },
  {
   "cell_type": "markdown",
   "metadata": {},
   "source": [
    "Во продолжение ви е даден веќе готов А* алгоритам кој ќе ви ја најде најкратката патека од почетната позиција на роботот `initial_state` до посакуваната позиција `goal_state`. За евристика се користи евклидовото растојание. Роботот може да се движи само во 4 насоки, нагоре, надолу, лево и десно. Функцијата `a_star_search()` ќе ви го врати најкраткиот пат кој, за да го видите на слика, треба да го испратите на функцијата `visualise_path()` како аргумент `path`."
   ]
  },
  {
   "cell_type": "code",
   "execution_count": 3,
   "metadata": {},
   "outputs": [
    {
     "name": "stdout",
     "output_type": "stream",
     "text": [
      "[(5, 2), (4, 2), (3, 2), (2, 2), (1, 2), (1, 3), (1, 4), (1, 5), (1, 6), (1, 7)]\n"
     ]
    },
    {
     "data": {
      "image/png": "[encoded data removed]",
      "text/plain": [
       "<Figure size 1008x576 with 2 Axes>"
      ]
     },
     "metadata": {
      "needs_background": "light"
     },
     "output_type": "display_data"
    }
   ],
   "source": [
    "def distance(agent_state, another_state):\n",
    "    return np.sqrt((agent_state[0] - another_state[0])**2 + (agent_state[1] - another_state[1])**2)\n",
    "\n",
    "def expand_state(state_to_expand):\n",
    "    i, j = state_to_expand\n",
    "    new_states = []\n",
    "    if i > 0:\n",
    "        new_states.append((i - 1, j))\n",
    "    if j > 0:\n",
    "        new_states.append((i, j - 1))\n",
    "    if i < world.shape[0] - 1:\n",
    "        new_states.append((i + 1, j))\n",
    "    if j < world.shape[1] - 1:\n",
    "        new_states.append((i, j + 1))\n",
    "    return new_states\n",
    "\n",
    "def a_star_search(initial_state, goal_state):\n",
    "    alpha = 0.5\n",
    "    expanded = set()\n",
    "    states_queue = [((0, 0), [initial_state])]\n",
    "    heapq.heapify(states_queue)\n",
    "    while states_queue:\n",
    "        current_weight, states_list = heapq.heappop(states_queue)\n",
    "        current_a_star_weight, current_path_weight = current_weight\n",
    "        state_to_expand = states_list[-1]\n",
    "        if state_to_expand == goal_state:\n",
    "            return states_list\n",
    "        if state_to_expand in expanded:\n",
    "            continue\n",
    "        for next_state in expand_state(state_to_expand):\n",
    "            transition_weight = 1\n",
    "            uniform_cost_weight = current_path_weight + transition_weight\n",
    "            heuristic_weight = distance(next_state, goal_state)\n",
    "            a_star_weight = (1 - alpha) * uniform_cost_weight + alpha * heuristic_weight\n",
    "            if next_state not in expanded:\n",
    "                heapq.heappush(states_queue, ((a_star_weight, uniform_cost_weight), states_list + [next_state]))\n",
    "        expanded.add(state_to_expand)\n",
    "    return []\n",
    "\n",
    "initial_state = (5, 2)\n",
    "world = reset_world(dimensions_world, initial_agent_state=initial_state)\n",
    "goal_state = (1, 7)\n",
    "path = a_star_search(initial_state, goal_state)\n",
    "print(path)\n",
    "visualise_world(world, path)"
   ]
  },
  {
   "cell_type": "markdown",
   "metadata": {},
   "source": [
    "### Задача 2.1\n",
    "Како што можете да видите на првичната слика, роботот стигнува до целта, но преминува преку работните станици. Направете измена така што ќе стигнете до целта без да поминувате преку станиците."
   ]
  },
  {
   "cell_type": "markdown",
   "metadata": {},
   "source": [
    "### Задача 2.2\n",
    "Од сега па натаму, нека цел ви биде некоја работна станица, на пример работната станица 3. Изменете го алгоритамот така што ќе стигнете до посакуваната работна станица. Внимавајте, роботот не смее да се движи врз површината на станиците. Затоа, за успешно пристигање до некоја станица ќе се смета застанување до самата станица.\n"
   ]
  },
  {
   "cell_type": "markdown",
   "metadata": {},
   "source": [
    "### Задача 2.3\n",
    "Дадениот А* алгоритам за евристика го користи евклидовото растојание. \n",
    "* Дали постои подобра евристика за дадениот проблем?\n",
    "* Ако да, зошто е подобра таа евристика? Ако не, зошто не постои таква?\n",
    "* Ако постои таква евристика, применете ја во алгоритамот.\n",
    "* Како може да се докаже дека едната евристика е подобра од другата?"
   ]
  },
  {
   "cell_type": "markdown",
   "metadata": {},
   "source": [
    "### Задача 2.4\n",
    "\n",
    "Што ќе се случи со дадениот алгоритам за пребарување ако цената за придвижување на роботот, `transition_weight`, ја поставиме да биде 0?"
   ]
  },
  {
   "cell_type": "markdown",
   "metadata": {},
   "source": [
    "### Задача 2.5\n",
    "\n",
    "Што ќе се случи со дадениот алгоритам ако не користиме евристика?"
   ]
  },
  {
   "cell_type": "markdown",
   "metadata": {},
   "source": [
    "### Задача 2.6\n",
    "Во продолжение дадена е слика која ја претставува густината на луѓе во секој квадрат од фабриката. Резултатите се добиени по статистички пат. Од една страна сакаме роботот да не оди каде има гужва. Од друга страна нема логика роботот да заобиколува по предолг пат само за да избегне неколку луѓе. Овој проблем нема единствено точно решение, и всушност претставува компромис помеѓу пократок пат и избегнување луѓе. Ваша задача е да го дизјанирате движењето на роботот така што роботот ќе ја има предвид оваа информација и на некој начин ќе прави компромис помеѓу пократок пат и избегнување луѓе.\n",
    "\n",
    "Променливата `heatmap` е матрица иста како околината `world`."
   ]
  },
  {
   "cell_type": "code",
   "execution_count": 4,
   "metadata": {},
   "outputs": [
    {
     "data": {
      "text/plain": [
       "<matplotlib.colorbar.Colorbar at 0x7fdeee9be850>"
      ]
     },
     "execution_count": 4,
     "metadata": {},
     "output_type": "execute_result"
    },
    {
     "data": {
      "image/png": "[encoded data removed]",
      "text/plain": [
       "<Figure size 1008x576 with 2 Axes>"
      ]
     },
     "metadata": {
      "needs_background": "light"
     },
     "output_type": "display_data"
    }
   ],
   "source": [
    "heatmap = skimage.io.imread('heatmap.png')\n",
    "heatmap = skimage.img_as_float(heatmap)\n",
    "plt.imshow(heatmap)\n",
    "plt.colorbar()"
   ]
  },
  {
   "cell_type": "markdown",
   "metadata": {},
   "source": [
    "### Задача 2.7\n",
    "\n",
    "Роботот располага со алат сместен во листата `tools`. Кога некоја работна станица ќе побара алат, роботот треба да го однесе алатот таму. Ако алататот го нема на располагање во себе, роботот бара која станица го има алатот. Потоа тој оди до таа станица, го зема алатот, и го носи до станицата која го побарала. Задачите кои тој треба да ги изврши се дадени во листата `requests`, а вие треба да напишете код според кој роботот за најбрзо време ќе го однесе алатот до соодветната станица.\n"
   ]
  },
  {
   "cell_type": "code",
   "execution_count": 5,
   "metadata": {},
   "outputs": [],
   "source": [
    "tools = ['screwdriver', 'wrench', 'wrench', 'drill', 'drill', 'pliers', 'hammer']\n",
    "\n",
    "requests = ['workstation 3 needs wrench',\n",
    "            'workstation 1 needs wrench',\n",
    "            'workstation 6 needs drill',\n",
    "            'workstation 5 needs wrench',\n",
    "            'workstation 4 needs pliers',\n",
    "            'workstation 2 needs wrench',\n",
    "            'workstation 4 needs hammer',\n",
    "            'workstation 1 needs pliers']"
   ]
  },
  {
   "cell_type": "code",
   "execution_count": null,
   "metadata": {},
   "outputs": [],
   "source": []
  },
  {
   "cell_type": "code",
   "execution_count": null,
   "metadata": {},
   "outputs": [],
   "source": []
  },
  {
   "cell_type": "code",
   "execution_count": null,
   "metadata": {},
   "outputs": [],
   "source": []
  },
  {
   "cell_type": "code",
   "execution_count": null,
   "metadata": {},
   "outputs": [],
   "source": []
  },
  {
   "cell_type": "code",
   "execution_count": null,
   "metadata": {},
   "outputs": [],
   "source": []
  },
  {
   "cell_type": "code",
   "execution_count": null,
   "metadata": {},
   "outputs": [],
   "source": []
  },
  {
   "cell_type": "code",
   "execution_count": null,
   "metadata": {},
   "outputs": [],
   "source": []
  },
  {
   "cell_type": "code",
   "execution_count": null,
   "metadata": {},
   "outputs": [],
   "source": []
  },
  {
   "cell_type": "code",
   "execution_count": null,
   "metadata": {},
   "outputs": [],
   "source": []
  },
  {
   "cell_type": "code",
   "execution_count": null,
   "metadata": {},
   "outputs": [],
   "source": []
  }
 ],
 "metadata": {
  "kernelspec": {
   "display_name": "Python 3",
   "language": "python",
   "name": "python3"
  },
  "language_info": {
   "codemirror_mode": {
    "name": "ipython",
    "version": 3
   },
   "file_extension": ".py",
   "mimetype": "text/x-python",
   "name": "python",
   "nbconvert_exporter": "python",
   "pygments_lexer": "ipython3",
   "version": "3.7.5"
  }
 },
 "nbformat": 4,
 "nbformat_minor": 4
}
