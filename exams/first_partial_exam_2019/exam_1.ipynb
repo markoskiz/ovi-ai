{
 "cells": [
  {
   "cell_type": "markdown",
   "metadata": {},
   "source": [
    "# Прв парцијален испит по Основи на Вештачката Интелигенција"
   ]
  },
  {
   "cell_type": "markdown",
   "metadata": {},
   "source": [
    "## Задача 1 - Преминување преку река"
   ]
  },
  {
   "cell_type": "markdown",
   "metadata": {},
   "source": [
    "Две тројки, црна и бела, сочинети од крал, кралица и пиун треба да ја преминат реката.\n",
    "* Кралевите не смеат да останат без своите поданици на една страна од реката.\n",
    "* Кралиците сакаат да бидат сами кога ја преминуваат реката.\n",
    "* Пиуните и кралиците знаат да веслаат, кралевите не веслаат.\n",
    "* Чамецот може да издржи највеќе двајца.\n",
    "\n",
    "Напишете алгоритам кој ќе го пронајде најмалиот број преминувања на реката, така што сите патници ќе преминат од левата на десната страна од реката."
   ]
  },
  {
   "cell_type": "code",
   "execution_count": 1,
   "metadata": {},
   "outputs": [],
   "source": [
    "from collections import deque"
   ]
  },
  {
   "cell_type": "code",
   "execution_count": 2,
   "metadata": {},
   "outputs": [],
   "source": [
    "def unpack_state(state):\n",
    "    \"\"\"\n",
    "    Function that carefully unpacks the state into boat, left side and right side\n",
    "    :param state: state to be unpack\n",
    "    :return: boat, left side objects, right side objects\n",
    "    \"\"\"\n",
    "    boat = state[0]\n",
    "    left_bank = set([passengers[index] for index, side in enumerate(state[1:]) if side == 'left'])\n",
    "    right_bank = set([passengers[index] for index, side in enumerate(state[1:]) if side == 'right'])\n",
    "    return boat, left_bank, right_bank\n",
    "\n",
    "def search_path(initial_state, goal_state):\n",
    "    \"\"\"\n",
    "    Search function\n",
    "    :param initial_state: initial state for search\n",
    "    :param goal_state: desired state\n",
    "    :return: search result as list of states\n",
    "    \"\"\"\n",
    "    visited = {initial_state}\n",
    "    states_queue = deque([[initial_state]])\n",
    "    while states_queue:\n",
    "        states_list = states_queue.popleft()\n",
    "        state_to_expand = states_list[-1]\n",
    "        for next_state in expand_state(state_to_expand):\n",
    "            if next_state not in visited:\n",
    "                if next_state == goal_state:\n",
    "                    return states_list + [next_state]\n",
    "                visited.add(next_state)\n",
    "                states_queue.appendleft(states_list + [next_state])\n",
    "    return []\n",
    "\n",
    "def visualise(path):\n",
    "    \"\"\"\n",
    "    Function to visualise path returned from the search function\n",
    "    :param path: path to be visualised\n",
    "    :return: None\n",
    "    \"\"\"\n",
    "    if not path:\n",
    "        print('Search path did not find a solution')\n",
    "        return\n",
    "    for pair_of_states in zip(path, path[1:]):\n",
    "        boat_old, left_old, right_old = unpack_state(pair_of_states[0])\n",
    "        boat_new, left_new, right_new = unpack_state(pair_of_states[1])\n",
    "        delimiter_space = ' ' * 50\n",
    "        separated_print(left_old)\n",
    "        print(delimiter_space, end='')\n",
    "        separated_print(right_old)\n",
    "        print()\n",
    "        if boat_old == 'left':\n",
    "            delimiter = ' ' * 5 + '>' * 15 + ' ' * 5\n",
    "            separated_print(left_new)\n",
    "            print(delimiter, end='')\n",
    "            separated_print(left_old - left_new)\n",
    "            print(delimiter, end='')\n",
    "            separated_print(right_old)\n",
    "            print()\n",
    "        else:\n",
    "            delimiter = ' ' * 5 + '<' * 15 + ' ' * 5\n",
    "            separated_print(left_old)\n",
    "            print(delimiter, end='')\n",
    "            separated_print(right_old - right_new)\n",
    "            print(delimiter, end='')\n",
    "            separated_print(right_new)\n",
    "            print()\n",
    "        separated_print(left_new)\n",
    "        print(delimiter_space, end='')\n",
    "        separated_print(right_new)\n",
    "        print()\n",
    "        print()\n",
    "        print()\n",
    "\n",
    "def separated_print(iterable):\n",
    "    \"\"\"\n",
    "    Desired print function.\n",
    "    :param iterable: list to be printed\n",
    "    :return: None\n",
    "    \"\"\"\n",
    "    for element in iterable:\n",
    "        print(element, end=' ')\n",
    "    if not iterable:\n",
    "        print('Empty', end='')"
   ]
  },
  {
   "cell_type": "code",
   "execution_count": 3,
   "metadata": {},
   "outputs": [
    {
     "name": "stdout",
     "output_type": "stream",
     "text": [
      "Search path did not find a solution\n"
     ]
    }
   ],
   "source": [
    "def expand_state(state):\n",
    "    \"\"\"\n",
    "    Function for generation next states.\n",
    "\n",
    "    Your should return a list of states as tuples. List new_states should look like this:\n",
    "    [(state_parameter_1, state_parameter_2, ... state_parameter_n),\n",
    "    (state_parameter_1, state_parameter_2, ... state_parameter_n)),\n",
    "    .\n",
    "    .\n",
    "    .\n",
    "    (state_parameter_1, state_parameter_2, ... state_parameter_n))]\n",
    "\n",
    "    :param state: state to be expanded\n",
    "    :return: list of new states as tuples\n",
    "    \"\"\"\n",
    "    # За полесни пресметки јас вака ги претставив објектите. Слободно променете ако имате подобра идеја.\n",
    "    boat, left_bank, right_bank = unpack_state(state)\n",
    "\n",
    "    new_states = []\n",
    "\n",
    "    # Вашиот код тука\n",
    "\n",
    "    return new_states\n",
    "\n",
    "passengers = ['Farmer', 'Goat', 'Cabbage', 'Wolf']\n",
    "sailors = ['Farmer']\n",
    "initial_state = ('left', 'left', 'left', 'left', 'left')\n",
    "goal_state = ('right', 'right', 'right', 'right', 'right')\n",
    "path = search_path(initial_state, goal_state)\n",
    "visualise(path)"
   ]
  },
  {
   "cell_type": "code",
   "execution_count": 12,
   "metadata": {},
   "outputs": [],
   "source": []
  },
  {
   "cell_type": "code",
   "execution_count": 13,
   "metadata": {},
   "outputs": [],
   "source": []
  },
  {
   "cell_type": "code",
   "execution_count": 14,
   "metadata": {},
   "outputs": [],
   "source": []
  },
  {
   "cell_type": "code",
   "execution_count": null,
   "metadata": {},
   "outputs": [],
   "source": []
  },
  {
   "cell_type": "code",
   "execution_count": null,
   "metadata": {},
   "outputs": [],
   "source": []
  },
  {
   "cell_type": "code",
   "execution_count": null,
   "metadata": {},
   "outputs": [],
   "source": []
  }
 ],
 "metadata": {
  "kernelspec": {
   "display_name": "Python 3",
   "language": "python",
   "name": "python3"
  },
  "language_info": {
   "codemirror_mode": {
    "name": "ipython",
    "version": 3
   },
   "file_extension": ".py",
   "mimetype": "text/x-python",
   "name": "python",
   "nbconvert_exporter": "python",
   "pygments_lexer": "ipython3",
   "version": "3.7.5"
  }
 },
 "nbformat": 4,
 "nbformat_minor": 4
}
