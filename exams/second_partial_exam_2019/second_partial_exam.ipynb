{
 "cells": [
  {
   "cell_type": "markdown",
   "metadata": {},
   "source": [
    "# Втор парцијален испит по Основи на Вештачката Интелигенција"
   ]
  },
  {
   "cell_type": "markdown",
   "metadata": {},
   "source": [
    "## Задача 1 - Теорија на игри\n",
    "\n",
    "На располагање ги имате датотеките `Pawns.py`, `pawns_human_player.py` и  `pawns_ai_player.py`.\n",
    "\n",
    "Правила на играта:\n",
    "*  Се игра на шаховска табла со димензии 4х4.\n",
    "*  Секој играч почнува со 4 пиуни.\n",
    "*  Прво на ред е белиот играч, па потоа наизменично се менуваат со црниот.\n",
    "*  Секој пиун има поведение како во шахот.\n",
    "    *  Освен тоа што еден пиун не може да се движи две полиња нанапред.\n",
    "    *  Ен пасант не важи.\n",
    "*  Победник е оној кој ќе успее да стигне до крајниот ред.\n",
    "*  Ако некој играч нема можност да игра потег, го губи натпреварот.\n",
    "\n",
    "Играта искодирана во дадените скрипти не е целосно завршена. Довршете ја по потреба.\n",
    "\n",
    "__Прашање__: Кој е победник во оваа игра? Како го испитувате тоа?\n",
    "\n",
    "__Задача__: Нацртајте го дрвото на играта."
   ]
  },
  {
   "cell_type": "markdown",
   "metadata": {},
   "source": [
    "## Задача 2 - Дрва на одлучување и Наивен Баесов класификатор\n",
    "\n",
    "Дадени се податоци за еден фудбласки тим.\n",
    "*  Терен - каде се игра натпреварот\n",
    "*  Тактика - каква тактика е применета на натпреварот\n",
    "*  Време - какви се временските услови\n",
    "*  Одмореност - играчите се одморени ако претходниот натпревар го играле пред повеќе од една недела\n",
    "\n",
    "__Задача__: Нацртајте го дрвото на одлучување.\n",
    "__Прашање__: Кој ќе победи ако денеска играат домашен натпревар со напаѓачка тактика, при дожд, а последниот натпревар го играле пред 4 дена? Што вели дрвото на одличување, а што вели наивниот Баесов класификатор?"
   ]
  },
  {
   "cell_type": "code",
   "execution_count": 8,
   "metadata": {},
   "outputs": [
    {
     "data": {
      "text/html": [
       "<div>\n",
       "<style scoped>\n",
       "    .dataframe tbody tr th:only-of-type {\n",
       "        vertical-align: middle;\n",
       "    }\n",
       "\n",
       "    .dataframe tbody tr th {\n",
       "        vertical-align: top;\n",
       "    }\n",
       "\n",
       "    .dataframe thead th {\n",
       "        text-align: right;\n",
       "    }\n",
       "</style>\n",
       "<table border=\"1\" class=\"dataframe\">\n",
       "  <thead>\n",
       "    <tr style=\"text-align: right;\">\n",
       "      <th></th>\n",
       "      <th>f1</th>\n",
       "      <th>f2</th>\n",
       "      <th>f3</th>\n",
       "      <th>f4</th>\n",
       "      <th>Победа</th>\n",
       "    </tr>\n",
       "  </thead>\n",
       "  <tbody>\n",
       "    <tr>\n",
       "      <th>0</th>\n",
       "      <td>дома</td>\n",
       "      <td>напаѓачка</td>\n",
       "      <td>сонце</td>\n",
       "      <td>0</td>\n",
       "      <td>да</td>\n",
       "    </tr>\n",
       "    <tr>\n",
       "      <th>1</th>\n",
       "      <td>дома</td>\n",
       "      <td>одбранбена</td>\n",
       "      <td>сонце</td>\n",
       "      <td>1</td>\n",
       "      <td>да</td>\n",
       "    </tr>\n",
       "    <tr>\n",
       "      <th>2</th>\n",
       "      <td>гости</td>\n",
       "      <td>одбранбена</td>\n",
       "      <td>сонце</td>\n",
       "      <td>0</td>\n",
       "      <td>да</td>\n",
       "    </tr>\n",
       "    <tr>\n",
       "      <th>3</th>\n",
       "      <td>дома</td>\n",
       "      <td>одбранбена</td>\n",
       "      <td>сонце</td>\n",
       "      <td>1</td>\n",
       "      <td>да</td>\n",
       "    </tr>\n",
       "    <tr>\n",
       "      <th>4</th>\n",
       "      <td>дома</td>\n",
       "      <td>одбранбена</td>\n",
       "      <td>дожд</td>\n",
       "      <td>1</td>\n",
       "      <td>да</td>\n",
       "    </tr>\n",
       "    <tr>\n",
       "      <th>5</th>\n",
       "      <td>гости</td>\n",
       "      <td>одбранбена</td>\n",
       "      <td>дожд</td>\n",
       "      <td>1</td>\n",
       "      <td>не</td>\n",
       "    </tr>\n",
       "    <tr>\n",
       "      <th>6</th>\n",
       "      <td>гости</td>\n",
       "      <td>напаѓачка</td>\n",
       "      <td>дожд</td>\n",
       "      <td>1</td>\n",
       "      <td>не</td>\n",
       "    </tr>\n",
       "    <tr>\n",
       "      <th>7</th>\n",
       "      <td>гости</td>\n",
       "      <td>одбранбена</td>\n",
       "      <td>дожд</td>\n",
       "      <td>0</td>\n",
       "      <td>не</td>\n",
       "    </tr>\n",
       "    <tr>\n",
       "      <th>8</th>\n",
       "      <td>гости</td>\n",
       "      <td>напаѓачка</td>\n",
       "      <td>дожд</td>\n",
       "      <td>1</td>\n",
       "      <td>не</td>\n",
       "    </tr>\n",
       "    <tr>\n",
       "      <th>9</th>\n",
       "      <td>гости</td>\n",
       "      <td>одбранбена</td>\n",
       "      <td>сонце</td>\n",
       "      <td>1</td>\n",
       "      <td>не</td>\n",
       "    </tr>\n",
       "  </tbody>\n",
       "</table>\n",
       "</div>"
      ],
      "text/plain": [
       "      f1          f2     f3  f4 Победа\n",
       "0   дома   напаѓачка  сонце   0     да\n",
       "1   дома  одбранбена  сонце   1     да\n",
       "2  гости  одбранбена  сонце   0     да\n",
       "3   дома  одбранбена  сонце   1     да\n",
       "4   дома  одбранбена   дожд   1     да\n",
       "5  гости  одбранбена   дожд   1     не\n",
       "6  гости   напаѓачка   дожд   1     не\n",
       "7  гости  одбранбена   дожд   0     не\n",
       "8  гости   напаѓачка   дожд   1     не\n",
       "9  гости  одбранбена  сонце   1     не"
      ]
     },
     "execution_count": 8,
     "metadata": {},
     "output_type": "execute_result"
    }
   ],
   "source": [
    "import pandas as pd\n",
    "\n",
    "df = pd.DataFrame(\n",
    "    [['дома', 'напаѓачка', 'сонце', 'одморени', 'да'],\n",
    "     ['дома', 'одбранбена', 'сонце', 'одморени', 'да'],\n",
    "     ['гости', 'одбранбена', 'сонце', 'одморени', 'да'],\n",
    "     ['дома', 'одбранбена', 'сонце', 'изморени', 'да'],\n",
    "     ['дома', 'одбранбена', 'дожд', 'одморени', 'да'],\n",
    "     ['гости', 'одбранбена', 'дожд', 'изморени', 'не'],\n",
    "     ['гости', 'напаѓачка', 'дожд', 'изморени', 'не'],\n",
    "     ['гости', 'одбранбена', 'дожд', 'изморени', 'не'],\n",
    "     ['гости', 'напаѓачка', 'дожд', 'одморени', 'не'],\n",
    "     ['гости', 'одбранбена', 'сонце', 'изморени', 'не']], columns=['Терен', 'Тактика', 'Време', 'Одмореност', 'Победа'])\n",
    "df"
   ]
  },
  {
   "cell_type": "code",
   "execution_count": null,
   "metadata": {},
   "outputs": [],
   "source": []
  },
  {
   "cell_type": "code",
   "execution_count": null,
   "metadata": {},
   "outputs": [],
   "source": []
  },
  {
   "cell_type": "code",
   "execution_count": null,
   "metadata": {},
   "outputs": [],
   "source": []
  },
  {
   "cell_type": "code",
   "execution_count": null,
   "metadata": {},
   "outputs": [],
   "source": []
  },
  {
   "cell_type": "code",
   "execution_count": null,
   "metadata": {},
   "outputs": [],
   "source": []
  },
  {
   "cell_type": "code",
   "execution_count": null,
   "metadata": {},
   "outputs": [],
   "source": []
  },
  {
   "cell_type": "code",
   "execution_count": null,
   "metadata": {},
   "outputs": [],
   "source": []
  },
  {
   "cell_type": "code",
   "execution_count": null,
   "metadata": {},
   "outputs": [],
   "source": []
  },
  {
   "cell_type": "code",
   "execution_count": null,
   "metadata": {},
   "outputs": [],
   "source": []
  },
  {
   "cell_type": "code",
   "execution_count": null,
   "metadata": {},
   "outputs": [],
   "source": []
  }
 ],
 "metadata": {
  "kernelspec": {
   "display_name": "Python 3",
   "language": "python",
   "name": "python3"
  },
  "language_info": {
   "codemirror_mode": {
    "name": "ipython",
    "version": 3
   },
   "file_extension": ".py",
   "mimetype": "text/x-python",
   "name": "python",
   "nbconvert_exporter": "python",
   "pygments_lexer": "ipython3",
   "version": "3.7.5"
  }
 },
 "nbformat": 4,
 "nbformat_minor": 2
}
