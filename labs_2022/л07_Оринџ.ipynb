{
 "cells": [
  {
   "cell_type": "markdown",
   "id": "94367124-e14c-46d1-84f9-fe756b5f30d2",
   "metadata": {
    "tags": []
   },
   "source": [
    "# Оринџ"
   ]
  },
  {
   "cell_type": "markdown",
   "id": "4db2fb4a-0cfb-4531-9825-930766ee7ac8",
   "metadata": {},
   "source": [
    "Целта на оваа лабораториска вежба е да се запознаете со интерактивната апликација [Orange](https://orangedatamining.com/). Следете ги првите 7 видеоупатства од [официјалниот канал](https://www.youtube.com/watch?v=HXjnDIgGDuI&list=PLmNPvQr9Tf-ZSDLwOzxpvY-HrE0yv-8Fy) на Оринџ на Јутјуб. Упатства за инсталирање ќе најдете на [официјалниот профил](https://github.com/biolab/orange3) на Гитхаб."
   ]
  },
  {
   "cell_type": "code",
   "execution_count": null,
   "id": "c3078061",
   "metadata": {},
   "outputs": [],
   "source": []
  },
  {
   "cell_type": "code",
   "execution_count": null,
   "id": "54699c5e",
   "metadata": {},
   "outputs": [],
   "source": []
  },
  {
   "cell_type": "code",
   "execution_count": null,
   "id": "8d9b9260",
   "metadata": {},
   "outputs": [],
   "source": []
  }
 ],
 "metadata": {
  "kernelspec": {
   "display_name": "Python 3 (ipykernel)",
   "language": "python",
   "name": "python3"
  },
  "language_info": {
   "codemirror_mode": {
    "name": "ipython",
    "version": 3
   },
   "file_extension": ".py",
   "mimetype": "text/x-python",
   "name": "python",
   "nbconvert_exporter": "python",
   "pygments_lexer": "ipython3",
   "version": "3.10.8"
  }
 },
 "nbformat": 4,
 "nbformat_minor": 5
}
