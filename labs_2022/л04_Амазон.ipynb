{
 "cells": [
  {
   "cell_type": "markdown",
   "id": "e325e5c9",
   "metadata": {
    "tags": []
   },
   "source": [
    "# Амазон"
   ]
  },
  {
   "cell_type": "markdown",
   "id": "37d99a43",
   "metadata": {},
   "source": [
    "Имате задача да создадете вештачка интелигенција која ќе умее да ја игра играта [Амазон](https://en.wikipedia.org/wiki/Game_of_the_Amazons).\n",
    "\n",
    "За пример-решение, следете го решението на истата игра од аудиториските вежби.\n",
    "\n",
    "Целта е да напишете функција за проценка на победникот на играта, за произволна табла. Оваа функција ќе се повикува од главната функција минимакс за да не мора минимакс да разгранува до крај, па во логично време да добие најдобар потег.\n",
    "\n",
    "За поедноставна работа, применете ги овие измени:\n",
    "- Наместо по две кралици, играчите во играта нека имаат по една кралица.\n",
    "- Наместо 10х10, таблата нека има димензии 6х6."
   ]
  },
  {
   "cell_type": "code",
   "execution_count": null,
   "id": "e3395917-73a4-4475-8097-d42f401cfc56",
   "metadata": {},
   "outputs": [],
   "source": []
  },
  {
   "cell_type": "code",
   "execution_count": null,
   "id": "38608ad7-fd7e-4a09-8d04-0783c709b1ab",
   "metadata": {},
   "outputs": [],
   "source": []
  },
  {
   "cell_type": "code",
   "execution_count": null,
   "id": "bdbfb356",
   "metadata": {},
   "outputs": [],
   "source": []
  }
 ],
 "metadata": {
  "kernelspec": {
   "display_name": "Python 3 (ipykernel)",
   "language": "python",
   "name": "python3"
  },
  "language_info": {
   "codemirror_mode": {
    "name": "ipython",
    "version": 3
   },
   "file_extension": ".py",
   "mimetype": "text/x-python",
   "name": "python",
   "nbconvert_exporter": "python",
   "pygments_lexer": "ipython3",
   "version": "3.10.8"
  }
 },
 "nbformat": 4,
 "nbformat_minor": 5
}
