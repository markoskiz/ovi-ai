{
 "cells": [
  {
   "cell_type": "markdown",
   "id": "389a6c7b-92de-412d-a029-aa2524de424d",
   "metadata": {
    "tags": []
   },
   "source": [
    "# Најкратка патека за коњот во шахот"
   ]
  },
  {
   "cell_type": "markdown",
   "id": "4f7a3321-3ad8-4830-bd05-33fa52ce27a9",
   "metadata": {},
   "source": [
    "Користејќи ја шаховската фигура коњ, најдете ја најкратката патека од едно до друго поле на шаховската табла."
   ]
  },
  {
   "cell_type": "code",
   "execution_count": 4,
   "id": "ded438a0-c85b-4b19-a94b-23632a700454",
   "metadata": {},
   "outputs": [],
   "source": [
    "import chess as chess"
   ]
  },
  {
   "cell_type": "code",
   "execution_count": null,
   "id": "c6a8938e-bab6-40b7-bc66-9a27e1da6000",
   "metadata": {},
   "outputs": [],
   "source": []
  },
  {
   "cell_type": "code",
   "execution_count": null,
   "id": "ddc03996-cfc7-4150-81a8-9301228b237e",
   "metadata": {},
   "outputs": [],
   "source": []
  },
  {
   "cell_type": "code",
   "execution_count": null,
   "id": "044bd50e",
   "metadata": {},
   "outputs": [],
   "source": []
  },
  {
   "cell_type": "code",
   "execution_count": null,
   "id": "151496a0",
   "metadata": {},
   "outputs": [],
   "source": []
  }
 ],
 "metadata": {
  "kernelspec": {
   "display_name": "Python 3 (ipykernel)",
   "language": "python",
   "name": "python3"
  },
  "language_info": {
   "codemirror_mode": {
    "name": "ipython",
    "version": 3
   },
   "file_extension": ".py",
   "mimetype": "text/x-python",
   "name": "python",
   "nbconvert_exporter": "python",
   "pygments_lexer": "ipython3",
   "version": "3.11.5"
  }
 },
 "nbformat": 4,
 "nbformat_minor": 5
}
