{
 "cells": [
  {
   "cell_type": "markdown",
   "metadata": {},
   "source": [
    "# Оваа датотека служи за прибирање на податоци од страната на Државни патишта"
   ]
  },
  {
   "cell_type": "code",
   "execution_count": 83,
   "metadata": {},
   "outputs": [],
   "source": [
    "from selenium import webdriver\n",
    "import pandas as pd"
   ]
  },
  {
   "cell_type": "code",
   "execution_count": 91,
   "metadata": {},
   "outputs": [],
   "source": [
    "driver = webdriver.Firefox()"
   ]
  },
  {
   "cell_type": "code",
   "execution_count": 85,
   "metadata": {},
   "outputs": [],
   "source": [
    "driver.get('http://185.229.27.3/roads/index.php?l=mk')"
   ]
  },
  {
   "cell_type": "code",
   "execution_count": 44,
   "metadata": {},
   "outputs": [],
   "source": [
    "roads_dict = {}"
   ]
  },
  {
   "cell_type": "markdown",
   "metadata": {},
   "source": [
    "### Изборот во паѓачкото мени се избира рачно"
   ]
  },
  {
   "cell_type": "code",
   "execution_count": 166,
   "metadata": {},
   "outputs": [
    {
     "data": {
      "text/plain": [
       "'Прикажани 1 до 1 од 1 записи'"
      ]
     },
     "execution_count": 166,
     "metadata": {},
     "output_type": "execute_result"
    }
   ],
   "source": [
    "selection = driver.find_element_by_class_name('selection')\n",
    "road_name = selection.text.lstrip('×').strip()\n",
    "road_id = road_name.split()[0]\n",
    "table_html = driver.find_element_by_id('road-sections').get_attribute('outerHTML')\n",
    "table = pd.read_html(table_html)[0]\n",
    "folder = 'roads'\n",
    "table.to_csv(f'{folder}/{road_id}.csv', index=False)\n",
    "roads_dict[road_id] = road_name\n",
    "driver.find_element_by_id('road-sections_info').text"
   ]
  },
  {
   "cell_type": "code",
   "execution_count": 172,
   "metadata": {},
   "outputs": [],
   "source": [
    "pd.DataFrame(roads_dict.items(), columns=['Кратенка', 'Опис на патот']).to_csv(f'{folder}/roads_info.csv', index=False)"
   ]
  },
  {
   "cell_type": "markdown",
   "metadata": {},
   "source": [
    "## Скрепање на координати на клучките"
   ]
  },
  {
   "cell_type": "code",
   "execution_count": 20,
   "metadata": {},
   "outputs": [],
   "source": [
    "from time import sleep"
   ]
  },
  {
   "cell_type": "code",
   "execution_count": 39,
   "metadata": {},
   "outputs": [
    {
     "data": {
      "text/plain": [
       "10"
      ]
     },
     "execution_count": 39,
     "metadata": {},
     "output_type": "execute_result"
    }
   ],
   "source": [
    "open('coordinates.csv', 'w').write('Јазол,X,Y\\n')"
   ]
  },
  {
   "cell_type": "code",
   "execution_count": 92,
   "metadata": {},
   "outputs": [
    {
     "name": "stdout",
     "output_type": "stream",
     "text": [
      "838 Не се вчитува\n",
      "839 Не се вчитува\n",
      "840 Не се вчитува\n",
      "841 Не се вчитува\n",
      "842 Не се вчитува\n",
      "843 Не се вчитува\n",
      "844 Не се вчитува\n",
      "845 Не се вчитува\n",
      "846 Не се вчитува\n",
      "847 Не се вчитува\n",
      "848 Не се вчитува\n",
      "849 Не се вчитува\n"
     ]
    }
   ],
   "source": [
    "for i in range(838, 850):\n",
    "    driver.get(f'http://185.229.27.3/roads/files/Nodes/RAMS_report-Node__{i}.pdf')\n",
    "    sleep(3)\n",
    "    try:\n",
    "        if driver.find_element_by_xpath('/html/body/h1').text == 'Not Found':\n",
    "            print(f'{i} Не се вчитува')\n",
    "            continue\n",
    "    except:\n",
    "        pass\n",
    "    x, y, _ = driver.find_elements_by_xpath('/html/body/div[1]/div[2]/div[4]/div/div/div[2]/*')[-3:]\n",
    "    x = float(x.text.strip().replace(',', '.'))\n",
    "    y = float(y.text.strip().replace(',', '.'))\n",
    "    open('coordinates.csv', 'a').write(f'{i},{x},{y}\\n')"
   ]
  },
  {
   "cell_type": "code",
   "execution_count": null,
   "metadata": {},
   "outputs": [],
   "source": []
  },
  {
   "cell_type": "code",
   "execution_count": null,
   "metadata": {},
   "outputs": [],
   "source": []
  },
  {
   "cell_type": "code",
   "execution_count": null,
   "metadata": {},
   "outputs": [],
   "source": []
  },
  {
   "cell_type": "code",
   "execution_count": null,
   "metadata": {},
   "outputs": [],
   "source": []
  }
 ],
 "metadata": {
  "kernelspec": {
   "display_name": "Python 3",
   "language": "python",
   "name": "python3"
  },
  "language_info": {
   "codemirror_mode": {
    "name": "ipython",
    "version": 3
   },
   "file_extension": ".py",
   "mimetype": "text/x-python",
   "name": "python",
   "nbconvert_exporter": "python",
   "pygments_lexer": "ipython3",
   "version": "3.8.3"
  }
 },
 "nbformat": 4,
 "nbformat_minor": 4
}
